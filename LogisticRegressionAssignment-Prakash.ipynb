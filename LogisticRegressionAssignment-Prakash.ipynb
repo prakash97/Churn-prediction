{
 "cells": [
  {
   "cell_type": "markdown",
   "metadata": {},
   "source": [
    "# Import all necessary packages"
   ]
  },
  {
   "cell_type": "code",
   "execution_count": 394,
   "metadata": {},
   "outputs": [],
   "source": [
    "import pandas as pd\n",
    "import numpy as np\n",
    "import seaborn as sns\n",
    "from sklearn import preprocessing\n",
    "import matplotlib.pyplot as plt\n",
    "from sklearn.model_selection import train_test_split,GridSearchCV,KFold\n",
    "from sklearn.linear_model import LogisticRegression,LogisticRegressionCV\n",
    "from sklearn.model_selection import cross_val_score\n",
    "from sklearn.metrics import confusion_matrix,log_loss,accuracy_score,confusion_matrix,roc_curve,auc, precision_score,classification_report,roc_auc_score,cohen_kappa_score\n",
    "import warnings\n",
    "warnings.filterwarnings(\"ignore\", category=DeprecationWarning)\n",
    "from imblearn.over_sampling import SMOTE\n",
    "from imblearn.under_sampling import NearMiss\n",
    "from sklearn.feature_selection import SelectKBest \n",
    "from sklearn.feature_selection import chi2 \n",
    "warnings.simplefilter(\"ignore\")\n",
    "from scipy import stats\n",
    "from scipy.stats import chi2_contingency\n",
    "import researchpy as rp\n",
    "import scipy.stats as scipystats\n",
    "import statsmodels.api as sm\n",
    "import statsmodels.stats.stattools as stools\n",
    "import statsmodels.stats as stats \n",
    "from statsmodels.graphics.gofplots import ProbPlot\n",
    "from statsmodels.graphics.regressionplots import *\n",
    "import matplotlib.pyplot as plt\n",
    "import seaborn as sns\n",
    "from sklearn import linear_model\n",
    "import copy\n",
    "import math\n",
    "import time\n",
    "from scipy import stats\n",
    "import statsmodels.stats.api as sms\n",
    "import statsmodels.stats.stattools as stools\n",
    "from patsy import dmatrices\n",
    "from statsmodels.stats.outliers_influence import variance_inflation_factor\n",
    "import statsmodels.formula.api as smf"
   ]
  },
  {
   "cell_type": "code",
   "execution_count": 395,
   "metadata": {},
   "outputs": [],
   "source": [
    "df=pd.read_csv(\"D:/DS Training Videos/ML algo script/2.Logistic Regression/pychurn.csv\",sep=',')"
   ]
  },
  {
   "cell_type": "code",
   "execution_count": 396,
   "metadata": {},
   "outputs": [
    {
     "name": "stdout",
     "output_type": "stream",
     "text": [
      "Shape of dataframe: (1840, 19)\n"
     ]
    }
   ],
   "source": [
    "print(\"Shape of dataframe:\",df.shape)"
   ]
  },
  {
   "cell_type": "code",
   "execution_count": 397,
   "metadata": {},
   "outputs": [
    {
     "data": {
      "text/html": [
       "<div>\n",
       "<style scoped>\n",
       "    .dataframe tbody tr th:only-of-type {\n",
       "        vertical-align: middle;\n",
       "    }\n",
       "\n",
       "    .dataframe tbody tr th {\n",
       "        vertical-align: top;\n",
       "    }\n",
       "\n",
       "    .dataframe thead th {\n",
       "        text-align: right;\n",
       "    }\n",
       "</style>\n",
       "<table border=\"1\" class=\"dataframe\">\n",
       "  <thead>\n",
       "    <tr style=\"text-align: right;\">\n",
       "      <th></th>\n",
       "      <th>Unnamed: 0</th>\n",
       "      <th>account.length</th>\n",
       "      <th>number.vmail.messages</th>\n",
       "      <th>total.day.minutes</th>\n",
       "      <th>total.day.calls</th>\n",
       "      <th>total.day.charge</th>\n",
       "      <th>total.eve.minutes</th>\n",
       "      <th>total.eve.calls</th>\n",
       "      <th>total.eve.charge</th>\n",
       "      <th>total.night.minutes</th>\n",
       "      <th>total.night.calls</th>\n",
       "      <th>total.night.charge</th>\n",
       "      <th>total.intl.minutes</th>\n",
       "      <th>total.intl.calls</th>\n",
       "      <th>total.intl.charge</th>\n",
       "      <th>number.customer.service.calls</th>\n",
       "    </tr>\n",
       "  </thead>\n",
       "  <tbody>\n",
       "    <tr>\n",
       "      <th>count</th>\n",
       "      <td>1840.000000</td>\n",
       "      <td>1840.000000</td>\n",
       "      <td>1840.000000</td>\n",
       "      <td>1840.000000</td>\n",
       "      <td>1840.000000</td>\n",
       "      <td>1840.000000</td>\n",
       "      <td>1840.000000</td>\n",
       "      <td>1840.000000</td>\n",
       "      <td>1840.000000</td>\n",
       "      <td>1840.000000</td>\n",
       "      <td>1840.000000</td>\n",
       "      <td>1840.000000</td>\n",
       "      <td>1840.000000</td>\n",
       "      <td>1840.000000</td>\n",
       "      <td>1840.000000</td>\n",
       "      <td>1840.000000</td>\n",
       "    </tr>\n",
       "    <tr>\n",
       "      <th>mean</th>\n",
       "      <td>920.500000</td>\n",
       "      <td>99.652717</td>\n",
       "      <td>8.540761</td>\n",
       "      <td>180.179402</td>\n",
       "      <td>100.269565</td>\n",
       "      <td>30.631027</td>\n",
       "      <td>200.407065</td>\n",
       "      <td>100.209239</td>\n",
       "      <td>17.034793</td>\n",
       "      <td>200.219022</td>\n",
       "      <td>100.450543</td>\n",
       "      <td>9.009918</td>\n",
       "      <td>10.208043</td>\n",
       "      <td>4.499457</td>\n",
       "      <td>2.756707</td>\n",
       "      <td>1.542935</td>\n",
       "    </tr>\n",
       "    <tr>\n",
       "      <th>std</th>\n",
       "      <td>531.306566</td>\n",
       "      <td>39.937792</td>\n",
       "      <td>14.007901</td>\n",
       "      <td>54.049201</td>\n",
       "      <td>19.999379</td>\n",
       "      <td>9.188340</td>\n",
       "      <td>51.226070</td>\n",
       "      <td>19.827786</td>\n",
       "      <td>4.354181</td>\n",
       "      <td>51.376336</td>\n",
       "      <td>19.565585</td>\n",
       "      <td>2.311955</td>\n",
       "      <td>2.797393</td>\n",
       "      <td>2.501549</td>\n",
       "      <td>0.755324</td>\n",
       "      <td>1.304739</td>\n",
       "    </tr>\n",
       "    <tr>\n",
       "      <th>min</th>\n",
       "      <td>1.000000</td>\n",
       "      <td>1.000000</td>\n",
       "      <td>0.000000</td>\n",
       "      <td>0.000000</td>\n",
       "      <td>0.000000</td>\n",
       "      <td>0.000000</td>\n",
       "      <td>31.200000</td>\n",
       "      <td>12.000000</td>\n",
       "      <td>2.650000</td>\n",
       "      <td>23.200000</td>\n",
       "      <td>42.000000</td>\n",
       "      <td>1.040000</td>\n",
       "      <td>0.000000</td>\n",
       "      <td>0.000000</td>\n",
       "      <td>0.000000</td>\n",
       "      <td>0.000000</td>\n",
       "    </tr>\n",
       "    <tr>\n",
       "      <th>25%</th>\n",
       "      <td>460.750000</td>\n",
       "      <td>73.000000</td>\n",
       "      <td>0.000000</td>\n",
       "      <td>145.000000</td>\n",
       "      <td>87.000000</td>\n",
       "      <td>24.650000</td>\n",
       "      <td>165.900000</td>\n",
       "      <td>87.000000</td>\n",
       "      <td>14.100000</td>\n",
       "      <td>166.975000</td>\n",
       "      <td>87.000000</td>\n",
       "      <td>7.517500</td>\n",
       "      <td>8.400000</td>\n",
       "      <td>3.000000</td>\n",
       "      <td>2.270000</td>\n",
       "      <td>1.000000</td>\n",
       "    </tr>\n",
       "    <tr>\n",
       "      <th>50%</th>\n",
       "      <td>920.500000</td>\n",
       "      <td>98.500000</td>\n",
       "      <td>0.000000</td>\n",
       "      <td>180.800000</td>\n",
       "      <td>100.500000</td>\n",
       "      <td>30.735000</td>\n",
       "      <td>202.250000</td>\n",
       "      <td>101.000000</td>\n",
       "      <td>17.195000</td>\n",
       "      <td>200.650000</td>\n",
       "      <td>101.000000</td>\n",
       "      <td>9.030000</td>\n",
       "      <td>10.200000</td>\n",
       "      <td>4.000000</td>\n",
       "      <td>2.750000</td>\n",
       "      <td>1.000000</td>\n",
       "    </tr>\n",
       "    <tr>\n",
       "      <th>75%</th>\n",
       "      <td>1380.250000</td>\n",
       "      <td>127.000000</td>\n",
       "      <td>21.250000</td>\n",
       "      <td>216.800000</td>\n",
       "      <td>113.000000</td>\n",
       "      <td>36.860000</td>\n",
       "      <td>234.550000</td>\n",
       "      <td>114.000000</td>\n",
       "      <td>19.935000</td>\n",
       "      <td>236.425000</td>\n",
       "      <td>114.000000</td>\n",
       "      <td>10.640000</td>\n",
       "      <td>12.000000</td>\n",
       "      <td>6.000000</td>\n",
       "      <td>3.240000</td>\n",
       "      <td>2.000000</td>\n",
       "    </tr>\n",
       "    <tr>\n",
       "      <th>max</th>\n",
       "      <td>1840.000000</td>\n",
       "      <td>243.000000</td>\n",
       "      <td>51.000000</td>\n",
       "      <td>350.800000</td>\n",
       "      <td>165.000000</td>\n",
       "      <td>59.640000</td>\n",
       "      <td>351.600000</td>\n",
       "      <td>168.000000</td>\n",
       "      <td>29.890000</td>\n",
       "      <td>381.900000</td>\n",
       "      <td>175.000000</td>\n",
       "      <td>17.190000</td>\n",
       "      <td>20.000000</td>\n",
       "      <td>19.000000</td>\n",
       "      <td>5.400000</td>\n",
       "      <td>9.000000</td>\n",
       "    </tr>\n",
       "  </tbody>\n",
       "</table>\n",
       "</div>"
      ],
      "text/plain": [
       "        Unnamed: 0  account.length  number.vmail.messages  total.day.minutes  \\\n",
       "count  1840.000000     1840.000000            1840.000000        1840.000000   \n",
       "mean    920.500000       99.652717               8.540761         180.179402   \n",
       "std     531.306566       39.937792              14.007901          54.049201   \n",
       "min       1.000000        1.000000               0.000000           0.000000   \n",
       "25%     460.750000       73.000000               0.000000         145.000000   \n",
       "50%     920.500000       98.500000               0.000000         180.800000   \n",
       "75%    1380.250000      127.000000              21.250000         216.800000   \n",
       "max    1840.000000      243.000000              51.000000         350.800000   \n",
       "\n",
       "       total.day.calls  total.day.charge  total.eve.minutes  total.eve.calls  \\\n",
       "count      1840.000000       1840.000000        1840.000000      1840.000000   \n",
       "mean        100.269565         30.631027         200.407065       100.209239   \n",
       "std          19.999379          9.188340          51.226070        19.827786   \n",
       "min           0.000000          0.000000          31.200000        12.000000   \n",
       "25%          87.000000         24.650000         165.900000        87.000000   \n",
       "50%         100.500000         30.735000         202.250000       101.000000   \n",
       "75%         113.000000         36.860000         234.550000       114.000000   \n",
       "max         165.000000         59.640000         351.600000       168.000000   \n",
       "\n",
       "       total.eve.charge  total.night.minutes  total.night.calls  \\\n",
       "count       1840.000000          1840.000000        1840.000000   \n",
       "mean          17.034793           200.219022         100.450543   \n",
       "std            4.354181            51.376336          19.565585   \n",
       "min            2.650000            23.200000          42.000000   \n",
       "25%           14.100000           166.975000          87.000000   \n",
       "50%           17.195000           200.650000         101.000000   \n",
       "75%           19.935000           236.425000         114.000000   \n",
       "max           29.890000           381.900000         175.000000   \n",
       "\n",
       "       total.night.charge  total.intl.minutes  total.intl.calls  \\\n",
       "count         1840.000000         1840.000000       1840.000000   \n",
       "mean             9.009918           10.208043          4.499457   \n",
       "std              2.311955            2.797393          2.501549   \n",
       "min              1.040000            0.000000          0.000000   \n",
       "25%              7.517500            8.400000          3.000000   \n",
       "50%              9.030000           10.200000          4.000000   \n",
       "75%             10.640000           12.000000          6.000000   \n",
       "max             17.190000           20.000000         19.000000   \n",
       "\n",
       "       total.intl.charge  number.customer.service.calls  \n",
       "count        1840.000000                    1840.000000  \n",
       "mean            2.756707                       1.542935  \n",
       "std             0.755324                       1.304739  \n",
       "min             0.000000                       0.000000  \n",
       "25%             2.270000                       1.000000  \n",
       "50%             2.750000                       1.000000  \n",
       "75%             3.240000                       2.000000  \n",
       "max             5.400000                       9.000000  "
      ]
     },
     "execution_count": 397,
     "metadata": {},
     "output_type": "execute_result"
    }
   ],
   "source": [
    "df.describe()"
   ]
  },
  {
   "cell_type": "code",
   "execution_count": 398,
   "metadata": {},
   "outputs": [
    {
     "data": {
      "text/plain": [
       " False.    1603\n",
       " True.      237\n",
       "Name: churn, dtype: int64"
      ]
     },
     "execution_count": 398,
     "metadata": {},
     "output_type": "execute_result"
    }
   ],
   "source": [
    "df['churn'].value_counts()"
   ]
  },
  {
   "cell_type": "code",
   "execution_count": 399,
   "metadata": {},
   "outputs": [
    {
     "data": {
      "text/plain": [
       "Unnamed: 0                         int64\n",
       "account.length                     int64\n",
       "international.plan                object\n",
       "voice.mail.plan                   object\n",
       "number.vmail.messages              int64\n",
       "total.day.minutes                float64\n",
       "total.day.calls                    int64\n",
       "total.day.charge                 float64\n",
       "total.eve.minutes                float64\n",
       "total.eve.calls                    int64\n",
       "total.eve.charge                 float64\n",
       "total.night.minutes              float64\n",
       "total.night.calls                  int64\n",
       "total.night.charge               float64\n",
       "total.intl.minutes               float64\n",
       "total.intl.calls                   int64\n",
       "total.intl.charge                float64\n",
       "number.customer.service.calls      int64\n",
       "churn                             object\n",
       "dtype: object"
      ]
     },
     "execution_count": 399,
     "metadata": {},
     "output_type": "execute_result"
    }
   ],
   "source": [
    "df.dtypes"
   ]
  },
  {
   "cell_type": "code",
   "execution_count": 400,
   "metadata": {},
   "outputs": [
    {
     "name": "stdout",
     "output_type": "stream",
     "text": [
      "<class 'pandas.core.frame.DataFrame'>\n",
      "RangeIndex: 1840 entries, 0 to 1839\n",
      "Data columns (total 19 columns):\n",
      "Unnamed: 0                       1840 non-null int64\n",
      "account.length                   1840 non-null int64\n",
      "international.plan               1840 non-null object\n",
      "voice.mail.plan                  1840 non-null object\n",
      "number.vmail.messages            1840 non-null int64\n",
      "total.day.minutes                1840 non-null float64\n",
      "total.day.calls                  1840 non-null int64\n",
      "total.day.charge                 1840 non-null float64\n",
      "total.eve.minutes                1840 non-null float64\n",
      "total.eve.calls                  1840 non-null int64\n",
      "total.eve.charge                 1840 non-null float64\n",
      "total.night.minutes              1840 non-null float64\n",
      "total.night.calls                1840 non-null int64\n",
      "total.night.charge               1840 non-null float64\n",
      "total.intl.minutes               1840 non-null float64\n",
      "total.intl.calls                 1840 non-null int64\n",
      "total.intl.charge                1840 non-null float64\n",
      "number.customer.service.calls    1840 non-null int64\n",
      "churn                            1840 non-null object\n",
      "dtypes: float64(8), int64(8), object(3)\n",
      "memory usage: 273.2+ KB\n"
     ]
    }
   ],
   "source": [
    "df.info()"
   ]
  },
  {
   "cell_type": "code",
   "execution_count": 401,
   "metadata": {},
   "outputs": [
    {
     "data": {
      "text/html": [
       "<div>\n",
       "<style scoped>\n",
       "    .dataframe tbody tr th:only-of-type {\n",
       "        vertical-align: middle;\n",
       "    }\n",
       "\n",
       "    .dataframe tbody tr th {\n",
       "        vertical-align: top;\n",
       "    }\n",
       "\n",
       "    .dataframe thead th {\n",
       "        text-align: right;\n",
       "    }\n",
       "</style>\n",
       "<table border=\"1\" class=\"dataframe\">\n",
       "  <thead>\n",
       "    <tr style=\"text-align: right;\">\n",
       "      <th></th>\n",
       "      <th>Variable</th>\n",
       "      <th>Outcome</th>\n",
       "      <th>Count</th>\n",
       "      <th>Percent</th>\n",
       "    </tr>\n",
       "  </thead>\n",
       "  <tbody>\n",
       "    <tr>\n",
       "      <th>0</th>\n",
       "      <td>international.plan</td>\n",
       "      <td>no</td>\n",
       "      <td>1660</td>\n",
       "      <td>90.22</td>\n",
       "    </tr>\n",
       "    <tr>\n",
       "      <th>1</th>\n",
       "      <td></td>\n",
       "      <td>yes</td>\n",
       "      <td>180</td>\n",
       "      <td>9.78</td>\n",
       "    </tr>\n",
       "    <tr>\n",
       "      <th>2</th>\n",
       "      <td>voice.mail.plan</td>\n",
       "      <td>no</td>\n",
       "      <td>1310</td>\n",
       "      <td>71.20</td>\n",
       "    </tr>\n",
       "    <tr>\n",
       "      <th>3</th>\n",
       "      <td></td>\n",
       "      <td>yes</td>\n",
       "      <td>530</td>\n",
       "      <td>28.80</td>\n",
       "    </tr>\n",
       "  </tbody>\n",
       "</table>\n",
       "</div>"
      ],
      "text/plain": [
       "             Variable Outcome  Count  Percent\n",
       "0  international.plan      no   1660    90.22\n",
       "1                         yes    180     9.78\n",
       "2     voice.mail.plan      no   1310    71.20\n",
       "3                         yes    530    28.80"
      ]
     },
     "execution_count": 401,
     "metadata": {},
     "output_type": "execute_result"
    }
   ],
   "source": [
    "rp.summary_cat(df[[\"international.plan\", \"voice.mail.plan\"]])"
   ]
  },
  {
   "cell_type": "markdown",
   "metadata": {},
   "source": [
    "# Label encoding to convert string to numeric"
   ]
  },
  {
   "cell_type": "code",
   "execution_count": 402,
   "metadata": {},
   "outputs": [
    {
     "data": {
      "text/html": [
       "<div>\n",
       "<style scoped>\n",
       "    .dataframe tbody tr th:only-of-type {\n",
       "        vertical-align: middle;\n",
       "    }\n",
       "\n",
       "    .dataframe tbody tr th {\n",
       "        vertical-align: top;\n",
       "    }\n",
       "\n",
       "    .dataframe thead th {\n",
       "        text-align: right;\n",
       "    }\n",
       "</style>\n",
       "<table border=\"1\" class=\"dataframe\">\n",
       "  <thead>\n",
       "    <tr style=\"text-align: right;\">\n",
       "      <th></th>\n",
       "      <th>international.plan</th>\n",
       "      <th>voice.mail.plan</th>\n",
       "      <th>churn</th>\n",
       "    </tr>\n",
       "  </thead>\n",
       "  <tbody>\n",
       "    <tr>\n",
       "      <th>0</th>\n",
       "      <td>0</td>\n",
       "      <td>1</td>\n",
       "      <td>0</td>\n",
       "    </tr>\n",
       "    <tr>\n",
       "      <th>1</th>\n",
       "      <td>0</td>\n",
       "      <td>1</td>\n",
       "      <td>0</td>\n",
       "    </tr>\n",
       "    <tr>\n",
       "      <th>2</th>\n",
       "      <td>0</td>\n",
       "      <td>0</td>\n",
       "      <td>0</td>\n",
       "    </tr>\n",
       "    <tr>\n",
       "      <th>3</th>\n",
       "      <td>1</td>\n",
       "      <td>0</td>\n",
       "      <td>0</td>\n",
       "    </tr>\n",
       "    <tr>\n",
       "      <th>4</th>\n",
       "      <td>1</td>\n",
       "      <td>0</td>\n",
       "      <td>0</td>\n",
       "    </tr>\n",
       "    <tr>\n",
       "      <th>5</th>\n",
       "      <td>1</td>\n",
       "      <td>0</td>\n",
       "      <td>0</td>\n",
       "    </tr>\n",
       "    <tr>\n",
       "      <th>6</th>\n",
       "      <td>0</td>\n",
       "      <td>1</td>\n",
       "      <td>0</td>\n",
       "    </tr>\n",
       "    <tr>\n",
       "      <th>7</th>\n",
       "      <td>1</td>\n",
       "      <td>0</td>\n",
       "      <td>0</td>\n",
       "    </tr>\n",
       "    <tr>\n",
       "      <th>8</th>\n",
       "      <td>0</td>\n",
       "      <td>0</td>\n",
       "      <td>0</td>\n",
       "    </tr>\n",
       "    <tr>\n",
       "      <th>9</th>\n",
       "      <td>1</td>\n",
       "      <td>1</td>\n",
       "      <td>0</td>\n",
       "    </tr>\n",
       "  </tbody>\n",
       "</table>\n",
       "</div>"
      ],
      "text/plain": [
       "   international.plan  voice.mail.plan  churn\n",
       "0                   0                1      0\n",
       "1                   0                1      0\n",
       "2                   0                0      0\n",
       "3                   1                0      0\n",
       "4                   1                0      0\n",
       "5                   1                0      0\n",
       "6                   0                1      0\n",
       "7                   1                0      0\n",
       "8                   0                0      0\n",
       "9                   1                1      0"
      ]
     },
     "execution_count": 402,
     "metadata": {},
     "output_type": "execute_result"
    }
   ],
   "source": [
    "df2=df.select_dtypes(include=[object])\n",
    "le=preprocessing.LabelEncoder()\n",
    "df2=df2.apply(le.fit_transform)\n",
    "df2.head(10)"
   ]
  },
  {
   "cell_type": "markdown",
   "metadata": {},
   "source": [
    "Dataframe is loaded with numeric value for categorical variables"
   ]
  },
  {
   "cell_type": "code",
   "execution_count": 403,
   "metadata": {},
   "outputs": [],
   "source": [
    "for col in df2.columns:\n",
    "    df[col]=df2[col]"
   ]
  },
  {
   "cell_type": "markdown",
   "metadata": {},
   "source": [
    "# Histogram"
   ]
  },
  {
   "cell_type": "code",
   "execution_count": 404,
   "metadata": {},
   "outputs": [
    {
     "data": {
      "image/png": "[encoded data removed]",
      "text/plain": [
       "<Figure size 1296x1296 with 1 Axes>"
      ]
     },
     "metadata": {},
     "output_type": "display_data"
    },
    {
     "data": {
      "image/png": "[encoded data removed]",
      "text/plain": [
       "<Figure size 432x288 with 1 Axes>"
      ]
     },
     "metadata": {},
     "output_type": "display_data"
    },
    {
     "data": {
      "image/png": "[encoded data removed]",
      "text/plain": [
       "<Figure size 432x288 with 1 Axes>"
      ]
     },
     "metadata": {},
     "output_type": "display_data"
    },
    {
     "data": {
      "image/png": "[encoded data removed]",
      "text/plain": [
       "<Figure size 432x288 with 1 Axes>"
      ]
     },
     "metadata": {},
     "output_type": "display_data"
    },
    {
     "data": {
      "image/png": "[encoded data removed]",
      "text/plain": [
       "<Figure size 432x288 with 1 Axes>"
      ]
     },
     "metadata": {},
     "output_type": "display_data"
    },
    {
     "data": {
      "image/png": "[encoded data removed]",
      "text/plain": [
       "<Figure size 432x288 with 1 Axes>"
      ]
     },
     "metadata": {},
     "output_type": "display_data"
    },
    {
     "data": {
      "image/png": "[encoded data removed]",
      "text/plain": [
       "<Figure size 432x288 with 1 Axes>"
      ]
     },
     "metadata": {},
     "output_type": "display_data"
    },
    {
     "data": {
      "image/png": "[encoded data removed]",
      "text/plain": [
       "<Figure size 432x288 with 1 Axes>"
      ]
     },
     "metadata": {},
     "output_type": "display_data"
    },
    {
     "data": {
      "image/png": "[encoded data removed]",
      "text/plain": [
       "<Figure size 432x288 with 1 Axes>"
      ]
     },
     "metadata": {},
     "output_type": "display_data"
    },
    {
     "data": {
      "image/png": "[encoded data removed]",
      "text/plain": [
       "<Figure size 432x288 with 1 Axes>"
      ]
     },
     "metadata": {},
     "output_type": "display_data"
    },
    {
     "data": {
      "image/png": "[encoded data removed]",
      "text/plain": [
       "<Figure size 432x288 with 1 Axes>"
      ]
     },
     "metadata": {},
     "output_type": "display_data"
    },
    {
     "data": {
      "image/png": "[encoded data removed]",
      "text/plain": [
       "<Figure size 432x288 with 1 Axes>"
      ]
     },
     "metadata": {},
     "output_type": "display_data"
    },
    {
     "data": {
      "image/png": "[encoded data removed]",
      "text/plain": [
       "<Figure size 432x288 with 1 Axes>"
      ]
     },
     "metadata": {},
     "output_type": "display_data"
    },
    {
     "data": {
      "image/png": "[encoded data removed]",
      "text/plain": [
       "<Figure size 432x288 with 1 Axes>"
      ]
     },
     "metadata": {},
     "output_type": "display_data"
    },
    {
     "data": {
      "image/png": "[encoded data removed]",
      "text/plain": [
       "<Figure size 432x288 with 1 Axes>"
      ]
     },
     "metadata": {},
     "output_type": "display_data"
    },
    {
     "data": {
      "image/png": "[encoded data removed]",
      "text/plain": [
       "<Figure size 432x288 with 1 Axes>"
      ]
     },
     "metadata": {},
     "output_type": "display_data"
    },
    {
     "ename": "ValueError",
     "evalue": "num must be 1 <= num <= 16, not 17",
     "output_type": "error",
     "traceback": [
      "\u001b[1;31m---------------------------------------------------------------------------\u001b[0m",
      "\u001b[1;31mValueError\u001b[0m                                Traceback (most recent call last)",
      "\u001b[1;32m<ipython-input-404-af472f98260d>\u001b[0m in \u001b[0;36m<module>\u001b[1;34m()\u001b[0m\n\u001b[0;32m      3\u001b[0m \u001b[0mfig\u001b[0m \u001b[1;33m=\u001b[0m \u001b[0mplt\u001b[0m\u001b[1;33m.\u001b[0m\u001b[0mfigure\u001b[0m\u001b[1;33m(\u001b[0m\u001b[0mfigsize\u001b[0m \u001b[1;33m=\u001b[0m \u001b[1;33m(\u001b[0m\u001b[1;36m18\u001b[0m\u001b[1;33m,\u001b[0m \u001b[1;36m18\u001b[0m\u001b[1;33m)\u001b[0m\u001b[1;33m)\u001b[0m\u001b[1;33m\u001b[0m\u001b[0m\n\u001b[0;32m      4\u001b[0m \u001b[1;32mfor\u001b[0m \u001b[0mindex\u001b[0m\u001b[1;33m,\u001b[0m \u001b[0mfeature_name\u001b[0m \u001b[1;32min\u001b[0m \u001b[0menumerate\u001b[0m\u001b[1;33m(\u001b[0m\u001b[0mdf\u001b[0m\u001b[1;33m.\u001b[0m\u001b[0mcolumns\u001b[0m\u001b[1;33m[\u001b[0m\u001b[1;36m1\u001b[0m\u001b[1;33m:\u001b[0m\u001b[1;33m]\u001b[0m\u001b[1;33m)\u001b[0m\u001b[1;33m:\u001b[0m\u001b[1;33m\u001b[0m\u001b[0m\n\u001b[1;32m----> 5\u001b[1;33m     \u001b[0max\u001b[0m \u001b[1;33m=\u001b[0m \u001b[0mfig\u001b[0m\u001b[1;33m.\u001b[0m\u001b[0madd_subplot\u001b[0m\u001b[1;33m(\u001b[0m\u001b[1;36m4\u001b[0m\u001b[1;33m,\u001b[0m \u001b[1;36m4\u001b[0m\u001b[1;33m,\u001b[0m \u001b[0mindex\u001b[0m \u001b[1;33m+\u001b[0m \u001b[1;36m1\u001b[0m\u001b[1;33m)\u001b[0m\u001b[1;33m\u001b[0m\u001b[0m\n\u001b[0m\u001b[0;32m      6\u001b[0m     \u001b[0mplt\u001b[0m\u001b[1;33m.\u001b[0m\u001b[0mhist\u001b[0m\u001b[1;33m(\u001b[0m\u001b[0mdf\u001b[0m\u001b[1;33m[\u001b[0m\u001b[0mfeature_name\u001b[0m\u001b[1;33m]\u001b[0m\u001b[1;33m)\u001b[0m\u001b[1;33m\u001b[0m\u001b[0m\n\u001b[0;32m      7\u001b[0m     \u001b[0mplt\u001b[0m\u001b[1;33m.\u001b[0m\u001b[0mylabel\u001b[0m\u001b[1;33m(\u001b[0m\u001b[1;34m'Churn'\u001b[0m\u001b[1;33m,\u001b[0m \u001b[0msize\u001b[0m \u001b[1;33m=\u001b[0m \u001b[1;36m12\u001b[0m\u001b[1;33m)\u001b[0m\u001b[1;33m\u001b[0m\u001b[0m\n",
      "\u001b[1;32mC:\\ProgramData\\Anaconda3\\lib\\site-packages\\matplotlib\\figure.py\u001b[0m in \u001b[0;36madd_subplot\u001b[1;34m(self, *args, **kwargs)\u001b[0m\n\u001b[0;32m   1237\u001b[0m                     \u001b[0mself\u001b[0m\u001b[1;33m.\u001b[0m\u001b[0m_axstack\u001b[0m\u001b[1;33m.\u001b[0m\u001b[0mremove\u001b[0m\u001b[1;33m(\u001b[0m\u001b[0max\u001b[0m\u001b[1;33m)\u001b[0m\u001b[1;33m\u001b[0m\u001b[0m\n\u001b[0;32m   1238\u001b[0m \u001b[1;33m\u001b[0m\u001b[0m\n\u001b[1;32m-> 1239\u001b[1;33m             \u001b[0ma\u001b[0m \u001b[1;33m=\u001b[0m \u001b[0msubplot_class_factory\u001b[0m\u001b[1;33m(\u001b[0m\u001b[0mprojection_class\u001b[0m\u001b[1;33m)\u001b[0m\u001b[1;33m(\u001b[0m\u001b[0mself\u001b[0m\u001b[1;33m,\u001b[0m \u001b[1;33m*\u001b[0m\u001b[0margs\u001b[0m\u001b[1;33m,\u001b[0m \u001b[1;33m**\u001b[0m\u001b[0mkwargs\u001b[0m\u001b[1;33m)\u001b[0m\u001b[1;33m\u001b[0m\u001b[0m\n\u001b[0m\u001b[0;32m   1240\u001b[0m         \u001b[0mself\u001b[0m\u001b[1;33m.\u001b[0m\u001b[0m_axstack\u001b[0m\u001b[1;33m.\u001b[0m\u001b[0madd\u001b[0m\u001b[1;33m(\u001b[0m\u001b[0mkey\u001b[0m\u001b[1;33m,\u001b[0m \u001b[0ma\u001b[0m\u001b[1;33m)\u001b[0m\u001b[1;33m\u001b[0m\u001b[0m\n\u001b[0;32m   1241\u001b[0m         \u001b[0mself\u001b[0m\u001b[1;33m.\u001b[0m\u001b[0msca\u001b[0m\u001b[1;33m(\u001b[0m\u001b[0ma\u001b[0m\u001b[1;33m)\u001b[0m\u001b[1;33m\u001b[0m\u001b[0m\n",
      "\u001b[1;32mC:\\ProgramData\\Anaconda3\\lib\\site-packages\\matplotlib\\axes\\_subplots.py\u001b[0m in \u001b[0;36m__init__\u001b[1;34m(self, fig, *args, **kwargs)\u001b[0m\n\u001b[0;32m     65\u001b[0m                     raise ValueError(\n\u001b[0;32m     66\u001b[0m                         (\"num must be 1 <= num <= {maxn}, not {num}\"\n\u001b[1;32m---> 67\u001b[1;33m                         ).format(maxn=rows*cols, num=num))\n\u001b[0m\u001b[0;32m     68\u001b[0m                 self._subplotspec = GridSpec(\n\u001b[0;32m     69\u001b[0m                         rows, cols, figure=self.figure)[int(num) - 1]\n",
      "\u001b[1;31mValueError\u001b[0m: num must be 1 <= num <= 16, not 17"
     ]
    }
   ],
   "source": [
    "##histogram\n",
    "plt.style.use('ggplot')  \n",
    "fig = plt.figure(figsize = (18, 18))\n",
    "for index, feature_name in enumerate(df.columns[1:]): \n",
    "    ax = fig.add_subplot(4, 4, index + 1) \n",
    "    plt.hist(df[feature_name])\n",
    "    plt.ylabel('Churn', size = 12) \n",
    "    plt.xlabel(feature_name, size = 12) \n",
    "    plt.show() "
   ]
  },
  {
   "cell_type": "markdown",
   "metadata": {},
   "source": [
    "Conclusion:total.int.calls and total.vmail.message is not normally distributed"
   ]
  },
  {
   "cell_type": "markdown",
   "metadata": {},
   "source": [
    "# Boxplot"
   ]
  },
  {
   "cell_type": "code",
   "execution_count": null,
   "metadata": {},
   "outputs": [],
   "source": [
    "#Boxplot\n",
    "plt.style.use('ggplot')  \n",
    "fig = plt.figure(figsize = (18, 18))\n",
    "for index, feature_name in enumerate(df.columns[1:]): \n",
    "    ax = fig.add_subplot(4, 4, index + 1) \n",
    "    plt.boxplot(df[feature_name])\n",
    "    plt.xlabel(feature_name, size = 12) \n",
    "    plt.show() "
   ]
  },
  {
   "cell_type": "markdown",
   "metadata": {},
   "source": [
    "# Correlation between numeric and numeric variables"
   ]
  },
  {
   "cell_type": "markdown",
   "metadata": {},
   "source": [
    "Correlation plot"
   ]
  },
  {
   "cell_type": "code",
   "execution_count": 405,
   "metadata": {},
   "outputs": [
    {
     "data": {
      "text/html": [
       "<div>\n",
       "<style scoped>\n",
       "    .dataframe tbody tr th:only-of-type {\n",
       "        vertical-align: middle;\n",
       "    }\n",
       "\n",
       "    .dataframe tbody tr th {\n",
       "        vertical-align: top;\n",
       "    }\n",
       "\n",
       "    .dataframe thead th {\n",
       "        text-align: right;\n",
       "    }\n",
       "</style>\n",
       "<table border=\"1\" class=\"dataframe\">\n",
       "  <thead>\n",
       "    <tr style=\"text-align: right;\">\n",
       "      <th></th>\n",
       "      <th>account.length</th>\n",
       "      <th>number.vmail.messages</th>\n",
       "      <th>total.day.minutes</th>\n",
       "      <th>total.day.calls</th>\n",
       "      <th>total.day.charge</th>\n",
       "      <th>total.eve.minutes</th>\n",
       "      <th>total.eve.calls</th>\n",
       "      <th>total.eve.charge</th>\n",
       "      <th>total.night.minutes</th>\n",
       "      <th>total.night.calls</th>\n",
       "      <th>total.night.charge</th>\n",
       "      <th>total.intl.minutes</th>\n",
       "      <th>total.intl.calls</th>\n",
       "      <th>total.intl.charge</th>\n",
       "      <th>number.customer.service.calls</th>\n",
       "    </tr>\n",
       "  </thead>\n",
       "  <tbody>\n",
       "    <tr>\n",
       "      <th>account.length</th>\n",
       "      <td>1.000000</td>\n",
       "      <td>-0.035813</td>\n",
       "      <td>0.002112</td>\n",
       "      <td>0.027877</td>\n",
       "      <td>0.002106</td>\n",
       "      <td>-0.032427</td>\n",
       "      <td>0.030259</td>\n",
       "      <td>-0.032405</td>\n",
       "      <td>-0.008582</td>\n",
       "      <td>-0.003885</td>\n",
       "      <td>-0.008581</td>\n",
       "      <td>0.016877</td>\n",
       "      <td>0.021495</td>\n",
       "      <td>0.017017</td>\n",
       "      <td>0.017760</td>\n",
       "    </tr>\n",
       "    <tr>\n",
       "      <th>number.vmail.messages</th>\n",
       "      <td>-0.035813</td>\n",
       "      <td>1.000000</td>\n",
       "      <td>0.026884</td>\n",
       "      <td>0.010543</td>\n",
       "      <td>0.026886</td>\n",
       "      <td>0.009116</td>\n",
       "      <td>0.006560</td>\n",
       "      <td>0.009135</td>\n",
       "      <td>0.005867</td>\n",
       "      <td>0.000497</td>\n",
       "      <td>0.005847</td>\n",
       "      <td>0.025758</td>\n",
       "      <td>0.015317</td>\n",
       "      <td>0.025820</td>\n",
       "      <td>0.007580</td>\n",
       "    </tr>\n",
       "    <tr>\n",
       "      <th>total.day.minutes</th>\n",
       "      <td>0.002112</td>\n",
       "      <td>0.026884</td>\n",
       "      <td>1.000000</td>\n",
       "      <td>0.010301</td>\n",
       "      <td>1.000000</td>\n",
       "      <td>0.001721</td>\n",
       "      <td>0.066844</td>\n",
       "      <td>0.001720</td>\n",
       "      <td>-0.034651</td>\n",
       "      <td>0.039007</td>\n",
       "      <td>-0.034665</td>\n",
       "      <td>-0.019352</td>\n",
       "      <td>0.023877</td>\n",
       "      <td>-0.019329</td>\n",
       "      <td>-0.027535</td>\n",
       "    </tr>\n",
       "    <tr>\n",
       "      <th>total.day.calls</th>\n",
       "      <td>0.027877</td>\n",
       "      <td>0.010543</td>\n",
       "      <td>0.010301</td>\n",
       "      <td>1.000000</td>\n",
       "      <td>0.010292</td>\n",
       "      <td>0.004635</td>\n",
       "      <td>-0.003779</td>\n",
       "      <td>0.004644</td>\n",
       "      <td>0.005767</td>\n",
       "      <td>-0.014079</td>\n",
       "      <td>0.005764</td>\n",
       "      <td>0.035633</td>\n",
       "      <td>0.003231</td>\n",
       "      <td>0.035811</td>\n",
       "      <td>-0.037516</td>\n",
       "    </tr>\n",
       "    <tr>\n",
       "      <th>total.day.charge</th>\n",
       "      <td>0.002106</td>\n",
       "      <td>0.026886</td>\n",
       "      <td>1.000000</td>\n",
       "      <td>0.010292</td>\n",
       "      <td>1.000000</td>\n",
       "      <td>0.001732</td>\n",
       "      <td>0.066839</td>\n",
       "      <td>0.001731</td>\n",
       "      <td>-0.034646</td>\n",
       "      <td>0.039011</td>\n",
       "      <td>-0.034660</td>\n",
       "      <td>-0.019351</td>\n",
       "      <td>0.023877</td>\n",
       "      <td>-0.019329</td>\n",
       "      <td>-0.027541</td>\n",
       "    </tr>\n",
       "    <tr>\n",
       "      <th>total.eve.minutes</th>\n",
       "      <td>-0.032427</td>\n",
       "      <td>0.009116</td>\n",
       "      <td>0.001721</td>\n",
       "      <td>0.004635</td>\n",
       "      <td>0.001732</td>\n",
       "      <td>1.000000</td>\n",
       "      <td>-0.002282</td>\n",
       "      <td>1.000000</td>\n",
       "      <td>-0.003585</td>\n",
       "      <td>0.014797</td>\n",
       "      <td>-0.003566</td>\n",
       "      <td>-0.027039</td>\n",
       "      <td>0.026341</td>\n",
       "      <td>-0.026924</td>\n",
       "      <td>-0.013357</td>\n",
       "    </tr>\n",
       "    <tr>\n",
       "      <th>total.eve.calls</th>\n",
       "      <td>0.030259</td>\n",
       "      <td>0.006560</td>\n",
       "      <td>0.066844</td>\n",
       "      <td>-0.003779</td>\n",
       "      <td>0.066839</td>\n",
       "      <td>-0.002282</td>\n",
       "      <td>1.000000</td>\n",
       "      <td>-0.002284</td>\n",
       "      <td>-0.016845</td>\n",
       "      <td>0.020336</td>\n",
       "      <td>-0.016791</td>\n",
       "      <td>-0.009613</td>\n",
       "      <td>0.002211</td>\n",
       "      <td>-0.009597</td>\n",
       "      <td>0.003783</td>\n",
       "    </tr>\n",
       "    <tr>\n",
       "      <th>total.eve.charge</th>\n",
       "      <td>-0.032405</td>\n",
       "      <td>0.009135</td>\n",
       "      <td>0.001720</td>\n",
       "      <td>0.004644</td>\n",
       "      <td>0.001731</td>\n",
       "      <td>1.000000</td>\n",
       "      <td>-0.002284</td>\n",
       "      <td>1.000000</td>\n",
       "      <td>-0.003595</td>\n",
       "      <td>0.014824</td>\n",
       "      <td>-0.003576</td>\n",
       "      <td>-0.027070</td>\n",
       "      <td>0.026338</td>\n",
       "      <td>-0.026955</td>\n",
       "      <td>-0.013370</td>\n",
       "    </tr>\n",
       "    <tr>\n",
       "      <th>total.night.minutes</th>\n",
       "      <td>-0.008582</td>\n",
       "      <td>0.005867</td>\n",
       "      <td>-0.034651</td>\n",
       "      <td>0.005767</td>\n",
       "      <td>-0.034646</td>\n",
       "      <td>-0.003585</td>\n",
       "      <td>-0.016845</td>\n",
       "      <td>-0.003595</td>\n",
       "      <td>1.000000</td>\n",
       "      <td>0.001385</td>\n",
       "      <td>0.999999</td>\n",
       "      <td>-0.024864</td>\n",
       "      <td>-0.001159</td>\n",
       "      <td>-0.024892</td>\n",
       "      <td>-0.014547</td>\n",
       "    </tr>\n",
       "    <tr>\n",
       "      <th>total.night.calls</th>\n",
       "      <td>-0.003885</td>\n",
       "      <td>0.000497</td>\n",
       "      <td>0.039007</td>\n",
       "      <td>-0.014079</td>\n",
       "      <td>0.039011</td>\n",
       "      <td>0.014797</td>\n",
       "      <td>0.020336</td>\n",
       "      <td>0.014824</td>\n",
       "      <td>0.001385</td>\n",
       "      <td>1.000000</td>\n",
       "      <td>0.001360</td>\n",
       "      <td>0.015283</td>\n",
       "      <td>0.001610</td>\n",
       "      <td>0.015203</td>\n",
       "      <td>0.003065</td>\n",
       "    </tr>\n",
       "    <tr>\n",
       "      <th>total.night.charge</th>\n",
       "      <td>-0.008581</td>\n",
       "      <td>0.005847</td>\n",
       "      <td>-0.034665</td>\n",
       "      <td>0.005764</td>\n",
       "      <td>-0.034660</td>\n",
       "      <td>-0.003566</td>\n",
       "      <td>-0.016791</td>\n",
       "      <td>-0.003576</td>\n",
       "      <td>0.999999</td>\n",
       "      <td>0.001360</td>\n",
       "      <td>1.000000</td>\n",
       "      <td>-0.024866</td>\n",
       "      <td>-0.001135</td>\n",
       "      <td>-0.024894</td>\n",
       "      <td>-0.014540</td>\n",
       "    </tr>\n",
       "    <tr>\n",
       "      <th>total.intl.minutes</th>\n",
       "      <td>0.016877</td>\n",
       "      <td>0.025758</td>\n",
       "      <td>-0.019352</td>\n",
       "      <td>0.035633</td>\n",
       "      <td>-0.019351</td>\n",
       "      <td>-0.027039</td>\n",
       "      <td>-0.009613</td>\n",
       "      <td>-0.027070</td>\n",
       "      <td>-0.024864</td>\n",
       "      <td>0.015283</td>\n",
       "      <td>-0.024866</td>\n",
       "      <td>1.000000</td>\n",
       "      <td>0.055669</td>\n",
       "      <td>0.999993</td>\n",
       "      <td>-0.013041</td>\n",
       "    </tr>\n",
       "    <tr>\n",
       "      <th>total.intl.calls</th>\n",
       "      <td>0.021495</td>\n",
       "      <td>0.015317</td>\n",
       "      <td>0.023877</td>\n",
       "      <td>0.003231</td>\n",
       "      <td>0.023877</td>\n",
       "      <td>0.026341</td>\n",
       "      <td>0.002211</td>\n",
       "      <td>0.026338</td>\n",
       "      <td>-0.001159</td>\n",
       "      <td>0.001610</td>\n",
       "      <td>-0.001135</td>\n",
       "      <td>0.055669</td>\n",
       "      <td>1.000000</td>\n",
       "      <td>0.055810</td>\n",
       "      <td>0.010170</td>\n",
       "    </tr>\n",
       "    <tr>\n",
       "      <th>total.intl.charge</th>\n",
       "      <td>0.017017</td>\n",
       "      <td>0.025820</td>\n",
       "      <td>-0.019329</td>\n",
       "      <td>0.035811</td>\n",
       "      <td>-0.019329</td>\n",
       "      <td>-0.026924</td>\n",
       "      <td>-0.009597</td>\n",
       "      <td>-0.026955</td>\n",
       "      <td>-0.024892</td>\n",
       "      <td>0.015203</td>\n",
       "      <td>-0.024894</td>\n",
       "      <td>0.999993</td>\n",
       "      <td>0.055810</td>\n",
       "      <td>1.000000</td>\n",
       "      <td>-0.013000</td>\n",
       "    </tr>\n",
       "    <tr>\n",
       "      <th>number.customer.service.calls</th>\n",
       "      <td>0.017760</td>\n",
       "      <td>0.007580</td>\n",
       "      <td>-0.027535</td>\n",
       "      <td>-0.037516</td>\n",
       "      <td>-0.027541</td>\n",
       "      <td>-0.013357</td>\n",
       "      <td>0.003783</td>\n",
       "      <td>-0.013370</td>\n",
       "      <td>-0.014547</td>\n",
       "      <td>0.003065</td>\n",
       "      <td>-0.014540</td>\n",
       "      <td>-0.013041</td>\n",
       "      <td>0.010170</td>\n",
       "      <td>-0.013000</td>\n",
       "      <td>1.000000</td>\n",
       "    </tr>\n",
       "  </tbody>\n",
       "</table>\n",
       "</div>"
      ],
      "text/plain": [
       "                               account.length  number.vmail.messages  \\\n",
       "account.length                       1.000000              -0.035813   \n",
       "number.vmail.messages               -0.035813               1.000000   \n",
       "total.day.minutes                    0.002112               0.026884   \n",
       "total.day.calls                      0.027877               0.010543   \n",
       "total.day.charge                     0.002106               0.026886   \n",
       "total.eve.minutes                   -0.032427               0.009116   \n",
       "total.eve.calls                      0.030259               0.006560   \n",
       "total.eve.charge                    -0.032405               0.009135   \n",
       "total.night.minutes                 -0.008582               0.005867   \n",
       "total.night.calls                   -0.003885               0.000497   \n",
       "total.night.charge                  -0.008581               0.005847   \n",
       "total.intl.minutes                   0.016877               0.025758   \n",
       "total.intl.calls                     0.021495               0.015317   \n",
       "total.intl.charge                    0.017017               0.025820   \n",
       "number.customer.service.calls        0.017760               0.007580   \n",
       "\n",
       "                               total.day.minutes  total.day.calls  \\\n",
       "account.length                          0.002112         0.027877   \n",
       "number.vmail.messages                   0.026884         0.010543   \n",
       "total.day.minutes                       1.000000         0.010301   \n",
       "total.day.calls                         0.010301         1.000000   \n",
       "total.day.charge                        1.000000         0.010292   \n",
       "total.eve.minutes                       0.001721         0.004635   \n",
       "total.eve.calls                         0.066844        -0.003779   \n",
       "total.eve.charge                        0.001720         0.004644   \n",
       "total.night.minutes                    -0.034651         0.005767   \n",
       "total.night.calls                       0.039007        -0.014079   \n",
       "total.night.charge                     -0.034665         0.005764   \n",
       "total.intl.minutes                     -0.019352         0.035633   \n",
       "total.intl.calls                        0.023877         0.003231   \n",
       "total.intl.charge                      -0.019329         0.035811   \n",
       "number.customer.service.calls          -0.027535        -0.037516   \n",
       "\n",
       "                               total.day.charge  total.eve.minutes  \\\n",
       "account.length                         0.002106          -0.032427   \n",
       "number.vmail.messages                  0.026886           0.009116   \n",
       "total.day.minutes                      1.000000           0.001721   \n",
       "total.day.calls                        0.010292           0.004635   \n",
       "total.day.charge                       1.000000           0.001732   \n",
       "total.eve.minutes                      0.001732           1.000000   \n",
       "total.eve.calls                        0.066839          -0.002282   \n",
       "total.eve.charge                       0.001731           1.000000   \n",
       "total.night.minutes                   -0.034646          -0.003585   \n",
       "total.night.calls                      0.039011           0.014797   \n",
       "total.night.charge                    -0.034660          -0.003566   \n",
       "total.intl.minutes                    -0.019351          -0.027039   \n",
       "total.intl.calls                       0.023877           0.026341   \n",
       "total.intl.charge                     -0.019329          -0.026924   \n",
       "number.customer.service.calls         -0.027541          -0.013357   \n",
       "\n",
       "                               total.eve.calls  total.eve.charge  \\\n",
       "account.length                        0.030259         -0.032405   \n",
       "number.vmail.messages                 0.006560          0.009135   \n",
       "total.day.minutes                     0.066844          0.001720   \n",
       "total.day.calls                      -0.003779          0.004644   \n",
       "total.day.charge                      0.066839          0.001731   \n",
       "total.eve.minutes                    -0.002282          1.000000   \n",
       "total.eve.calls                       1.000000         -0.002284   \n",
       "total.eve.charge                     -0.002284          1.000000   \n",
       "total.night.minutes                  -0.016845         -0.003595   \n",
       "total.night.calls                     0.020336          0.014824   \n",
       "total.night.charge                   -0.016791         -0.003576   \n",
       "total.intl.minutes                   -0.009613         -0.027070   \n",
       "total.intl.calls                      0.002211          0.026338   \n",
       "total.intl.charge                    -0.009597         -0.026955   \n",
       "number.customer.service.calls         0.003783         -0.013370   \n",
       "\n",
       "                               total.night.minutes  total.night.calls  \\\n",
       "account.length                           -0.008582          -0.003885   \n",
       "number.vmail.messages                     0.005867           0.000497   \n",
       "total.day.minutes                        -0.034651           0.039007   \n",
       "total.day.calls                           0.005767          -0.014079   \n",
       "total.day.charge                         -0.034646           0.039011   \n",
       "total.eve.minutes                        -0.003585           0.014797   \n",
       "total.eve.calls                          -0.016845           0.020336   \n",
       "total.eve.charge                         -0.003595           0.014824   \n",
       "total.night.minutes                       1.000000           0.001385   \n",
       "total.night.calls                         0.001385           1.000000   \n",
       "total.night.charge                        0.999999           0.001360   \n",
       "total.intl.minutes                       -0.024864           0.015283   \n",
       "total.intl.calls                         -0.001159           0.001610   \n",
       "total.intl.charge                        -0.024892           0.015203   \n",
       "number.customer.service.calls            -0.014547           0.003065   \n",
       "\n",
       "                               total.night.charge  total.intl.minutes  \\\n",
       "account.length                          -0.008581            0.016877   \n",
       "number.vmail.messages                    0.005847            0.025758   \n",
       "total.day.minutes                       -0.034665           -0.019352   \n",
       "total.day.calls                          0.005764            0.035633   \n",
       "total.day.charge                        -0.034660           -0.019351   \n",
       "total.eve.minutes                       -0.003566           -0.027039   \n",
       "total.eve.calls                         -0.016791           -0.009613   \n",
       "total.eve.charge                        -0.003576           -0.027070   \n",
       "total.night.minutes                      0.999999           -0.024864   \n",
       "total.night.calls                        0.001360            0.015283   \n",
       "total.night.charge                       1.000000           -0.024866   \n",
       "total.intl.minutes                      -0.024866            1.000000   \n",
       "total.intl.calls                        -0.001135            0.055669   \n",
       "total.intl.charge                       -0.024894            0.999993   \n",
       "number.customer.service.calls           -0.014540           -0.013041   \n",
       "\n",
       "                               total.intl.calls  total.intl.charge  \\\n",
       "account.length                         0.021495           0.017017   \n",
       "number.vmail.messages                  0.015317           0.025820   \n",
       "total.day.minutes                      0.023877          -0.019329   \n",
       "total.day.calls                        0.003231           0.035811   \n",
       "total.day.charge                       0.023877          -0.019329   \n",
       "total.eve.minutes                      0.026341          -0.026924   \n",
       "total.eve.calls                        0.002211          -0.009597   \n",
       "total.eve.charge                       0.026338          -0.026955   \n",
       "total.night.minutes                   -0.001159          -0.024892   \n",
       "total.night.calls                      0.001610           0.015203   \n",
       "total.night.charge                    -0.001135          -0.024894   \n",
       "total.intl.minutes                     0.055669           0.999993   \n",
       "total.intl.calls                       1.000000           0.055810   \n",
       "total.intl.charge                      0.055810           1.000000   \n",
       "number.customer.service.calls          0.010170          -0.013000   \n",
       "\n",
       "                               number.customer.service.calls  \n",
       "account.length                                      0.017760  \n",
       "number.vmail.messages                               0.007580  \n",
       "total.day.minutes                                  -0.027535  \n",
       "total.day.calls                                    -0.037516  \n",
       "total.day.charge                                   -0.027541  \n",
       "total.eve.minutes                                  -0.013357  \n",
       "total.eve.calls                                     0.003783  \n",
       "total.eve.charge                                   -0.013370  \n",
       "total.night.minutes                                -0.014547  \n",
       "total.night.calls                                   0.003065  \n",
       "total.night.charge                                 -0.014540  \n",
       "total.intl.minutes                                 -0.013041  \n",
       "total.intl.calls                                    0.010170  \n",
       "total.intl.charge                                  -0.013000  \n",
       "number.customer.service.calls                       1.000000  "
      ]
     },
     "execution_count": 405,
     "metadata": {},
     "output_type": "execute_result"
    }
   ],
   "source": [
    "##Correlation heatmap\n",
    "hcorr =df.corr()\n",
    "hcorr=hcorr.loc[['account.length','number.vmail.messages','total.day.minutes','total.day.calls','total.day.charge','total.eve.minutes','total.eve.calls','total.eve.charge','total.night.minutes','total.night.calls','total.night.charge','total.intl.minutes','total.intl.calls','total.intl.charge','number.customer.service.calls'],['account.length','number.vmail.messages','total.day.minutes','total.day.calls','total.day.charge','total.eve.minutes','total.eve.calls','total.eve.charge','total.night.minutes','total.night.calls','total.night.charge','total.intl.minutes','total.intl.calls','total.intl.charge','number.customer.service.calls']]\n",
    "#hcorr[hcorr>0.8]\n",
    "hcorr"
   ]
  },
  {
   "cell_type": "markdown",
   "metadata": {},
   "source": [
    "Highly correlated"
   ]
  },
  {
   "cell_type": "markdown",
   "metadata": {},
   "source": [
    "       Conclusion:\n",
    "       1.total.night.charge~total.night.minutes\n",
    "       2.total.intl.minutes~total.intl.charge\n"
   ]
  },
  {
   "cell_type": "markdown",
   "metadata": {},
   "source": [
    "# Correlation between categorical and categorical variables"
   ]
  },
  {
   "cell_type": "markdown",
   "metadata": {},
   "source": [
    "#    Chisq-test"
   ]
  },
  {
   "cell_type": "code",
   "execution_count": 406,
   "metadata": {},
   "outputs": [],
   "source": [
    "def chisq_test(a,b):\n",
    "    crosstab, test_results, expected = rp.crosstab(a, b,\n",
    "                                               test= \"chi-square\",\n",
    "                                               expected_freqs= True,\n",
    "                                               prop= \"cell\")\n",
    "    return test_results"
   ]
  },
  {
   "cell_type": "code",
   "execution_count": 407,
   "metadata": {},
   "outputs": [
    {
     "data": {
      "text/html": [
       "<div>\n",
       "<style scoped>\n",
       "    .dataframe tbody tr th:only-of-type {\n",
       "        vertical-align: middle;\n",
       "    }\n",
       "\n",
       "    .dataframe tbody tr th {\n",
       "        vertical-align: top;\n",
       "    }\n",
       "\n",
       "    .dataframe thead th {\n",
       "        text-align: right;\n",
       "    }\n",
       "</style>\n",
       "<table border=\"1\" class=\"dataframe\">\n",
       "  <thead>\n",
       "    <tr style=\"text-align: right;\">\n",
       "      <th></th>\n",
       "      <th>Chi-square test</th>\n",
       "      <th>results</th>\n",
       "    </tr>\n",
       "  </thead>\n",
       "  <tbody>\n",
       "    <tr>\n",
       "      <th>0</th>\n",
       "      <td>Pearson Chi-square ( 1.0) =</td>\n",
       "      <td>0.1391</td>\n",
       "    </tr>\n",
       "    <tr>\n",
       "      <th>1</th>\n",
       "      <td>p-value =</td>\n",
       "      <td>0.7092</td>\n",
       "    </tr>\n",
       "    <tr>\n",
       "      <th>2</th>\n",
       "      <td>Cramer's phi =</td>\n",
       "      <td>0.0087</td>\n",
       "    </tr>\n",
       "  </tbody>\n",
       "</table>\n",
       "</div>"
      ],
      "text/plain": [
       "                Chi-square test  results\n",
       "0  Pearson Chi-square ( 1.0) =    0.1391\n",
       "1                    p-value =    0.7092\n",
       "2               Cramer's phi =    0.0087"
      ]
     },
     "execution_count": 407,
     "metadata": {},
     "output_type": "execute_result"
    }
   ],
   "source": [
    "\n",
    "test_results=chisq_test(df[\"international.plan\"], df[\"voice.mail.plan\"])\n",
    "test_results"
   ]
  },
  {
   "cell_type": "code",
   "execution_count": 408,
   "metadata": {},
   "outputs": [
    {
     "data": {
      "text/html": [
       "<div>\n",
       "<style scoped>\n",
       "    .dataframe tbody tr th:only-of-type {\n",
       "        vertical-align: middle;\n",
       "    }\n",
       "\n",
       "    .dataframe tbody tr th {\n",
       "        vertical-align: top;\n",
       "    }\n",
       "\n",
       "    .dataframe thead th {\n",
       "        text-align: right;\n",
       "    }\n",
       "</style>\n",
       "<table border=\"1\" class=\"dataframe\">\n",
       "  <thead>\n",
       "    <tr style=\"text-align: right;\">\n",
       "      <th></th>\n",
       "      <th>Chi-square test</th>\n",
       "      <th>results</th>\n",
       "    </tr>\n",
       "  </thead>\n",
       "  <tbody>\n",
       "    <tr>\n",
       "      <th>0</th>\n",
       "      <td>Pearson Chi-square ( 1.0) =</td>\n",
       "      <td>125.4652</td>\n",
       "    </tr>\n",
       "    <tr>\n",
       "      <th>1</th>\n",
       "      <td>p-value =</td>\n",
       "      <td>0.0000</td>\n",
       "    </tr>\n",
       "    <tr>\n",
       "      <th>2</th>\n",
       "      <td>Cramer's phi =</td>\n",
       "      <td>0.2611</td>\n",
       "    </tr>\n",
       "  </tbody>\n",
       "</table>\n",
       "</div>"
      ],
      "text/plain": [
       "                Chi-square test   results\n",
       "0  Pearson Chi-square ( 1.0) =   125.4652\n",
       "1                    p-value =     0.0000\n",
       "2               Cramer's phi =     0.2611"
      ]
     },
     "execution_count": 408,
     "metadata": {},
     "output_type": "execute_result"
    }
   ],
   "source": [
    "test_results= chisq_test(df[\"international.plan\"], df[\"churn\"])\n",
    "test_results"
   ]
  },
  {
   "cell_type": "code",
   "execution_count": 409,
   "metadata": {},
   "outputs": [
    {
     "data": {
      "text/html": [
       "<div>\n",
       "<style scoped>\n",
       "    .dataframe tbody tr th:only-of-type {\n",
       "        vertical-align: middle;\n",
       "    }\n",
       "\n",
       "    .dataframe tbody tr th {\n",
       "        vertical-align: top;\n",
       "    }\n",
       "\n",
       "    .dataframe thead th {\n",
       "        text-align: right;\n",
       "    }\n",
       "</style>\n",
       "<table border=\"1\" class=\"dataframe\">\n",
       "  <thead>\n",
       "    <tr style=\"text-align: right;\">\n",
       "      <th></th>\n",
       "      <th>Chi-square test</th>\n",
       "      <th>results</th>\n",
       "    </tr>\n",
       "  </thead>\n",
       "  <tbody>\n",
       "    <tr>\n",
       "      <th>0</th>\n",
       "      <td>Pearson Chi-square ( 1.0) =</td>\n",
       "      <td>15.0768</td>\n",
       "    </tr>\n",
       "    <tr>\n",
       "      <th>1</th>\n",
       "      <td>p-value =</td>\n",
       "      <td>0.0001</td>\n",
       "    </tr>\n",
       "    <tr>\n",
       "      <th>2</th>\n",
       "      <td>Cramer's phi =</td>\n",
       "      <td>0.0905</td>\n",
       "    </tr>\n",
       "  </tbody>\n",
       "</table>\n",
       "</div>"
      ],
      "text/plain": [
       "                Chi-square test  results\n",
       "0  Pearson Chi-square ( 1.0) =   15.0768\n",
       "1                    p-value =    0.0001\n",
       "2               Cramer's phi =    0.0905"
      ]
     },
     "execution_count": 409,
     "metadata": {},
     "output_type": "execute_result"
    }
   ],
   "source": [
    "test_results = chisq_test(df[\"voice.mail.plan\"], df[\"churn\"])\n",
    "test_results"
   ]
  },
  {
   "cell_type": "markdown",
   "metadata": {},
   "source": [
    "Conclusion :No correlation within  independent categorical variables and high correlation with dependent variable"
   ]
  },
  {
   "cell_type": "markdown",
   "metadata": {},
   "source": [
    "# Correlation between categorical and numeric variables"
   ]
  },
  {
   "cell_type": "markdown",
   "metadata": {},
   "source": [
    "    1.t-test\n",
    "    2.ANOVA test\n",
    "    3.Corr plot"
   ]
  },
  {
   "cell_type": "code",
   "execution_count": 410,
   "metadata": {},
   "outputs": [
    {
     "data": {
      "text/html": [
       "<div>\n",
       "<style scoped>\n",
       "    .dataframe tbody tr th:only-of-type {\n",
       "        vertical-align: middle;\n",
       "    }\n",
       "\n",
       "    .dataframe tbody tr th {\n",
       "        vertical-align: top;\n",
       "    }\n",
       "\n",
       "    .dataframe thead th {\n",
       "        text-align: right;\n",
       "    }\n",
       "</style>\n",
       "<table border=\"1\" class=\"dataframe\">\n",
       "  <thead>\n",
       "    <tr style=\"text-align: right;\">\n",
       "      <th></th>\n",
       "      <th>international.plan</th>\n",
       "      <th>voice.mail.plan</th>\n",
       "      <th>churn</th>\n",
       "    </tr>\n",
       "  </thead>\n",
       "  <tbody>\n",
       "    <tr>\n",
       "      <th>account.length</th>\n",
       "      <td>NaN</td>\n",
       "      <td>NaN</td>\n",
       "      <td>NaN</td>\n",
       "    </tr>\n",
       "    <tr>\n",
       "      <th>number.vmail.messages</th>\n",
       "      <td>NaN</td>\n",
       "      <td>0.958825</td>\n",
       "      <td>NaN</td>\n",
       "    </tr>\n",
       "    <tr>\n",
       "      <th>total.day.minutes</th>\n",
       "      <td>NaN</td>\n",
       "      <td>NaN</td>\n",
       "      <td>NaN</td>\n",
       "    </tr>\n",
       "    <tr>\n",
       "      <th>total.day.calls</th>\n",
       "      <td>NaN</td>\n",
       "      <td>NaN</td>\n",
       "      <td>NaN</td>\n",
       "    </tr>\n",
       "    <tr>\n",
       "      <th>total.day.charge</th>\n",
       "      <td>NaN</td>\n",
       "      <td>NaN</td>\n",
       "      <td>NaN</td>\n",
       "    </tr>\n",
       "    <tr>\n",
       "      <th>total.eve.minutes</th>\n",
       "      <td>NaN</td>\n",
       "      <td>NaN</td>\n",
       "      <td>NaN</td>\n",
       "    </tr>\n",
       "    <tr>\n",
       "      <th>total.eve.calls</th>\n",
       "      <td>NaN</td>\n",
       "      <td>NaN</td>\n",
       "      <td>NaN</td>\n",
       "    </tr>\n",
       "    <tr>\n",
       "      <th>total.eve.charge</th>\n",
       "      <td>NaN</td>\n",
       "      <td>NaN</td>\n",
       "      <td>NaN</td>\n",
       "    </tr>\n",
       "    <tr>\n",
       "      <th>total.night.minutes</th>\n",
       "      <td>NaN</td>\n",
       "      <td>NaN</td>\n",
       "      <td>NaN</td>\n",
       "    </tr>\n",
       "    <tr>\n",
       "      <th>total.night.calls</th>\n",
       "      <td>NaN</td>\n",
       "      <td>NaN</td>\n",
       "      <td>NaN</td>\n",
       "    </tr>\n",
       "    <tr>\n",
       "      <th>total.night.charge</th>\n",
       "      <td>NaN</td>\n",
       "      <td>NaN</td>\n",
       "      <td>NaN</td>\n",
       "    </tr>\n",
       "    <tr>\n",
       "      <th>total.intl.minutes</th>\n",
       "      <td>NaN</td>\n",
       "      <td>NaN</td>\n",
       "      <td>NaN</td>\n",
       "    </tr>\n",
       "    <tr>\n",
       "      <th>total.intl.calls</th>\n",
       "      <td>NaN</td>\n",
       "      <td>NaN</td>\n",
       "      <td>NaN</td>\n",
       "    </tr>\n",
       "    <tr>\n",
       "      <th>total.intl.charge</th>\n",
       "      <td>NaN</td>\n",
       "      <td>NaN</td>\n",
       "      <td>NaN</td>\n",
       "    </tr>\n",
       "    <tr>\n",
       "      <th>number.customer.service.calls</th>\n",
       "      <td>NaN</td>\n",
       "      <td>NaN</td>\n",
       "      <td>NaN</td>\n",
       "    </tr>\n",
       "  </tbody>\n",
       "</table>\n",
       "</div>"
      ],
      "text/plain": [
       "                               international.plan  voice.mail.plan  churn\n",
       "account.length                                NaN              NaN    NaN\n",
       "number.vmail.messages                         NaN         0.958825    NaN\n",
       "total.day.minutes                             NaN              NaN    NaN\n",
       "total.day.calls                               NaN              NaN    NaN\n",
       "total.day.charge                              NaN              NaN    NaN\n",
       "total.eve.minutes                             NaN              NaN    NaN\n",
       "total.eve.calls                               NaN              NaN    NaN\n",
       "total.eve.charge                              NaN              NaN    NaN\n",
       "total.night.minutes                           NaN              NaN    NaN\n",
       "total.night.calls                             NaN              NaN    NaN\n",
       "total.night.charge                            NaN              NaN    NaN\n",
       "total.intl.minutes                            NaN              NaN    NaN\n",
       "total.intl.calls                              NaN              NaN    NaN\n",
       "total.intl.charge                             NaN              NaN    NaN\n",
       "number.customer.service.calls                 NaN              NaN    NaN"
      ]
     },
     "execution_count": 410,
     "metadata": {},
     "output_type": "execute_result"
    }
   ],
   "source": [
    "hcorr =df.corr()\n",
    "hcorr=hcorr.loc[['account.length','number.vmail.messages','total.day.minutes','total.day.calls','total.day.charge','total.eve.minutes','total.eve.calls','total.eve.charge','total.night.minutes','total.night.calls','total.night.charge','total.intl.minutes','total.intl.calls','total.intl.charge','number.customer.service.calls'],['international.plan','voice.mail.plan','churn']]\n",
    "hcorr[hcorr>0.8]\n",
    "#hcorr"
   ]
  },
  {
   "cell_type": "markdown",
   "metadata": {},
   "source": [
    "        Conclusion:\n",
    "        Highly correlated\n",
    "        1.number.vmail.messages~voice.mail.plan"
   ]
  },
  {
   "cell_type": "markdown",
   "metadata": {},
   "source": [
    "# T-Test"
   ]
  },
  {
   "cell_type": "code",
   "execution_count": 411,
   "metadata": {},
   "outputs": [
    {
     "name": "stdout",
     "output_type": "stream",
     "text": [
      "T-Value: 106.92406002258804\n",
      "p-value: 0.0\n",
      "T-Value: 25.848276407425498\n",
      "p-value: 1.6350360725129495e-135\n",
      "T-Value: 142.91649458745152\n",
      "p-value: 0.0\n",
      "T-Value: 214.8274071200523\n",
      "p-value: 0.0\n",
      "T-Value: 142.46796059137435\n",
      "p-value: 0.0\n",
      "T-Value: 167.7303079132263\n",
      "p-value: 0.0\n",
      "T-Value: 216.555651587568\n",
      "p-value: 0.0\n",
      "T-Value: 166.46732436549834\n",
      "p-value: 0.0\n",
      "T-Value: 167.0827457990708\n",
      "p-value: 0.0\n",
      "T-Value: 219.98603973174454\n",
      "p-value: 0.0\n",
      "T-Value: 164.00274055387743\n",
      "p-value: 0.0\n",
      "T-Value: 154.16271357240288\n",
      "p-value: 0.0\n",
      "T-Value: 74.94983018073611\n",
      "p-value: 0.0\n",
      "T-Value: 140.5157428900423\n",
      "p-value: 0.0\n",
      "T-Value: 46.32383018827465\n",
      "p-value: 0.0\n",
      "T-Value: 106.71585279788616\n",
      "p-value: 0.0\n",
      "T-Value: 25.258402398256347\n",
      "p-value: 6.042102441133649e-130\n",
      "T-Value: 142.76267824712087\n",
      "p-value: 0.0\n",
      "T-Value: 214.3881532806361\n",
      "p-value: 0.0\n",
      "T-Value: 141.48260529832032\n",
      "p-value: 0.0\n",
      "T-Value: 167.56729640057733\n",
      "p-value: 0.0\n",
      "T-Value: 216.11206778061182\n",
      "p-value: 0.0\n",
      "T-Value: 164.0950375974507\n",
      "p-value: 0.0\n",
      "T-Value: 166.92023625609045\n",
      "p-value: 0.0\n",
      "T-Value: 219.53555431539252\n",
      "p-value: 0.0\n",
      "T-Value: 158.80334274068676\n",
      "p-value: 0.0\n",
      "T-Value: 150.15742570429833\n",
      "p-value: 0.0\n",
      "T-Value: 71.05945537219105\n",
      "p-value: 0.0\n",
      "T-Value: 120.23305364594162\n",
      "p-value: 0.0\n",
      "T-Value: 38.97440479621743\n",
      "p-value: 1.8879146503814948e-278\n"
     ]
    }
   ],
   "source": [
    "x=df.loc[:,['account.length','number.vmail.messages','total.day.minutes','total.day.calls','total.day.charge','total.eve.minutes','total.eve.calls','total.eve.charge','total.night.minutes','total.night.calls','total.night.charge','total.intl.minutes','total.intl.calls','total.intl.charge','number.customer.service.calls']]\n",
    "for i,c in enumerate(x.columns):\n",
    "    t, p = stats.ttest_ind(df[c],df[\"international.plan\"])    \n",
    "    print(\"T-Value:\",t)\n",
    "    print(\"p-value:\",p)\n",
    "for i,c in enumerate(x.columns):\n",
    "    t, p = stats.ttest_ind(df[c],df[\"voice.mail.plan\"])    \n",
    "    print(\"T-Value:\",t)\n",
    "    print(\"p-value:\",p)"
   ]
  },
  {
   "cell_type": "markdown",
   "metadata": {},
   "source": [
    "# One-way ANOVA Test"
   ]
  },
  {
   "cell_type": "code",
   "execution_count": 412,
   "metadata": {},
   "outputs": [],
   "source": [
    "def oneway_anova(a):\n",
    "    F, p = stats.f_oneway(df[a==0],df[a==1])\n",
    "    return (F,p)   "
   ]
  },
  {
   "cell_type": "code",
   "execution_count": 413,
   "metadata": {},
   "outputs": [
    {
     "name": "stdout",
     "output_type": "stream",
     "text": [
      "[7.26408978e-01 1.06084682e-01 0.00000000e+00 7.09375700e-01\n",
      " 5.69144162e-01 6.66484212e-03 3.53519652e-01 6.66610591e-03\n",
      " 1.21981045e-01 4.18832012e-01 1.21852925e-01 2.19857173e-01\n",
      " 1.11435195e-01 2.19590124e-01 6.55074769e-02 1.16081018e-01\n",
      " 6.60252001e-02 9.39055652e-01 4.59793333e-30]\n",
      "Index(['Unnamed: 0', 'account.length', 'international.plan', 'voice.mail.plan',\n",
      "       'number.vmail.messages', 'total.day.minutes', 'total.day.calls',\n",
      "       'total.day.charge', 'total.eve.minutes', 'total.eve.calls',\n",
      "       'total.eve.charge', 'total.night.minutes', 'total.night.calls',\n",
      "       'total.night.charge', 'total.intl.minutes', 'total.intl.calls',\n",
      "       'total.intl.charge', 'number.customer.service.calls', 'churn'],\n",
      "      dtype='object')\n"
     ]
    }
   ],
   "source": [
    "F, p = oneway_anova(df['international.plan'])\n",
    "print(p)\n",
    "print(df.columns)"
   ]
  },
  {
   "cell_type": "code",
   "execution_count": 414,
   "metadata": {},
   "outputs": [
    {
     "name": "stdout",
     "output_type": "stream",
     "text": [
      "[4.60116144e-01 2.28249718e-01 7.09375723e-01 0.00000000e+00\n",
      " 0.00000000e+00 4.25967872e-01 5.08202707e-01 4.25915414e-01\n",
      " 5.47437977e-01 8.59706598e-01 5.46909650e-01 8.82456930e-01\n",
      " 7.41914169e-01 8.83505427e-01 2.74159800e-01 7.84586375e-01\n",
      " 2.72459259e-01 9.29459184e-01 1.00979790e-04]\n",
      "Index(['Unnamed: 0', 'account.length', 'international.plan', 'voice.mail.plan',\n",
      "       'number.vmail.messages', 'total.day.minutes', 'total.day.calls',\n",
      "       'total.day.charge', 'total.eve.minutes', 'total.eve.calls',\n",
      "       'total.eve.charge', 'total.night.minutes', 'total.night.calls',\n",
      "       'total.night.charge', 'total.intl.minutes', 'total.intl.calls',\n",
      "       'total.intl.charge', 'number.customer.service.calls', 'churn'],\n",
      "      dtype='object')\n"
     ]
    }
   ],
   "source": [
    "F, p = oneway_anova(df['voice.mail.plan'])\n",
    "print(p)\n",
    "print(df.columns)"
   ]
  },
  {
   "cell_type": "code",
   "execution_count": 415,
   "metadata": {},
   "outputs": [
    {
     "name": "stdout",
     "output_type": "stream",
     "text": [
      "[9.82085144e-01 9.99574757e-01 4.59793334e-30 1.00979789e-04\n",
      " 5.86221431e-04 4.05315604e-13 4.78175316e-01 4.05635048e-13\n",
      " 6.65579342e-04 3.49890750e-01 6.67283891e-04 1.23655674e-01\n",
      " 7.87596875e-01 1.23378662e-01 7.85410637e-03 4.30091656e-01\n",
      " 7.73607716e-03 8.37182258e-19 0.00000000e+00]\n",
      "Index(['Unnamed: 0', 'account.length', 'international.plan', 'voice.mail.plan',\n",
      "       'number.vmail.messages', 'total.day.minutes', 'total.day.calls',\n",
      "       'total.day.charge', 'total.eve.minutes', 'total.eve.calls',\n",
      "       'total.eve.charge', 'total.night.minutes', 'total.night.calls',\n",
      "       'total.night.charge', 'total.intl.minutes', 'total.intl.calls',\n",
      "       'total.intl.charge', 'number.customer.service.calls', 'churn'],\n",
      "      dtype='object')\n"
     ]
    }
   ],
   "source": [
    "F, p = oneway_anova(df['churn'])\n",
    "print(p)\n",
    "print(df.columns)"
   ]
  },
  {
   "cell_type": "code",
   "execution_count": 416,
   "metadata": {},
   "outputs": [],
   "source": [
    "x=df.drop(['Unnamed: 0','churn'],axis=1)\n",
    "y=df['churn']"
   ]
  },
  {
   "cell_type": "markdown",
   "metadata": {},
   "source": [
    "# Model Fitting"
   ]
  },
  {
   "cell_type": "code",
   "execution_count": 417,
   "metadata": {},
   "outputs": [
    {
     "data": {
      "text/plain": [
       "LogisticRegression()"
      ]
     },
     "execution_count": 417,
     "metadata": {},
     "output_type": "execute_result"
    }
   ],
   "source": [
    "x_train,x_test,y_train,y_test=train_test_split(x,y,test_size=0.3,random_state=42)\n",
    "log_reg=LogisticRegression()\n",
    "log_reg.fit(x_train,y_train)"
   ]
  },
  {
   "cell_type": "markdown",
   "metadata": {},
   "source": [
    "# Slope & Intercept"
   ]
  },
  {
   "cell_type": "code",
   "execution_count": 418,
   "metadata": {},
   "outputs": [
    {
     "name": "stdout",
     "output_type": "stream",
     "text": [
      "Slope:\n",
      "[[-1.50454493e-03  3.33930743e-01 -2.43063571e-02 -2.77060071e-02\n",
      "   5.18815235e-03 -1.02244410e-02  8.72632641e-04  1.00232445e-03\n",
      "  -5.79739707e-03  1.69229957e-04 -1.66454605e-03 -1.75781967e-02\n",
      "   1.99157808e-04  2.99473159e-02 -3.09984541e-02  8.31808965e-03\n",
      "   4.49907445e-01]]\n",
      "Intercept:\n",
      "[-0.06244716]\n"
     ]
    }
   ],
   "source": [
    "# slope\n",
    "print(\"Slope:\")\n",
    "print(log_reg.coef_)\n",
    "# slope\n",
    "print(\"Intercept:\")\n",
    "print(log_reg.intercept_)"
   ]
  },
  {
   "cell_type": "markdown",
   "metadata": {},
   "source": [
    "# Model class prediction"
   ]
  },
  {
   "cell_type": "code",
   "execution_count": 419,
   "metadata": {},
   "outputs": [],
   "source": [
    "def probability_prediction(test,threshold):\n",
    "       return np.where(log_reg.predict_proba(test)[:,1] > threshold, 1, 0)"
   ]
  },
  {
   "cell_type": "code",
   "execution_count": 420,
   "metadata": {},
   "outputs": [
    {
     "name": "stdout",
     "output_type": "stream",
     "text": [
      "Predicted class:\n"
     ]
    },
    {
     "data": {
      "text/plain": [
       "array([0, 0, 0, 0, 0, 0, 0, 0, 0, 0, 0, 0, 0, 0, 0, 0, 0, 0, 0, 0, 0, 0,\n",
       "       0, 0, 0, 0, 0, 0, 0, 0, 0, 0, 0, 0, 0, 0, 0, 0, 0, 0, 0, 0, 0, 0,\n",
       "       0, 0, 0, 0, 0, 0, 1, 0, 0, 0, 0, 0, 0, 0, 0, 0, 0, 0, 0, 0, 0, 0,\n",
       "       0, 0, 0, 0, 0, 0, 0, 0, 0, 0, 0, 1, 0, 0, 0, 0, 0, 0, 0, 0, 0, 0,\n",
       "       0, 0, 0, 0, 0, 0, 0, 0, 0, 0, 0, 0, 0, 0, 0, 0, 0, 0, 0, 0, 0, 0,\n",
       "       0, 0, 0, 0, 0, 0, 0, 0, 0, 0, 0, 0, 0, 0, 1, 0, 0, 0, 0, 0, 0, 0,\n",
       "       0, 0, 0, 0, 0, 0, 0, 0, 0, 0, 0, 0, 0, 0, 0, 0, 0, 0, 0, 0, 0, 0,\n",
       "       0, 0, 0, 0, 0, 0, 0, 0, 0, 0, 0, 0, 0, 0, 0, 0, 0, 0, 0, 0, 0, 0,\n",
       "       0, 0, 0, 0, 0, 0, 0, 0, 0, 0, 0, 0, 0, 0, 0, 0, 0, 0, 0, 0, 0, 0,\n",
       "       0, 0, 0, 0, 0, 0, 0, 0, 0, 0, 0, 0, 0, 0, 0, 0, 0, 0, 0, 0, 0, 0,\n",
       "       0, 0, 0, 0, 0, 0, 0, 0, 0, 0, 0, 0, 0, 0, 0, 0, 0, 0, 0, 0, 0, 0,\n",
       "       0, 0, 0, 0, 0, 0, 0, 0, 0, 0, 0, 0, 0, 0, 0, 0, 0, 0, 0, 0, 0, 0,\n",
       "       0, 0, 0, 0, 0, 0, 0, 0, 0, 0, 0, 0, 0, 0, 0, 0, 0, 0, 0, 0, 0, 0,\n",
       "       0, 0, 0, 0, 0, 0, 0, 0, 0, 0, 0, 0, 0, 0, 0, 0, 0, 0, 0, 0, 0, 0,\n",
       "       0, 0, 0, 0, 0, 0, 0, 0, 0, 0, 0, 0, 0, 0, 0, 0, 0, 0, 0, 0, 0, 0,\n",
       "       0, 0, 0, 0, 0, 0, 0, 0, 0, 0, 0, 0, 1, 0, 0, 0, 0, 0, 0, 0, 0, 0,\n",
       "       0, 0, 0, 0, 0, 0, 0, 0, 0, 0, 0, 0, 0, 0, 0, 0, 0, 0, 0, 0, 0, 0,\n",
       "       0, 0, 0, 0, 0, 0, 0, 0, 0, 0, 0, 0, 1, 0, 0, 0, 0, 0, 0, 0, 0, 0,\n",
       "       0, 1, 1, 0, 0, 0, 0, 0, 0, 0, 0, 0, 0, 0, 0, 0, 0, 0, 0, 0, 0, 0,\n",
       "       0, 0, 0, 0, 0, 0, 0, 0, 0, 0, 0, 0, 0, 0, 0, 0, 0, 0, 0, 0, 0, 0,\n",
       "       0, 0, 0, 0, 0, 0, 0, 0, 0, 0, 0, 0, 0, 0, 0, 0, 0, 0, 0, 0, 0, 0,\n",
       "       0, 0, 0, 0, 0, 0, 0, 0, 0, 0, 0, 1, 0, 0, 0, 0, 0, 0, 0, 0, 0, 0,\n",
       "       0, 0, 0, 0, 0, 0, 0, 0, 0, 0, 0, 0, 0, 0, 0, 0, 0, 0, 0, 0, 0, 0,\n",
       "       0, 0, 0, 0, 0, 0, 0, 0, 0, 0, 0, 0, 0, 0, 0, 0, 0, 0, 0, 0, 0, 0,\n",
       "       0, 0, 0, 0, 0, 0, 0, 0, 0, 0, 0, 0, 0, 0, 0, 0, 0, 0, 0, 0, 0, 0,\n",
       "       0, 0])"
      ]
     },
     "execution_count": 420,
     "metadata": {},
     "output_type": "execute_result"
    }
   ],
   "source": [
    "y_pred=probability_prediction(x_test,0.5)\n",
    "print(\"Predicted class:\")\n",
    "y_pred"
   ]
  },
  {
   "cell_type": "markdown",
   "metadata": {},
   "source": [
    "# LogLoss "
   ]
  },
  {
   "cell_type": "code",
   "execution_count": 421,
   "metadata": {},
   "outputs": [],
   "source": [
    "def logloss(test,prob,pred):\n",
    "    return(log_loss(test,prob),accuracy_score(test,pred.astype(int)),confusion_matrix(test,pred))"
   ]
  },
  {
   "cell_type": "code",
   "execution_count": 422,
   "metadata": {},
   "outputs": [
    {
     "name": "stdout",
     "output_type": "stream",
     "text": [
      "Logloss: 0.3227624599943916\n",
      "Accuracyscore: 0.875\n",
      "Confusion matrix:\n",
      "[[480   5]\n",
      " [ 64   3]]\n"
     ]
    }
   ],
   "source": [
    "logloss,accuracyscore,confusionmatrix=logloss(y_test,log_reg.predict_proba(x_test)[:,1],y_pred)\n",
    "print(\"Logloss:\",logloss)\n",
    "print(\"Accuracyscore:\",accuracyscore)\n",
    "print(\"Confusion matrix:\")\n",
    "print(confusionmatrix)"
   ]
  },
  {
   "cell_type": "code",
   "execution_count": 423,
   "metadata": {},
   "outputs": [
    {
     "data": {
      "text/plain": [
       "0    485\n",
       "1     67\n",
       "Name: churn, dtype: int64"
      ]
     },
     "execution_count": 423,
     "metadata": {},
     "output_type": "execute_result"
    }
   ],
   "source": [
    "y_test.value_counts()"
   ]
  },
  {
   "cell_type": "markdown",
   "metadata": {},
   "source": [
    "# Confusion Matrix"
   ]
  },
  {
   "cell_type": "code",
   "execution_count": 424,
   "metadata": {},
   "outputs": [],
   "source": [
    "# Sensitivity\n",
    "def confusion__matrix(confusion):\n",
    "    TP=confusion[1,1]\n",
    "    TN=confusion[0,0]\n",
    "    FP=confusion[0,1]\n",
    "    FN=confusion[1,0]\n",
    "    Accuracy= (TP+TN)/(TP+TN+FP+FN)\n",
    "    Recall= TP/(TP+FN) # When the actual value is +ve, how often is the prediction correct ? \n",
    "    Specificity= TN/ float(TN+FP) # When the actual value is -ve, how often is the prediction correct ?  Specificity\n",
    "    Precision= TP/(TP+FP)   # when a postive value is predicted, how often is the prediction correct ?\n",
    "    return(Accuracy,Recall,Specificity,Precision)"
   ]
  },
  {
   "cell_type": "code",
   "execution_count": 425,
   "metadata": {},
   "outputs": [
    {
     "name": "stdout",
     "output_type": "stream",
     "text": [
      "Accuracy: 0.875\n",
      "Recall: 0.04477611940298507\n",
      "Specificity: 0.9896907216494846\n",
      "Precision: 0.375\n"
     ]
    }
   ],
   "source": [
    "Accuracy,Recall,Specificity,Precision=confusion__matrix(confusionmatrix)\n",
    "print(\"Accuracy:\",Accuracy)\n",
    "print(\"Recall:\",Recall)\n",
    "print(\"Specificity:\",Specificity)\n",
    "print(\"Precision:\",Precision)"
   ]
  },
  {
   "cell_type": "markdown",
   "metadata": {},
   "source": [
    "Conclusion:There is an imbalanced dataset as 1 is less than 0.So we have to use SMOTE to balance the dataset"
   ]
  },
  {
   "cell_type": "markdown",
   "metadata": {},
   "source": [
    "# Classification report to analyse Precision and Recall"
   ]
  },
  {
   "cell_type": "code",
   "execution_count": 426,
   "metadata": {},
   "outputs": [
    {
     "name": "stdout",
     "output_type": "stream",
     "text": [
      "              precision    recall  f1-score   support\n",
      "\n",
      "           0       0.88      0.99      0.93       485\n",
      "           1       0.38      0.04      0.08        67\n",
      "\n",
      "    accuracy                           0.88       552\n",
      "   macro avg       0.63      0.52      0.51       552\n",
      "weighted avg       0.82      0.88      0.83       552\n",
      "\n"
     ]
    }
   ],
   "source": [
    "print(classification_report(y_test,y_pred))"
   ]
  },
  {
   "cell_type": "markdown",
   "metadata": {},
   "source": [
    "Conclusion:Precision & recall for 1 is low due to imbalanced dataset"
   ]
  },
  {
   "cell_type": "markdown",
   "metadata": {},
   "source": [
    "# K-Fold Cross Validation"
   ]
  },
  {
   "cell_type": "code",
   "execution_count": 427,
   "metadata": {},
   "outputs": [],
   "source": [
    "def kfoldcrossvalidation(model,a,b):\n",
    "    k_fold = KFold(n_splits=5)\n",
    "    accuracyscore =cross_val_score(model,a,b,cv=k_fold,n_jobs=-1)\n",
    "    rocauccurve= cross_val_score(model,a,b,cv=5, scoring='roc_auc')\n",
    "    return(accuracyscore,rocauccurve)"
   ]
  },
  {
   "cell_type": "code",
   "execution_count": 428,
   "metadata": {},
   "outputs": [
    {
     "name": "stdout",
     "output_type": "stream",
     "text": [
      "AccuracyScore: [0.86413043 0.875      0.88043478 0.85869565 0.86413043]\n",
      "Std of AccuracyScore: 0.00798746655255385\n",
      "Mean of AccuracyScore: 0.8684782608695653\n",
      "RocCurveScore: [0.68648505 0.72088553 0.73003248 0.7078125  0.68320312]\n",
      "Std of RocAucCurve 0.01845239676727036\n",
      "Mean of RocAucCurve 0.7056837374478028\n"
     ]
    }
   ],
   "source": [
    "AccuracyScore,RocAucCurve=kfoldcrossvalidation(log_reg,x,y)\n",
    "print(\"AccuracyScore:\",AccuracyScore)\n",
    "print(\"Std of AccuracyScore:\",np.std(AccuracyScore))\n",
    "print(\"Mean of AccuracyScore:\",np.mean(AccuracyScore))\n",
    "print(\"RocCurveScore:\",RocAucCurve)\n",
    "print(\"Std of RocAucCurve\",np.std(RocAucCurve))\n",
    "print(\"Mean of RocAucCurve\",np.mean(RocAucCurve))"
   ]
  },
  {
   "cell_type": "markdown",
   "metadata": {},
   "source": [
    "# Check for overfitting and underfitting"
   ]
  },
  {
   "cell_type": "code",
   "execution_count": 429,
   "metadata": {},
   "outputs": [
    {
     "name": "stdout",
     "output_type": "stream",
     "text": [
      "Model Score on Training data set 0.8656832298136646\n",
      "Model Score on Training data set 0.875\n"
     ]
    }
   ],
   "source": [
    "logit_score_train = log_reg.score(x_train,y_train)\n",
    "print ('Model Score on Training data set', logit_score_train)\n",
    "logit_score_test = log_reg.score(x_test,y_test)\n",
    "print ('Model Score on Training data set', logit_score_test)"
   ]
  },
  {
   "cell_type": "markdown",
   "metadata": {},
   "source": [
    "Conclusion:Slight underfitting"
   ]
  },
  {
   "cell_type": "code",
   "execution_count": 430,
   "metadata": {},
   "outputs": [
    {
     "name": "stdout",
     "output_type": "stream",
     "text": [
      "Auc on  Training data set , 0.5086341155424602\n",
      "Auc on  Test data set 0.5172334205262348\n"
     ]
    }
   ],
   "source": [
    "logit_auc_train = roc_auc_score(y_train,log_reg.predict(x_train))\n",
    "logit_auc_test = roc_auc_score(y_test,log_reg.predict(x_test))\n",
    "print ('Auc on  Training data set', ',',logit_auc_train)\n",
    "print ('Auc on  Test data set', logit_auc_test)"
   ]
  },
  {
   "cell_type": "markdown",
   "metadata": {},
   "source": [
    "# ROC-AUC Visualisation"
   ]
  },
  {
   "cell_type": "code",
   "execution_count": 431,
   "metadata": {},
   "outputs": [
    {
     "data": {
      "image/png": "[encoded data removed]",
      "text/plain": [
       "<Figure size 432x288 with 1 Axes>"
      ]
     },
     "metadata": {},
     "output_type": "display_data"
    }
   ],
   "source": [
    "fpr, tpr, thresholds = roc_curve(y_test, log_reg.predict(x_test))\n",
    "\n",
    "roc_auc = auc(fpr,tpr)\n",
    "\n",
    "# Plot ROC\n",
    "plt.title('Receiver Operating Characteristic')\n",
    "plt.plot(fpr, tpr, 'b',label='AUC = %0.3f'% roc_auc)\n",
    "plt.legend(loc='lower right')\n",
    "plt.plot([0,1],[0,1],'r--')\n",
    "plt.xlim([-0.1,1.0])\n",
    "plt.ylim([-0.1,1.01])\n",
    "plt.ylabel('True Positive Rate')\n",
    "plt.xlabel('False Positive Rate')\n",
    "plt.show()"
   ]
  },
  {
   "cell_type": "markdown",
   "metadata": {},
   "source": [
    "# RFE"
   ]
  },
  {
   "cell_type": "code",
   "execution_count": 432,
   "metadata": {},
   "outputs": [
    {
     "name": "stdout",
     "output_type": "stream",
     "text": [
      "RFE(estimator=LogisticRegression(), n_features_to_select=8)\n",
      "[False  True  True  True False  True False False False False False  True\n",
      " False  True  True False  True]\n",
      "[ 4  1  1  1  3  1  7  5  2 10  8  1  9  1  1  6  1]\n",
      "8\n"
     ]
    }
   ],
   "source": [
    "from sklearn.feature_selection import RFE\n",
    "rfe = RFE(log_reg,8)\n",
    "r1 = rfe.fit(x,y)\n",
    "print (r1)\n",
    "print(r1.support_)\n",
    "print(r1.ranking_)\n",
    "print(r1.n_features_)\n",
    "#print(\"Num Features: %d\") % r1.n_features_\n",
    "#print(\"Selected Features: \") % r1.support_\n",
    "#print(\"Feature Ranking: %s\") % r1.ranking_"
   ]
  },
  {
   "cell_type": "code",
   "execution_count": 433,
   "metadata": {},
   "outputs": [
    {
     "data": {
      "text/html": [
       "<div>\n",
       "<style scoped>\n",
       "    .dataframe tbody tr th:only-of-type {\n",
       "        vertical-align: middle;\n",
       "    }\n",
       "\n",
       "    .dataframe tbody tr th {\n",
       "        vertical-align: top;\n",
       "    }\n",
       "\n",
       "    .dataframe thead th {\n",
       "        text-align: right;\n",
       "    }\n",
       "</style>\n",
       "<table border=\"1\" class=\"dataframe\">\n",
       "  <thead>\n",
       "    <tr style=\"text-align: right;\">\n",
       "      <th></th>\n",
       "      <th>Unnamed: 0</th>\n",
       "      <th>accountlength</th>\n",
       "      <th>internationalplan</th>\n",
       "      <th>voicemailplan</th>\n",
       "      <th>numbervmailmessages</th>\n",
       "      <th>totaldayminutes</th>\n",
       "      <th>totaldaycalls</th>\n",
       "      <th>totaldaycharge</th>\n",
       "      <th>totaleveminutes</th>\n",
       "      <th>totalevecalls</th>\n",
       "      <th>totalevecharge</th>\n",
       "      <th>totalnightminutes</th>\n",
       "      <th>totalnightcalls</th>\n",
       "      <th>totalnightcharge</th>\n",
       "      <th>totalintlminutes</th>\n",
       "      <th>totalintlcalls</th>\n",
       "      <th>totalintlcharge</th>\n",
       "      <th>numbercustomerservicecalls</th>\n",
       "      <th>churn</th>\n",
       "    </tr>\n",
       "  </thead>\n",
       "  <tbody>\n",
       "    <tr>\n",
       "      <th>0</th>\n",
       "      <td>1</td>\n",
       "      <td>128</td>\n",
       "      <td>0</td>\n",
       "      <td>1</td>\n",
       "      <td>25</td>\n",
       "      <td>265.1</td>\n",
       "      <td>110</td>\n",
       "      <td>45.07</td>\n",
       "      <td>197.4</td>\n",
       "      <td>99</td>\n",
       "      <td>16.78</td>\n",
       "      <td>244.7</td>\n",
       "      <td>91</td>\n",
       "      <td>11.01</td>\n",
       "      <td>10.0</td>\n",
       "      <td>3</td>\n",
       "      <td>2.70</td>\n",
       "      <td>1</td>\n",
       "      <td>0</td>\n",
       "    </tr>\n",
       "    <tr>\n",
       "      <th>1</th>\n",
       "      <td>2</td>\n",
       "      <td>107</td>\n",
       "      <td>0</td>\n",
       "      <td>1</td>\n",
       "      <td>26</td>\n",
       "      <td>161.6</td>\n",
       "      <td>123</td>\n",
       "      <td>27.47</td>\n",
       "      <td>195.5</td>\n",
       "      <td>103</td>\n",
       "      <td>16.62</td>\n",
       "      <td>254.4</td>\n",
       "      <td>103</td>\n",
       "      <td>11.45</td>\n",
       "      <td>13.7</td>\n",
       "      <td>3</td>\n",
       "      <td>3.70</td>\n",
       "      <td>1</td>\n",
       "      <td>0</td>\n",
       "    </tr>\n",
       "    <tr>\n",
       "      <th>2</th>\n",
       "      <td>3</td>\n",
       "      <td>137</td>\n",
       "      <td>0</td>\n",
       "      <td>0</td>\n",
       "      <td>0</td>\n",
       "      <td>243.4</td>\n",
       "      <td>114</td>\n",
       "      <td>41.38</td>\n",
       "      <td>121.2</td>\n",
       "      <td>110</td>\n",
       "      <td>10.30</td>\n",
       "      <td>162.6</td>\n",
       "      <td>104</td>\n",
       "      <td>7.32</td>\n",
       "      <td>12.2</td>\n",
       "      <td>5</td>\n",
       "      <td>3.29</td>\n",
       "      <td>0</td>\n",
       "      <td>0</td>\n",
       "    </tr>\n",
       "    <tr>\n",
       "      <th>3</th>\n",
       "      <td>4</td>\n",
       "      <td>84</td>\n",
       "      <td>1</td>\n",
       "      <td>0</td>\n",
       "      <td>0</td>\n",
       "      <td>299.4</td>\n",
       "      <td>71</td>\n",
       "      <td>50.90</td>\n",
       "      <td>61.9</td>\n",
       "      <td>88</td>\n",
       "      <td>5.26</td>\n",
       "      <td>196.9</td>\n",
       "      <td>89</td>\n",
       "      <td>8.86</td>\n",
       "      <td>6.6</td>\n",
       "      <td>7</td>\n",
       "      <td>1.78</td>\n",
       "      <td>2</td>\n",
       "      <td>0</td>\n",
       "    </tr>\n",
       "    <tr>\n",
       "      <th>4</th>\n",
       "      <td>5</td>\n",
       "      <td>75</td>\n",
       "      <td>1</td>\n",
       "      <td>0</td>\n",
       "      <td>0</td>\n",
       "      <td>166.7</td>\n",
       "      <td>113</td>\n",
       "      <td>28.34</td>\n",
       "      <td>148.3</td>\n",
       "      <td>122</td>\n",
       "      <td>12.61</td>\n",
       "      <td>186.9</td>\n",
       "      <td>121</td>\n",
       "      <td>8.41</td>\n",
       "      <td>10.1</td>\n",
       "      <td>3</td>\n",
       "      <td>2.73</td>\n",
       "      <td>3</td>\n",
       "      <td>0</td>\n",
       "    </tr>\n",
       "    <tr>\n",
       "      <th>5</th>\n",
       "      <td>6</td>\n",
       "      <td>118</td>\n",
       "      <td>1</td>\n",
       "      <td>0</td>\n",
       "      <td>0</td>\n",
       "      <td>223.4</td>\n",
       "      <td>98</td>\n",
       "      <td>37.98</td>\n",
       "      <td>220.6</td>\n",
       "      <td>101</td>\n",
       "      <td>18.75</td>\n",
       "      <td>203.9</td>\n",
       "      <td>118</td>\n",
       "      <td>9.18</td>\n",
       "      <td>6.3</td>\n",
       "      <td>6</td>\n",
       "      <td>1.70</td>\n",
       "      <td>0</td>\n",
       "      <td>0</td>\n",
       "    </tr>\n",
       "    <tr>\n",
       "      <th>6</th>\n",
       "      <td>7</td>\n",
       "      <td>121</td>\n",
       "      <td>0</td>\n",
       "      <td>1</td>\n",
       "      <td>24</td>\n",
       "      <td>218.2</td>\n",
       "      <td>88</td>\n",
       "      <td>37.09</td>\n",
       "      <td>348.5</td>\n",
       "      <td>108</td>\n",
       "      <td>29.62</td>\n",
       "      <td>212.6</td>\n",
       "      <td>118</td>\n",
       "      <td>9.57</td>\n",
       "      <td>7.5</td>\n",
       "      <td>7</td>\n",
       "      <td>2.03</td>\n",
       "      <td>3</td>\n",
       "      <td>0</td>\n",
       "    </tr>\n",
       "    <tr>\n",
       "      <th>7</th>\n",
       "      <td>8</td>\n",
       "      <td>147</td>\n",
       "      <td>1</td>\n",
       "      <td>0</td>\n",
       "      <td>0</td>\n",
       "      <td>157.0</td>\n",
       "      <td>79</td>\n",
       "      <td>26.69</td>\n",
       "      <td>103.1</td>\n",
       "      <td>94</td>\n",
       "      <td>8.76</td>\n",
       "      <td>211.8</td>\n",
       "      <td>96</td>\n",
       "      <td>9.53</td>\n",
       "      <td>7.1</td>\n",
       "      <td>6</td>\n",
       "      <td>1.92</td>\n",
       "      <td>0</td>\n",
       "      <td>0</td>\n",
       "    </tr>\n",
       "    <tr>\n",
       "      <th>8</th>\n",
       "      <td>9</td>\n",
       "      <td>117</td>\n",
       "      <td>0</td>\n",
       "      <td>0</td>\n",
       "      <td>0</td>\n",
       "      <td>184.5</td>\n",
       "      <td>97</td>\n",
       "      <td>31.37</td>\n",
       "      <td>351.6</td>\n",
       "      <td>80</td>\n",
       "      <td>29.89</td>\n",
       "      <td>215.8</td>\n",
       "      <td>90</td>\n",
       "      <td>9.71</td>\n",
       "      <td>8.7</td>\n",
       "      <td>4</td>\n",
       "      <td>2.35</td>\n",
       "      <td>1</td>\n",
       "      <td>0</td>\n",
       "    </tr>\n",
       "    <tr>\n",
       "      <th>9</th>\n",
       "      <td>10</td>\n",
       "      <td>141</td>\n",
       "      <td>1</td>\n",
       "      <td>1</td>\n",
       "      <td>37</td>\n",
       "      <td>258.6</td>\n",
       "      <td>84</td>\n",
       "      <td>43.96</td>\n",
       "      <td>222.0</td>\n",
       "      <td>111</td>\n",
       "      <td>18.87</td>\n",
       "      <td>326.4</td>\n",
       "      <td>97</td>\n",
       "      <td>14.69</td>\n",
       "      <td>11.2</td>\n",
       "      <td>5</td>\n",
       "      <td>3.02</td>\n",
       "      <td>0</td>\n",
       "      <td>0</td>\n",
       "    </tr>\n",
       "  </tbody>\n",
       "</table>\n",
       "</div>"
      ],
      "text/plain": [
       "   Unnamed: 0  accountlength  internationalplan  voicemailplan  \\\n",
       "0           1            128                  0              1   \n",
       "1           2            107                  0              1   \n",
       "2           3            137                  0              0   \n",
       "3           4             84                  1              0   \n",
       "4           5             75                  1              0   \n",
       "5           6            118                  1              0   \n",
       "6           7            121                  0              1   \n",
       "7           8            147                  1              0   \n",
       "8           9            117                  0              0   \n",
       "9          10            141                  1              1   \n",
       "\n",
       "   numbervmailmessages  totaldayminutes  totaldaycalls  totaldaycharge  \\\n",
       "0                   25            265.1            110           45.07   \n",
       "1                   26            161.6            123           27.47   \n",
       "2                    0            243.4            114           41.38   \n",
       "3                    0            299.4             71           50.90   \n",
       "4                    0            166.7            113           28.34   \n",
       "5                    0            223.4             98           37.98   \n",
       "6                   24            218.2             88           37.09   \n",
       "7                    0            157.0             79           26.69   \n",
       "8                    0            184.5             97           31.37   \n",
       "9                   37            258.6             84           43.96   \n",
       "\n",
       "   totaleveminutes  totalevecalls  totalevecharge  totalnightminutes  \\\n",
       "0            197.4             99           16.78              244.7   \n",
       "1            195.5            103           16.62              254.4   \n",
       "2            121.2            110           10.30              162.6   \n",
       "3             61.9             88            5.26              196.9   \n",
       "4            148.3            122           12.61              186.9   \n",
       "5            220.6            101           18.75              203.9   \n",
       "6            348.5            108           29.62              212.6   \n",
       "7            103.1             94            8.76              211.8   \n",
       "8            351.6             80           29.89              215.8   \n",
       "9            222.0            111           18.87              326.4   \n",
       "\n",
       "   totalnightcalls  totalnightcharge  totalintlminutes  totalintlcalls  \\\n",
       "0               91             11.01              10.0               3   \n",
       "1              103             11.45              13.7               3   \n",
       "2              104              7.32              12.2               5   \n",
       "3               89              8.86               6.6               7   \n",
       "4              121              8.41              10.1               3   \n",
       "5              118              9.18               6.3               6   \n",
       "6              118              9.57               7.5               7   \n",
       "7               96              9.53               7.1               6   \n",
       "8               90              9.71               8.7               4   \n",
       "9               97             14.69              11.2               5   \n",
       "\n",
       "   totalintlcharge  numbercustomerservicecalls  churn  \n",
       "0             2.70                           1      0  \n",
       "1             3.70                           1      0  \n",
       "2             3.29                           0      0  \n",
       "3             1.78                           2      0  \n",
       "4             2.73                           3      0  \n",
       "5             1.70                           0      0  \n",
       "6             2.03                           3      0  \n",
       "7             1.92                           0      0  \n",
       "8             2.35                           1      0  \n",
       "9             3.02                           0      0  "
      ]
     },
     "execution_count": 433,
     "metadata": {},
     "output_type": "execute_result"
    }
   ],
   "source": [
    "df2=pd.DataFrame()\n",
    "for col in df.columns:\n",
    "    col2=col\n",
    "    col2=col2.replace('.','')\n",
    "    df2[col2]=df[col]\n",
    "    #print(col2,col)\n",
    "df2.head(10)"
   ]
  },
  {
   "cell_type": "code",
   "execution_count": 434,
   "metadata": {},
   "outputs": [
    {
     "name": "stdout",
     "output_type": "stream",
     "text": [
      "Optimization terminated successfully.\n",
      "         Current function value: 0.307315\n",
      "         Iterations 8\n"
     ]
    }
   ],
   "source": [
    "glm = smf.logit(formula = \"churn~accountlength+internationalplan+voicemailplan+numbervmailmessages+totaldayminutes+totaldaycalls+totaldaycharge+totaleveminutes+totalevecalls+totalevecharge+totalnightminutes+totalnightcalls+totalnightcharge+totalintlminutes+totalintlcalls+totalintlcharge+numbercustomerservicecalls\", data = df2).fit()\n",
    "y, X = dmatrices(\"churn~accountlength+internationalplan+voicemailplan+numbervmailmessages+totaldayminutes+totaldaycalls+totaldaycharge+totaleveminutes+totalevecalls+totalevecharge+totalnightminutes+totalnightcalls+totalnightcharge+totalintlminutes+totalintlcalls+totalintlcharge+numbercustomerservicecalls\", data = df2, return_type = \"dataframe\")"
   ]
  },
  {
   "cell_type": "code",
   "execution_count": 435,
   "metadata": {},
   "outputs": [
    {
     "data": {
      "text/html": [
       "<table class=\"simpletable\">\n",
       "<caption>Logit Regression Results</caption>\n",
       "<tr>\n",
       "  <th>Dep. Variable:</th>       <td>churn</td>      <th>  No. Observations:  </th>  <td>  1840</td>  \n",
       "</tr>\n",
       "<tr>\n",
       "  <th>Model:</th>               <td>Logit</td>      <th>  Df Residuals:      </th>  <td>  1822</td>  \n",
       "</tr>\n",
       "<tr>\n",
       "  <th>Method:</th>               <td>MLE</td>       <th>  Df Model:          </th>  <td>    17</td>  \n",
       "</tr>\n",
       "<tr>\n",
       "  <th>Date:</th>          <td>Mon, 29 Jun 2020</td> <th>  Pseudo R-squ.:     </th>  <td>0.1999</td>  \n",
       "</tr>\n",
       "<tr>\n",
       "  <th>Time:</th>              <td>15:17:34</td>     <th>  Log-Likelihood:    </th> <td> -565.46</td> \n",
       "</tr>\n",
       "<tr>\n",
       "  <th>converged:</th>           <td>True</td>       <th>  LL-Null:           </th> <td> -706.76</td> \n",
       "</tr>\n",
       "<tr>\n",
       "  <th> </th>                      <td> </td>        <th>  LLR p-value:       </th> <td>4.342e-50</td>\n",
       "</tr>\n",
       "</table>\n",
       "<table class=\"simpletable\">\n",
       "<tr>\n",
       "               <td></td>                 <th>coef</th>     <th>std err</th>      <th>z</th>      <th>P>|z|</th>  <th>[0.025</th>    <th>0.975]</th>  \n",
       "</tr>\n",
       "<tr>\n",
       "  <th>Intercept</th>                  <td>   -7.3757</td> <td>    0.987</td> <td>   -7.473</td> <td> 0.000</td> <td>   -9.310</td> <td>   -5.441</td>\n",
       "</tr>\n",
       "<tr>\n",
       "  <th>accountlength</th>              <td>   -0.0015</td> <td>    0.002</td> <td>   -0.770</td> <td> 0.441</td> <td>   -0.005</td> <td>    0.002</td>\n",
       "</tr>\n",
       "<tr>\n",
       "  <th>internationalplan</th>          <td>    1.9658</td> <td>    0.196</td> <td>   10.031</td> <td> 0.000</td> <td>    1.582</td> <td>    2.350</td>\n",
       "</tr>\n",
       "<tr>\n",
       "  <th>voicemailplan</th>              <td>   -1.7391</td> <td>    0.776</td> <td>   -2.241</td> <td> 0.025</td> <td>   -3.260</td> <td>   -0.218</td>\n",
       "</tr>\n",
       "<tr>\n",
       "  <th>numbervmailmessages</th>        <td>    0.0267</td> <td>    0.024</td> <td>    1.106</td> <td> 0.269</td> <td>   -0.021</td> <td>    0.074</td>\n",
       "</tr>\n",
       "<tr>\n",
       "  <th>totaldayminutes</th>            <td>    0.9327</td> <td>    4.602</td> <td>    0.203</td> <td> 0.839</td> <td>   -8.087</td> <td>    9.953</td>\n",
       "</tr>\n",
       "<tr>\n",
       "  <th>totaldaycalls</th>              <td>   -0.0008</td> <td>    0.004</td> <td>   -0.195</td> <td> 0.845</td> <td>   -0.008</td> <td>    0.007</td>\n",
       "</tr>\n",
       "<tr>\n",
       "  <th>totaldaycharge</th>             <td>   -5.4204</td> <td>   27.072</td> <td>   -0.200</td> <td> 0.841</td> <td>  -58.480</td> <td>   47.639</td>\n",
       "</tr>\n",
       "<tr>\n",
       "  <th>totaleveminutes</th>            <td>    2.3178</td> <td>    2.333</td> <td>    0.994</td> <td> 0.320</td> <td>   -2.255</td> <td>    6.890</td>\n",
       "</tr>\n",
       "<tr>\n",
       "  <th>totalevecalls</th>              <td>    0.0019</td> <td>    0.004</td> <td>    0.482</td> <td> 0.630</td> <td>   -0.006</td> <td>    0.010</td>\n",
       "</tr>\n",
       "<tr>\n",
       "  <th>totalevecharge</th>             <td>  -27.1973</td> <td>   27.445</td> <td>   -0.991</td> <td> 0.322</td> <td>  -80.989</td> <td>   26.595</td>\n",
       "</tr>\n",
       "<tr>\n",
       "  <th>totalnightminutes</th>          <td>   -0.9645</td> <td>    1.225</td> <td>   -0.787</td> <td> 0.431</td> <td>   -3.366</td> <td>    1.437</td>\n",
       "</tr>\n",
       "<tr>\n",
       "  <th>totalnightcalls</th>            <td>   -0.0036</td> <td>    0.004</td> <td>   -0.890</td> <td> 0.373</td> <td>   -0.011</td> <td>    0.004</td>\n",
       "</tr>\n",
       "<tr>\n",
       "  <th>totalnightcharge</th>           <td>   21.5199</td> <td>   27.226</td> <td>    0.790</td> <td> 0.429</td> <td>  -31.842</td> <td>   74.882</td>\n",
       "</tr>\n",
       "<tr>\n",
       "  <th>totalintlminutes</th>           <td>  -13.1027</td> <td>    7.478</td> <td>   -1.752</td> <td> 0.080</td> <td>  -27.759</td> <td>    1.553</td>\n",
       "</tr>\n",
       "<tr>\n",
       "  <th>totalintlcalls</th>             <td>   -0.0674</td> <td>    0.033</td> <td>   -2.015</td> <td> 0.044</td> <td>   -0.133</td> <td>   -0.002</td>\n",
       "</tr>\n",
       "<tr>\n",
       "  <th>totalintlcharge</th>            <td>   48.8524</td> <td>   27.691</td> <td>    1.764</td> <td> 0.078</td> <td>   -5.422</td> <td>  103.127</td>\n",
       "</tr>\n",
       "<tr>\n",
       "  <th>numbercustomerservicecalls</th> <td>    0.5151</td> <td>    0.055</td> <td>    9.365</td> <td> 0.000</td> <td>    0.407</td> <td>    0.623</td>\n",
       "</tr>\n",
       "</table>"
      ],
      "text/plain": [
       "<class 'statsmodels.iolib.summary.Summary'>\n",
       "\"\"\"\n",
       "                           Logit Regression Results                           \n",
       "==============================================================================\n",
       "Dep. Variable:                  churn   No. Observations:                 1840\n",
       "Model:                          Logit   Df Residuals:                     1822\n",
       "Method:                           MLE   Df Model:                           17\n",
       "Date:                Mon, 29 Jun 2020   Pseudo R-squ.:                  0.1999\n",
       "Time:                        15:17:34   Log-Likelihood:                -565.46\n",
       "converged:                       True   LL-Null:                       -706.76\n",
       "                                        LLR p-value:                 4.342e-50\n",
       "==============================================================================================\n",
       "                                 coef    std err          z      P>|z|      [0.025      0.975]\n",
       "----------------------------------------------------------------------------------------------\n",
       "Intercept                     -7.3757      0.987     -7.473      0.000      -9.310      -5.441\n",
       "accountlength                 -0.0015      0.002     -0.770      0.441      -0.005       0.002\n",
       "internationalplan              1.9658      0.196     10.031      0.000       1.582       2.350\n",
       "voicemailplan                 -1.7391      0.776     -2.241      0.025      -3.260      -0.218\n",
       "numbervmailmessages            0.0267      0.024      1.106      0.269      -0.021       0.074\n",
       "totaldayminutes                0.9327      4.602      0.203      0.839      -8.087       9.953\n",
       "totaldaycalls                 -0.0008      0.004     -0.195      0.845      -0.008       0.007\n",
       "totaldaycharge                -5.4204     27.072     -0.200      0.841     -58.480      47.639\n",
       "totaleveminutes                2.3178      2.333      0.994      0.320      -2.255       6.890\n",
       "totalevecalls                  0.0019      0.004      0.482      0.630      -0.006       0.010\n",
       "totalevecharge               -27.1973     27.445     -0.991      0.322     -80.989      26.595\n",
       "totalnightminutes             -0.9645      1.225     -0.787      0.431      -3.366       1.437\n",
       "totalnightcalls               -0.0036      0.004     -0.890      0.373      -0.011       0.004\n",
       "totalnightcharge              21.5199     27.226      0.790      0.429     -31.842      74.882\n",
       "totalintlminutes             -13.1027      7.478     -1.752      0.080     -27.759       1.553\n",
       "totalintlcalls                -0.0674      0.033     -2.015      0.044      -0.133      -0.002\n",
       "totalintlcharge               48.8524     27.691      1.764      0.078      -5.422     103.127\n",
       "numbercustomerservicecalls     0.5151      0.055      9.365      0.000       0.407       0.623\n",
       "==============================================================================================\n",
       "\"\"\""
      ]
     },
     "execution_count": 435,
     "metadata": {},
     "output_type": "execute_result"
    }
   ],
   "source": [
    "glm.summary()"
   ]
  },
  {
   "cell_type": "code",
   "execution_count": 436,
   "metadata": {},
   "outputs": [
    {
     "name": "stdout",
     "output_type": "stream",
     "text": [
      "[140.2931535652043, 1.0100164338372306, 1.0139062481619492, 12.473352775140556, 12.478294025583068, 10547680.355191493, 1.0078804374142105, 10547675.130456077, 2355908.3261331352, 1.0086341475622704, 2355910.53339059, 664451.4652789739, 1.0073223564309344, 664450.6314709764, 69214.71285571596, 1.0088582676216742, 69216.29204823499, 1.0047273435415585]\n",
      "18\n",
      "Index(['Intercept', 'accountlength', 'internationalplan', 'voicemailplan',\n",
      "       'numbervmailmessages', 'totaldayminutes', 'totaldaycalls',\n",
      "       'totaldaycharge', 'totaleveminutes', 'totalevecalls', 'totalevecharge',\n",
      "       'totalnightminutes', 'totalnightcalls', 'totalnightcharge',\n",
      "       'totalintlminutes', 'totalintlcalls', 'totalintlcharge',\n",
      "       'numbercustomerservicecalls'],\n",
      "      dtype='object')\n",
      "18\n"
     ]
    }
   ],
   "source": [
    "vif = [variance_inflation_factor(X.values, i) for i in range(X.shape[1])]\n",
    "print (vif)\n",
    "print(len(vif))\n",
    "print(X.columns)\n",
    "print(len(X.columns))"
   ]
  },
  {
   "cell_type": "markdown",
   "metadata": {},
   "source": [
    "Conclusion:Vif for voicemailplan,numbervmailmessages,totaldayminutes,totaldaycharge,totaleveminutes,totalevecharge,totalnightminutes,totalnightcharge,totalintlminutes,totalintlcharge are more than 10"
   ]
  },
  {
   "cell_type": "markdown",
   "metadata": {},
   "source": [
    "# We have to perform SMOTE as the data is imbalanced and follow the same steps to fit model which is done before SMOTE"
   ]
  },
  {
   "cell_type": "markdown",
   "metadata": {},
   "source": [
    "# Perform SMOTE"
   ]
  },
  {
   "cell_type": "code",
   "execution_count": 474,
   "metadata": {},
   "outputs": [
    {
     "name": "stdout",
     "output_type": "stream",
     "text": [
      "0    1603\n",
      "1     237\n",
      "Name: churn, dtype: int64\n",
      "The number of transactions after resampling : 3206\n"
     ]
    }
   ],
   "source": [
    "X_resample, y_resample = SMOTE().fit_sample(x, y)\n",
    "print(df['churn'].value_counts())\n",
    "print ('The number of transactions after resampling : ' + str(len(X_resample)))\n",
    "#print ('If the number of Churners is equal to the number of normal tansactions? ' + str(sum(y_resample == 0) == sum(y_resample == 1)))"
   ]
  },
  {
   "cell_type": "code",
   "execution_count": 475,
   "metadata": {},
   "outputs": [
    {
     "data": {
      "text/plain": [
       "Index(['account.length', 'international.plan', 'voice.mail.plan',\n",
       "       'number.vmail.messages', 'total.day.minutes', 'total.day.calls',\n",
       "       'total.day.charge', 'total.eve.minutes', 'total.eve.calls',\n",
       "       'total.eve.charge', 'total.night.minutes', 'total.night.calls',\n",
       "       'total.night.charge', 'total.intl.minutes', 'total.intl.calls',\n",
       "       'total.intl.charge', 'number.customer.service.calls'],\n",
       "      dtype='object')"
      ]
     },
     "execution_count": 475,
     "metadata": {},
     "output_type": "execute_result"
    }
   ],
   "source": [
    "X_resample.columns"
   ]
  },
  {
   "cell_type": "code",
   "execution_count": 476,
   "metadata": {},
   "outputs": [],
   "source": [
    "##Remove totaldayminutes,totaldaycharge,totaleveminutes,totalevecharge,totalnightminutes,totalnightcharge,totalintlminutes,totalintlcharge\n",
    "#X_resample=X_resample.loc[:,['account.length','international.plan','total.day.calls','total.eve.calls','total.night.calls','total.intl.calls','number.customer.service.calls']]\n",
    "X_resample=X_resample.loc[:,['account.length','international.plan', 'voice.mail.plan',\n",
    "                             'number.vmail.messages','total.day.calls',\n",
    "                             'total.eve.calls','total.night.calls','total.intl.calls','number.customer.service.calls']]"
   ]
  },
  {
   "cell_type": "code",
   "execution_count": 477,
   "metadata": {},
   "outputs": [
    {
     "data": {
      "text/plain": [
       "1.0    1603\n",
       "0.0    1603\n",
       "Name: churn, dtype: int64"
      ]
     },
     "execution_count": 477,
     "metadata": {},
     "output_type": "execute_result"
    }
   ],
   "source": [
    "yy= pd.DataFrame(y_resample)\n",
    "yy['churn'].value_counts()"
   ]
  },
  {
   "cell_type": "markdown",
   "metadata": {},
   "source": [
    "# Histogram after SMOTE"
   ]
  },
  {
   "cell_type": "code",
   "execution_count": 478,
   "metadata": {},
   "outputs": [
    {
     "data": {
      "image/png": "[encoded data removed]",
      "text/plain": [
       "<Figure size 1296x1296 with 1 Axes>"
      ]
     },
     "metadata": {},
     "output_type": "display_data"
    },
    {
     "data": {
      "image/png": "[encoded data removed]",
      "text/plain": [
       "<Figure size 432x288 with 1 Axes>"
      ]
     },
     "metadata": {},
     "output_type": "display_data"
    },
    {
     "data": {
      "image/png": "[encoded data removed]",
      "text/plain": [
       "<Figure size 432x288 with 1 Axes>"
      ]
     },
     "metadata": {},
     "output_type": "display_data"
    },
    {
     "data": {
      "image/png": "[encoded data removed]",
      "text/plain": [
       "<Figure size 432x288 with 1 Axes>"
      ]
     },
     "metadata": {},
     "output_type": "display_data"
    },
    {
     "data": {
      "image/png": "[encoded data removed]",
      "text/plain": [
       "<Figure size 432x288 with 1 Axes>"
      ]
     },
     "metadata": {},
     "output_type": "display_data"
    },
    {
     "data": {
      "image/png": "[encoded data removed]",
      "text/plain": [
       "<Figure size 432x288 with 1 Axes>"
      ]
     },
     "metadata": {},
     "output_type": "display_data"
    },
    {
     "data": {
      "image/png": "[encoded data removed]",
      "text/plain": [
       "<Figure size 432x288 with 1 Axes>"
      ]
     },
     "metadata": {},
     "output_type": "display_data"
    },
    {
     "data": {
      "image/png": "[encoded data removed]",
      "text/plain": [
       "<Figure size 432x288 with 1 Axes>"
      ]
     },
     "metadata": {},
     "output_type": "display_data"
    }
   ],
   "source": [
    "##histogram\n",
    "plt.style.use('ggplot')  \n",
    "fig = plt.figure(figsize = (18, 18))\n",
    "for index, feature_name in enumerate(X_resample.columns[1:]): \n",
    "    ax = fig.add_subplot(4, 4, index + 1) \n",
    "    plt.hist(df[feature_name])\n",
    "    plt.ylabel('Frequency', size = 12) \n",
    "    plt.xlabel(feature_name, size = 12) \n",
    "    plt.show() "
   ]
  },
  {
   "cell_type": "markdown",
   "metadata": {},
   "source": [
    "    Conclusion:\n",
    "        Not normally distributed\n",
    "        1.number.vmail.messages (bad)\n",
    "        2.totl.intl.calls(ok)\n",
    "        3.number.customer.service.calls(ok)"
   ]
  },
  {
   "cell_type": "markdown",
   "metadata": {},
   "source": [
    "# Boxplot after SMOTE"
   ]
  },
  {
   "cell_type": "code",
   "execution_count": 479,
   "metadata": {},
   "outputs": [
    {
     "data": {
      "image/png": "[encoded data removed]",
      "text/plain": [
       "<Figure size 1296x1296 with 1 Axes>"
      ]
     },
     "metadata": {},
     "output_type": "display_data"
    },
    {
     "data": {
      "image/png": "[encoded data removed]",
      "text/plain": [
       "<Figure size 432x288 with 1 Axes>"
      ]
     },
     "metadata": {},
     "output_type": "display_data"
    },
    {
     "data": {
      "image/png": "[encoded data removed]",
      "text/plain": [
       "<Figure size 432x288 with 1 Axes>"
      ]
     },
     "metadata": {},
     "output_type": "display_data"
    },
    {
     "data": {
      "image/png": "[encoded data removed]",
      "text/plain": [
       "<Figure size 432x288 with 1 Axes>"
      ]
     },
     "metadata": {},
     "output_type": "display_data"
    },
    {
     "data": {
      "image/png": "[encoded data removed]",
      "text/plain": [
       "<Figure size 432x288 with 1 Axes>"
      ]
     },
     "metadata": {},
     "output_type": "display_data"
    },
    {
     "data": {
      "image/png": "[encoded data removed]",
      "text/plain": [
       "<Figure size 432x288 with 1 Axes>"
      ]
     },
     "metadata": {},
     "output_type": "display_data"
    },
    {
     "data": {
      "image/png": "[encoded data removed]",
      "text/plain": [
       "<Figure size 432x288 with 1 Axes>"
      ]
     },
     "metadata": {},
     "output_type": "display_data"
    },
    {
     "data": {
      "image/png": "[encoded data removed]",
      "text/plain": [
       "<Figure size 432x288 with 1 Axes>"
      ]
     },
     "metadata": {},
     "output_type": "display_data"
    }
   ],
   "source": [
    "#Boxplot\n",
    "plt.style.use('ggplot')  \n",
    "fig = plt.figure(figsize = (18, 18))\n",
    "for index, feature_name in enumerate(X_resample.columns[1:]): \n",
    "    ax = fig.add_subplot(4, 4, index + 1) \n",
    "    plt.boxplot(df[feature_name])\n",
    "    plt.xlabel(feature_name, size = 12) \n",
    "    plt.show() "
   ]
  },
  {
   "cell_type": "markdown",
   "metadata": {},
   "source": [
    "# Correlation between numeric and numeric variables after SMOTE"
   ]
  },
  {
   "cell_type": "code",
   "execution_count": 480,
   "metadata": {},
   "outputs": [
    {
     "data": {
      "text/html": [
       "<div>\n",
       "<style scoped>\n",
       "    .dataframe tbody tr th:only-of-type {\n",
       "        vertical-align: middle;\n",
       "    }\n",
       "\n",
       "    .dataframe tbody tr th {\n",
       "        vertical-align: top;\n",
       "    }\n",
       "\n",
       "    .dataframe thead th {\n",
       "        text-align: right;\n",
       "    }\n",
       "</style>\n",
       "<table border=\"1\" class=\"dataframe\">\n",
       "  <thead>\n",
       "    <tr style=\"text-align: right;\">\n",
       "      <th></th>\n",
       "      <th>account.length</th>\n",
       "      <th>number.vmail.messages</th>\n",
       "      <th>total.day.minutes</th>\n",
       "      <th>total.day.calls</th>\n",
       "      <th>total.day.charge</th>\n",
       "      <th>total.eve.minutes</th>\n",
       "      <th>total.eve.calls</th>\n",
       "      <th>total.eve.charge</th>\n",
       "      <th>total.night.minutes</th>\n",
       "      <th>total.night.calls</th>\n",
       "      <th>total.night.charge</th>\n",
       "      <th>total.intl.minutes</th>\n",
       "      <th>total.intl.calls</th>\n",
       "      <th>total.intl.charge</th>\n",
       "      <th>number.customer.service.calls</th>\n",
       "    </tr>\n",
       "  </thead>\n",
       "  <tbody>\n",
       "    <tr>\n",
       "      <th>account.length</th>\n",
       "      <td>1.0</td>\n",
       "      <td>NaN</td>\n",
       "      <td>NaN</td>\n",
       "      <td>NaN</td>\n",
       "      <td>NaN</td>\n",
       "      <td>NaN</td>\n",
       "      <td>NaN</td>\n",
       "      <td>NaN</td>\n",
       "      <td>NaN</td>\n",
       "      <td>NaN</td>\n",
       "      <td>NaN</td>\n",
       "      <td>NaN</td>\n",
       "      <td>NaN</td>\n",
       "      <td>NaN</td>\n",
       "      <td>NaN</td>\n",
       "    </tr>\n",
       "    <tr>\n",
       "      <th>number.vmail.messages</th>\n",
       "      <td>NaN</td>\n",
       "      <td>1.0</td>\n",
       "      <td>NaN</td>\n",
       "      <td>NaN</td>\n",
       "      <td>NaN</td>\n",
       "      <td>NaN</td>\n",
       "      <td>NaN</td>\n",
       "      <td>NaN</td>\n",
       "      <td>NaN</td>\n",
       "      <td>NaN</td>\n",
       "      <td>NaN</td>\n",
       "      <td>NaN</td>\n",
       "      <td>NaN</td>\n",
       "      <td>NaN</td>\n",
       "      <td>NaN</td>\n",
       "    </tr>\n",
       "    <tr>\n",
       "      <th>total.day.minutes</th>\n",
       "      <td>NaN</td>\n",
       "      <td>NaN</td>\n",
       "      <td>NaN</td>\n",
       "      <td>NaN</td>\n",
       "      <td>NaN</td>\n",
       "      <td>NaN</td>\n",
       "      <td>NaN</td>\n",
       "      <td>NaN</td>\n",
       "      <td>NaN</td>\n",
       "      <td>NaN</td>\n",
       "      <td>NaN</td>\n",
       "      <td>NaN</td>\n",
       "      <td>NaN</td>\n",
       "      <td>NaN</td>\n",
       "      <td>NaN</td>\n",
       "    </tr>\n",
       "    <tr>\n",
       "      <th>total.day.calls</th>\n",
       "      <td>NaN</td>\n",
       "      <td>NaN</td>\n",
       "      <td>NaN</td>\n",
       "      <td>1.0</td>\n",
       "      <td>NaN</td>\n",
       "      <td>NaN</td>\n",
       "      <td>NaN</td>\n",
       "      <td>NaN</td>\n",
       "      <td>NaN</td>\n",
       "      <td>NaN</td>\n",
       "      <td>NaN</td>\n",
       "      <td>NaN</td>\n",
       "      <td>NaN</td>\n",
       "      <td>NaN</td>\n",
       "      <td>NaN</td>\n",
       "    </tr>\n",
       "    <tr>\n",
       "      <th>total.day.charge</th>\n",
       "      <td>NaN</td>\n",
       "      <td>NaN</td>\n",
       "      <td>NaN</td>\n",
       "      <td>NaN</td>\n",
       "      <td>NaN</td>\n",
       "      <td>NaN</td>\n",
       "      <td>NaN</td>\n",
       "      <td>NaN</td>\n",
       "      <td>NaN</td>\n",
       "      <td>NaN</td>\n",
       "      <td>NaN</td>\n",
       "      <td>NaN</td>\n",
       "      <td>NaN</td>\n",
       "      <td>NaN</td>\n",
       "      <td>NaN</td>\n",
       "    </tr>\n",
       "    <tr>\n",
       "      <th>total.eve.minutes</th>\n",
       "      <td>NaN</td>\n",
       "      <td>NaN</td>\n",
       "      <td>NaN</td>\n",
       "      <td>NaN</td>\n",
       "      <td>NaN</td>\n",
       "      <td>NaN</td>\n",
       "      <td>NaN</td>\n",
       "      <td>NaN</td>\n",
       "      <td>NaN</td>\n",
       "      <td>NaN</td>\n",
       "      <td>NaN</td>\n",
       "      <td>NaN</td>\n",
       "      <td>NaN</td>\n",
       "      <td>NaN</td>\n",
       "      <td>NaN</td>\n",
       "    </tr>\n",
       "    <tr>\n",
       "      <th>total.eve.calls</th>\n",
       "      <td>NaN</td>\n",
       "      <td>NaN</td>\n",
       "      <td>NaN</td>\n",
       "      <td>NaN</td>\n",
       "      <td>NaN</td>\n",
       "      <td>NaN</td>\n",
       "      <td>1.0</td>\n",
       "      <td>NaN</td>\n",
       "      <td>NaN</td>\n",
       "      <td>NaN</td>\n",
       "      <td>NaN</td>\n",
       "      <td>NaN</td>\n",
       "      <td>NaN</td>\n",
       "      <td>NaN</td>\n",
       "      <td>NaN</td>\n",
       "    </tr>\n",
       "    <tr>\n",
       "      <th>total.eve.charge</th>\n",
       "      <td>NaN</td>\n",
       "      <td>NaN</td>\n",
       "      <td>NaN</td>\n",
       "      <td>NaN</td>\n",
       "      <td>NaN</td>\n",
       "      <td>NaN</td>\n",
       "      <td>NaN</td>\n",
       "      <td>NaN</td>\n",
       "      <td>NaN</td>\n",
       "      <td>NaN</td>\n",
       "      <td>NaN</td>\n",
       "      <td>NaN</td>\n",
       "      <td>NaN</td>\n",
       "      <td>NaN</td>\n",
       "      <td>NaN</td>\n",
       "    </tr>\n",
       "    <tr>\n",
       "      <th>total.night.minutes</th>\n",
       "      <td>NaN</td>\n",
       "      <td>NaN</td>\n",
       "      <td>NaN</td>\n",
       "      <td>NaN</td>\n",
       "      <td>NaN</td>\n",
       "      <td>NaN</td>\n",
       "      <td>NaN</td>\n",
       "      <td>NaN</td>\n",
       "      <td>NaN</td>\n",
       "      <td>NaN</td>\n",
       "      <td>NaN</td>\n",
       "      <td>NaN</td>\n",
       "      <td>NaN</td>\n",
       "      <td>NaN</td>\n",
       "      <td>NaN</td>\n",
       "    </tr>\n",
       "    <tr>\n",
       "      <th>total.night.calls</th>\n",
       "      <td>NaN</td>\n",
       "      <td>NaN</td>\n",
       "      <td>NaN</td>\n",
       "      <td>NaN</td>\n",
       "      <td>NaN</td>\n",
       "      <td>NaN</td>\n",
       "      <td>NaN</td>\n",
       "      <td>NaN</td>\n",
       "      <td>NaN</td>\n",
       "      <td>1.0</td>\n",
       "      <td>NaN</td>\n",
       "      <td>NaN</td>\n",
       "      <td>NaN</td>\n",
       "      <td>NaN</td>\n",
       "      <td>NaN</td>\n",
       "    </tr>\n",
       "    <tr>\n",
       "      <th>total.night.charge</th>\n",
       "      <td>NaN</td>\n",
       "      <td>NaN</td>\n",
       "      <td>NaN</td>\n",
       "      <td>NaN</td>\n",
       "      <td>NaN</td>\n",
       "      <td>NaN</td>\n",
       "      <td>NaN</td>\n",
       "      <td>NaN</td>\n",
       "      <td>NaN</td>\n",
       "      <td>NaN</td>\n",
       "      <td>NaN</td>\n",
       "      <td>NaN</td>\n",
       "      <td>NaN</td>\n",
       "      <td>NaN</td>\n",
       "      <td>NaN</td>\n",
       "    </tr>\n",
       "    <tr>\n",
       "      <th>total.intl.minutes</th>\n",
       "      <td>NaN</td>\n",
       "      <td>NaN</td>\n",
       "      <td>NaN</td>\n",
       "      <td>NaN</td>\n",
       "      <td>NaN</td>\n",
       "      <td>NaN</td>\n",
       "      <td>NaN</td>\n",
       "      <td>NaN</td>\n",
       "      <td>NaN</td>\n",
       "      <td>NaN</td>\n",
       "      <td>NaN</td>\n",
       "      <td>NaN</td>\n",
       "      <td>NaN</td>\n",
       "      <td>NaN</td>\n",
       "      <td>NaN</td>\n",
       "    </tr>\n",
       "    <tr>\n",
       "      <th>total.intl.calls</th>\n",
       "      <td>NaN</td>\n",
       "      <td>NaN</td>\n",
       "      <td>NaN</td>\n",
       "      <td>NaN</td>\n",
       "      <td>NaN</td>\n",
       "      <td>NaN</td>\n",
       "      <td>NaN</td>\n",
       "      <td>NaN</td>\n",
       "      <td>NaN</td>\n",
       "      <td>NaN</td>\n",
       "      <td>NaN</td>\n",
       "      <td>NaN</td>\n",
       "      <td>1.0</td>\n",
       "      <td>NaN</td>\n",
       "      <td>NaN</td>\n",
       "    </tr>\n",
       "    <tr>\n",
       "      <th>total.intl.charge</th>\n",
       "      <td>NaN</td>\n",
       "      <td>NaN</td>\n",
       "      <td>NaN</td>\n",
       "      <td>NaN</td>\n",
       "      <td>NaN</td>\n",
       "      <td>NaN</td>\n",
       "      <td>NaN</td>\n",
       "      <td>NaN</td>\n",
       "      <td>NaN</td>\n",
       "      <td>NaN</td>\n",
       "      <td>NaN</td>\n",
       "      <td>NaN</td>\n",
       "      <td>NaN</td>\n",
       "      <td>NaN</td>\n",
       "      <td>NaN</td>\n",
       "    </tr>\n",
       "    <tr>\n",
       "      <th>number.customer.service.calls</th>\n",
       "      <td>NaN</td>\n",
       "      <td>NaN</td>\n",
       "      <td>NaN</td>\n",
       "      <td>NaN</td>\n",
       "      <td>NaN</td>\n",
       "      <td>NaN</td>\n",
       "      <td>NaN</td>\n",
       "      <td>NaN</td>\n",
       "      <td>NaN</td>\n",
       "      <td>NaN</td>\n",
       "      <td>NaN</td>\n",
       "      <td>NaN</td>\n",
       "      <td>NaN</td>\n",
       "      <td>NaN</td>\n",
       "      <td>1.0</td>\n",
       "    </tr>\n",
       "  </tbody>\n",
       "</table>\n",
       "</div>"
      ],
      "text/plain": [
       "                               account.length  number.vmail.messages  \\\n",
       "account.length                            1.0                    NaN   \n",
       "number.vmail.messages                     NaN                    1.0   \n",
       "total.day.minutes                         NaN                    NaN   \n",
       "total.day.calls                           NaN                    NaN   \n",
       "total.day.charge                          NaN                    NaN   \n",
       "total.eve.minutes                         NaN                    NaN   \n",
       "total.eve.calls                           NaN                    NaN   \n",
       "total.eve.charge                          NaN                    NaN   \n",
       "total.night.minutes                       NaN                    NaN   \n",
       "total.night.calls                         NaN                    NaN   \n",
       "total.night.charge                        NaN                    NaN   \n",
       "total.intl.minutes                        NaN                    NaN   \n",
       "total.intl.calls                          NaN                    NaN   \n",
       "total.intl.charge                         NaN                    NaN   \n",
       "number.customer.service.calls             NaN                    NaN   \n",
       "\n",
       "                               total.day.minutes  total.day.calls  \\\n",
       "account.length                               NaN              NaN   \n",
       "number.vmail.messages                        NaN              NaN   \n",
       "total.day.minutes                            NaN              NaN   \n",
       "total.day.calls                              NaN              1.0   \n",
       "total.day.charge                             NaN              NaN   \n",
       "total.eve.minutes                            NaN              NaN   \n",
       "total.eve.calls                              NaN              NaN   \n",
       "total.eve.charge                             NaN              NaN   \n",
       "total.night.minutes                          NaN              NaN   \n",
       "total.night.calls                            NaN              NaN   \n",
       "total.night.charge                           NaN              NaN   \n",
       "total.intl.minutes                           NaN              NaN   \n",
       "total.intl.calls                             NaN              NaN   \n",
       "total.intl.charge                            NaN              NaN   \n",
       "number.customer.service.calls                NaN              NaN   \n",
       "\n",
       "                               total.day.charge  total.eve.minutes  \\\n",
       "account.length                              NaN                NaN   \n",
       "number.vmail.messages                       NaN                NaN   \n",
       "total.day.minutes                           NaN                NaN   \n",
       "total.day.calls                             NaN                NaN   \n",
       "total.day.charge                            NaN                NaN   \n",
       "total.eve.minutes                           NaN                NaN   \n",
       "total.eve.calls                             NaN                NaN   \n",
       "total.eve.charge                            NaN                NaN   \n",
       "total.night.minutes                         NaN                NaN   \n",
       "total.night.calls                           NaN                NaN   \n",
       "total.night.charge                          NaN                NaN   \n",
       "total.intl.minutes                          NaN                NaN   \n",
       "total.intl.calls                            NaN                NaN   \n",
       "total.intl.charge                           NaN                NaN   \n",
       "number.customer.service.calls               NaN                NaN   \n",
       "\n",
       "                               total.eve.calls  total.eve.charge  \\\n",
       "account.length                             NaN               NaN   \n",
       "number.vmail.messages                      NaN               NaN   \n",
       "total.day.minutes                          NaN               NaN   \n",
       "total.day.calls                            NaN               NaN   \n",
       "total.day.charge                           NaN               NaN   \n",
       "total.eve.minutes                          NaN               NaN   \n",
       "total.eve.calls                            1.0               NaN   \n",
       "total.eve.charge                           NaN               NaN   \n",
       "total.night.minutes                        NaN               NaN   \n",
       "total.night.calls                          NaN               NaN   \n",
       "total.night.charge                         NaN               NaN   \n",
       "total.intl.minutes                         NaN               NaN   \n",
       "total.intl.calls                           NaN               NaN   \n",
       "total.intl.charge                          NaN               NaN   \n",
       "number.customer.service.calls              NaN               NaN   \n",
       "\n",
       "                               total.night.minutes  total.night.calls  \\\n",
       "account.length                                 NaN                NaN   \n",
       "number.vmail.messages                          NaN                NaN   \n",
       "total.day.minutes                              NaN                NaN   \n",
       "total.day.calls                                NaN                NaN   \n",
       "total.day.charge                               NaN                NaN   \n",
       "total.eve.minutes                              NaN                NaN   \n",
       "total.eve.calls                                NaN                NaN   \n",
       "total.eve.charge                               NaN                NaN   \n",
       "total.night.minutes                            NaN                NaN   \n",
       "total.night.calls                              NaN                1.0   \n",
       "total.night.charge                             NaN                NaN   \n",
       "total.intl.minutes                             NaN                NaN   \n",
       "total.intl.calls                               NaN                NaN   \n",
       "total.intl.charge                              NaN                NaN   \n",
       "number.customer.service.calls                  NaN                NaN   \n",
       "\n",
       "                               total.night.charge  total.intl.minutes  \\\n",
       "account.length                                NaN                 NaN   \n",
       "number.vmail.messages                         NaN                 NaN   \n",
       "total.day.minutes                             NaN                 NaN   \n",
       "total.day.calls                               NaN                 NaN   \n",
       "total.day.charge                              NaN                 NaN   \n",
       "total.eve.minutes                             NaN                 NaN   \n",
       "total.eve.calls                               NaN                 NaN   \n",
       "total.eve.charge                              NaN                 NaN   \n",
       "total.night.minutes                           NaN                 NaN   \n",
       "total.night.calls                             NaN                 NaN   \n",
       "total.night.charge                            NaN                 NaN   \n",
       "total.intl.minutes                            NaN                 NaN   \n",
       "total.intl.calls                              NaN                 NaN   \n",
       "total.intl.charge                             NaN                 NaN   \n",
       "number.customer.service.calls                 NaN                 NaN   \n",
       "\n",
       "                               total.intl.calls  total.intl.charge  \\\n",
       "account.length                              NaN                NaN   \n",
       "number.vmail.messages                       NaN                NaN   \n",
       "total.day.minutes                           NaN                NaN   \n",
       "total.day.calls                             NaN                NaN   \n",
       "total.day.charge                            NaN                NaN   \n",
       "total.eve.minutes                           NaN                NaN   \n",
       "total.eve.calls                             NaN                NaN   \n",
       "total.eve.charge                            NaN                NaN   \n",
       "total.night.minutes                         NaN                NaN   \n",
       "total.night.calls                           NaN                NaN   \n",
       "total.night.charge                          NaN                NaN   \n",
       "total.intl.minutes                          NaN                NaN   \n",
       "total.intl.calls                            1.0                NaN   \n",
       "total.intl.charge                           NaN                NaN   \n",
       "number.customer.service.calls               NaN                NaN   \n",
       "\n",
       "                               number.customer.service.calls  \n",
       "account.length                                           NaN  \n",
       "number.vmail.messages                                    NaN  \n",
       "total.day.minutes                                        NaN  \n",
       "total.day.calls                                          NaN  \n",
       "total.day.charge                                         NaN  \n",
       "total.eve.minutes                                        NaN  \n",
       "total.eve.calls                                          NaN  \n",
       "total.eve.charge                                         NaN  \n",
       "total.night.minutes                                      NaN  \n",
       "total.night.calls                                        NaN  \n",
       "total.night.charge                                       NaN  \n",
       "total.intl.minutes                                       NaN  \n",
       "total.intl.calls                                         NaN  \n",
       "total.intl.charge                                        NaN  \n",
       "number.customer.service.calls                            1.0  "
      ]
     },
     "execution_count": 480,
     "metadata": {},
     "output_type": "execute_result"
    }
   ],
   "source": [
    "##Correlation heatmap\n",
    "df_smote=pd.DataFrame()\n",
    "df_smote=X_resample\n",
    "df_smote['churn']=y_resample\n",
    "hcorr =df_smote.corr()\n",
    "hcorr=hcorr.loc[['account.length','number.vmail.messages','total.day.minutes','total.day.calls','total.day.charge','total.eve.minutes','total.eve.calls','total.eve.charge','total.night.minutes','total.night.calls','total.night.charge','total.intl.minutes','total.intl.calls','total.intl.charge','number.customer.service.calls'],['account.length','number.vmail.messages','total.day.minutes','total.day.calls','total.day.charge','total.eve.minutes','total.eve.calls','total.eve.charge','total.night.minutes','total.night.calls','total.night.charge','total.intl.minutes','total.intl.calls','total.intl.charge','number.customer.service.calls']]\n",
    "hcorr[hcorr>0.8]\n",
    "#hcorr"
   ]
  },
  {
   "cell_type": "markdown",
   "metadata": {},
   "source": [
    "    Conclusion:\n",
    "            Highly correlated\n",
    "            1.total.night.charge~total.night.minutes\n",
    "            2.total.intl.charge~total.intl.minutes"
   ]
  },
  {
   "cell_type": "markdown",
   "metadata": {},
   "source": [
    "# Correlation between categorical and categorical variables after SMOTE"
   ]
  },
  {
   "cell_type": "markdown",
   "metadata": {},
   "source": [
    "# CHISQ-TEST"
   ]
  },
  {
   "cell_type": "code",
   "execution_count": 481,
   "metadata": {},
   "outputs": [
    {
     "data": {
      "text/html": [
       "<div>\n",
       "<style scoped>\n",
       "    .dataframe tbody tr th:only-of-type {\n",
       "        vertical-align: middle;\n",
       "    }\n",
       "\n",
       "    .dataframe tbody tr th {\n",
       "        vertical-align: top;\n",
       "    }\n",
       "\n",
       "    .dataframe thead th {\n",
       "        text-align: right;\n",
       "    }\n",
       "</style>\n",
       "<table border=\"1\" class=\"dataframe\">\n",
       "  <thead>\n",
       "    <tr style=\"text-align: right;\">\n",
       "      <th></th>\n",
       "      <th>Chi-square test</th>\n",
       "      <th>results</th>\n",
       "    </tr>\n",
       "  </thead>\n",
       "  <tbody>\n",
       "    <tr>\n",
       "      <th>0</th>\n",
       "      <td>Pearson Chi-square ( 1.0) =</td>\n",
       "      <td>2.1272</td>\n",
       "    </tr>\n",
       "    <tr>\n",
       "      <th>1</th>\n",
       "      <td>p-value =</td>\n",
       "      <td>0.1447</td>\n",
       "    </tr>\n",
       "    <tr>\n",
       "      <th>2</th>\n",
       "      <td>Cramer's phi =</td>\n",
       "      <td>0.0258</td>\n",
       "    </tr>\n",
       "  </tbody>\n",
       "</table>\n",
       "</div>"
      ],
      "text/plain": [
       "                Chi-square test  results\n",
       "0  Pearson Chi-square ( 1.0) =    2.1272\n",
       "1                    p-value =    0.1447\n",
       "2               Cramer's phi =    0.0258"
      ]
     },
     "execution_count": 481,
     "metadata": {},
     "output_type": "execute_result"
    }
   ],
   "source": [
    "test_results=chisq_test(df_smote[\"international.plan\"], df_smote[\"voice.mail.plan\"])\n",
    "test_results"
   ]
  },
  {
   "cell_type": "code",
   "execution_count": 482,
   "metadata": {},
   "outputs": [
    {
     "data": {
      "text/html": [
       "<div>\n",
       "<style scoped>\n",
       "    .dataframe tbody tr th:only-of-type {\n",
       "        vertical-align: middle;\n",
       "    }\n",
       "\n",
       "    .dataframe tbody tr th {\n",
       "        vertical-align: top;\n",
       "    }\n",
       "\n",
       "    .dataframe thead th {\n",
       "        text-align: right;\n",
       "    }\n",
       "</style>\n",
       "<table border=\"1\" class=\"dataframe\">\n",
       "  <thead>\n",
       "    <tr style=\"text-align: right;\">\n",
       "      <th></th>\n",
       "      <th>Chi-square test</th>\n",
       "      <th>results</th>\n",
       "    </tr>\n",
       "  </thead>\n",
       "  <tbody>\n",
       "    <tr>\n",
       "      <th>0</th>\n",
       "      <td>Pearson Chi-square ( 1.0) =</td>\n",
       "      <td>33.1244</td>\n",
       "    </tr>\n",
       "    <tr>\n",
       "      <th>1</th>\n",
       "      <td>p-value =</td>\n",
       "      <td>0.0000</td>\n",
       "    </tr>\n",
       "    <tr>\n",
       "      <th>2</th>\n",
       "      <td>Cramer's phi =</td>\n",
       "      <td>0.1016</td>\n",
       "    </tr>\n",
       "  </tbody>\n",
       "</table>\n",
       "</div>"
      ],
      "text/plain": [
       "                Chi-square test  results\n",
       "0  Pearson Chi-square ( 1.0) =   33.1244\n",
       "1                    p-value =    0.0000\n",
       "2               Cramer's phi =    0.1016"
      ]
     },
     "execution_count": 482,
     "metadata": {},
     "output_type": "execute_result"
    }
   ],
   "source": [
    "test_results=chisq_test(df_smote[\"international.plan\"], df_smote[\"churn\"])\n",
    "test_results"
   ]
  },
  {
   "cell_type": "code",
   "execution_count": 483,
   "metadata": {},
   "outputs": [
    {
     "data": {
      "text/html": [
       "<div>\n",
       "<style scoped>\n",
       "    .dataframe tbody tr th:only-of-type {\n",
       "        vertical-align: middle;\n",
       "    }\n",
       "\n",
       "    .dataframe tbody tr th {\n",
       "        vertical-align: top;\n",
       "    }\n",
       "\n",
       "    .dataframe thead th {\n",
       "        text-align: right;\n",
       "    }\n",
       "</style>\n",
       "<table border=\"1\" class=\"dataframe\">\n",
       "  <thead>\n",
       "    <tr style=\"text-align: right;\">\n",
       "      <th></th>\n",
       "      <th>Chi-square test</th>\n",
       "      <th>results</th>\n",
       "    </tr>\n",
       "  </thead>\n",
       "  <tbody>\n",
       "    <tr>\n",
       "      <th>0</th>\n",
       "      <td>Pearson Chi-square ( 1.0) =</td>\n",
       "      <td>261.0749</td>\n",
       "    </tr>\n",
       "    <tr>\n",
       "      <th>1</th>\n",
       "      <td>p-value =</td>\n",
       "      <td>0.0000</td>\n",
       "    </tr>\n",
       "    <tr>\n",
       "      <th>2</th>\n",
       "      <td>Cramer's phi =</td>\n",
       "      <td>0.2854</td>\n",
       "    </tr>\n",
       "  </tbody>\n",
       "</table>\n",
       "</div>"
      ],
      "text/plain": [
       "                Chi-square test   results\n",
       "0  Pearson Chi-square ( 1.0) =   261.0749\n",
       "1                    p-value =     0.0000\n",
       "2               Cramer's phi =     0.2854"
      ]
     },
     "execution_count": 483,
     "metadata": {},
     "output_type": "execute_result"
    }
   ],
   "source": [
    "test_results=chisq_test(df_smote[\"voice.mail.plan\"], df_smote[\"churn\"])\n",
    "test_results"
   ]
  },
  {
   "cell_type": "markdown",
   "metadata": {},
   "source": [
    "    Conclusion:\n",
    "        No correlation between independent variables and high correlation between churn and dependent variables"
   ]
  },
  {
   "cell_type": "markdown",
   "metadata": {},
   "source": [
    "# Correlation between categorical and numeric variables"
   ]
  },
  {
   "cell_type": "markdown",
   "metadata": {},
   "source": [
    "    1.t-test\n",
    "    2.ANOVA test\n",
    "    3.Corr plot"
   ]
  },
  {
   "cell_type": "code",
   "execution_count": 484,
   "metadata": {},
   "outputs": [
    {
     "data": {
      "text/html": [
       "<div>\n",
       "<style scoped>\n",
       "    .dataframe tbody tr th:only-of-type {\n",
       "        vertical-align: middle;\n",
       "    }\n",
       "\n",
       "    .dataframe tbody tr th {\n",
       "        vertical-align: top;\n",
       "    }\n",
       "\n",
       "    .dataframe thead th {\n",
       "        text-align: right;\n",
       "    }\n",
       "</style>\n",
       "<table border=\"1\" class=\"dataframe\">\n",
       "  <thead>\n",
       "    <tr style=\"text-align: right;\">\n",
       "      <th></th>\n",
       "      <th>international.plan</th>\n",
       "      <th>voice.mail.plan</th>\n",
       "      <th>churn</th>\n",
       "    </tr>\n",
       "  </thead>\n",
       "  <tbody>\n",
       "    <tr>\n",
       "      <th>account.length</th>\n",
       "      <td>NaN</td>\n",
       "      <td>NaN</td>\n",
       "      <td>NaN</td>\n",
       "    </tr>\n",
       "    <tr>\n",
       "      <th>number.vmail.messages</th>\n",
       "      <td>NaN</td>\n",
       "      <td>0.88624</td>\n",
       "      <td>NaN</td>\n",
       "    </tr>\n",
       "    <tr>\n",
       "      <th>total.day.minutes</th>\n",
       "      <td>NaN</td>\n",
       "      <td>NaN</td>\n",
       "      <td>NaN</td>\n",
       "    </tr>\n",
       "    <tr>\n",
       "      <th>total.day.calls</th>\n",
       "      <td>NaN</td>\n",
       "      <td>NaN</td>\n",
       "      <td>NaN</td>\n",
       "    </tr>\n",
       "    <tr>\n",
       "      <th>total.day.charge</th>\n",
       "      <td>NaN</td>\n",
       "      <td>NaN</td>\n",
       "      <td>NaN</td>\n",
       "    </tr>\n",
       "    <tr>\n",
       "      <th>total.eve.minutes</th>\n",
       "      <td>NaN</td>\n",
       "      <td>NaN</td>\n",
       "      <td>NaN</td>\n",
       "    </tr>\n",
       "    <tr>\n",
       "      <th>total.eve.calls</th>\n",
       "      <td>NaN</td>\n",
       "      <td>NaN</td>\n",
       "      <td>NaN</td>\n",
       "    </tr>\n",
       "    <tr>\n",
       "      <th>total.eve.charge</th>\n",
       "      <td>NaN</td>\n",
       "      <td>NaN</td>\n",
       "      <td>NaN</td>\n",
       "    </tr>\n",
       "    <tr>\n",
       "      <th>total.night.minutes</th>\n",
       "      <td>NaN</td>\n",
       "      <td>NaN</td>\n",
       "      <td>NaN</td>\n",
       "    </tr>\n",
       "    <tr>\n",
       "      <th>total.night.calls</th>\n",
       "      <td>NaN</td>\n",
       "      <td>NaN</td>\n",
       "      <td>NaN</td>\n",
       "    </tr>\n",
       "    <tr>\n",
       "      <th>total.night.charge</th>\n",
       "      <td>NaN</td>\n",
       "      <td>NaN</td>\n",
       "      <td>NaN</td>\n",
       "    </tr>\n",
       "    <tr>\n",
       "      <th>total.intl.minutes</th>\n",
       "      <td>NaN</td>\n",
       "      <td>NaN</td>\n",
       "      <td>NaN</td>\n",
       "    </tr>\n",
       "    <tr>\n",
       "      <th>total.intl.calls</th>\n",
       "      <td>NaN</td>\n",
       "      <td>NaN</td>\n",
       "      <td>NaN</td>\n",
       "    </tr>\n",
       "    <tr>\n",
       "      <th>total.intl.charge</th>\n",
       "      <td>NaN</td>\n",
       "      <td>NaN</td>\n",
       "      <td>NaN</td>\n",
       "    </tr>\n",
       "    <tr>\n",
       "      <th>number.customer.service.calls</th>\n",
       "      <td>NaN</td>\n",
       "      <td>NaN</td>\n",
       "      <td>NaN</td>\n",
       "    </tr>\n",
       "  </tbody>\n",
       "</table>\n",
       "</div>"
      ],
      "text/plain": [
       "                               international.plan  voice.mail.plan  churn\n",
       "account.length                                NaN              NaN    NaN\n",
       "number.vmail.messages                         NaN          0.88624    NaN\n",
       "total.day.minutes                             NaN              NaN    NaN\n",
       "total.day.calls                               NaN              NaN    NaN\n",
       "total.day.charge                              NaN              NaN    NaN\n",
       "total.eve.minutes                             NaN              NaN    NaN\n",
       "total.eve.calls                               NaN              NaN    NaN\n",
       "total.eve.charge                              NaN              NaN    NaN\n",
       "total.night.minutes                           NaN              NaN    NaN\n",
       "total.night.calls                             NaN              NaN    NaN\n",
       "total.night.charge                            NaN              NaN    NaN\n",
       "total.intl.minutes                            NaN              NaN    NaN\n",
       "total.intl.calls                              NaN              NaN    NaN\n",
       "total.intl.charge                             NaN              NaN    NaN\n",
       "number.customer.service.calls                 NaN              NaN    NaN"
      ]
     },
     "execution_count": 484,
     "metadata": {},
     "output_type": "execute_result"
    }
   ],
   "source": [
    "hcorr =df_smote.corr()\n",
    "hcorr=hcorr.loc[['account.length','number.vmail.messages','total.day.minutes','total.day.calls','total.day.charge','total.eve.minutes','total.eve.calls','total.eve.charge','total.night.minutes','total.night.calls','total.night.charge','total.intl.minutes','total.intl.calls','total.intl.charge','number.customer.service.calls'],['international.plan','voice.mail.plan','churn']]\n",
    "hcorr[hcorr>0.8]"
   ]
  },
  {
   "cell_type": "markdown",
   "metadata": {},
   "source": [
    "    Conclusion\n",
    "        High correlation\n",
    "        1.voice.mail.plan~number.vmail.messages"
   ]
  },
  {
   "cell_type": "markdown",
   "metadata": {},
   "source": [
    "# One way ANOVA Test after SMOTE"
   ]
  },
  {
   "cell_type": "code",
   "execution_count": 485,
   "metadata": {},
   "outputs": [
    {
     "name": "stdout",
     "output_type": "stream",
     "text": [
      "[7.26408978e-01 1.06084682e-01 0.00000000e+00 7.09375700e-01\n",
      " 5.69144162e-01 6.66484212e-03 3.53519652e-01 6.66610591e-03\n",
      " 1.21981045e-01 4.18832012e-01 1.21852925e-01 2.19857173e-01\n",
      " 1.11435195e-01 2.19590124e-01 6.55074769e-02 1.16081018e-01\n",
      " 6.60252001e-02 9.39055652e-01 4.59793333e-30]\n",
      "Index(['Unnamed: 0', 'account.length', 'international.plan', 'voice.mail.plan',\n",
      "       'number.vmail.messages', 'total.day.minutes', 'total.day.calls',\n",
      "       'total.day.charge', 'total.eve.minutes', 'total.eve.calls',\n",
      "       'total.eve.charge', 'total.night.minutes', 'total.night.calls',\n",
      "       'total.night.charge', 'total.intl.minutes', 'total.intl.calls',\n",
      "       'total.intl.charge', 'number.customer.service.calls', 'churn'],\n",
      "      dtype='object')\n"
     ]
    }
   ],
   "source": [
    "F, p = oneway_anova(df_smote['international.plan'])\n",
    "print(p)\n",
    "print(df.columns)"
   ]
  },
  {
   "cell_type": "code",
   "execution_count": 486,
   "metadata": {},
   "outputs": [
    {
     "name": "stdout",
     "output_type": "stream",
     "text": [
      "[4.60116144e-01 2.28249718e-01 7.09375723e-01 0.00000000e+00\n",
      " 0.00000000e+00 4.25967872e-01 5.08202707e-01 4.25915414e-01\n",
      " 5.47437977e-01 8.59706598e-01 5.46909650e-01 8.82456930e-01\n",
      " 7.41914169e-01 8.83505427e-01 2.74159800e-01 7.84586375e-01\n",
      " 2.72459259e-01 9.29459184e-01 1.00979790e-04]\n",
      "Index(['Unnamed: 0', 'account.length', 'international.plan', 'voice.mail.plan',\n",
      "       'number.vmail.messages', 'total.day.minutes', 'total.day.calls',\n",
      "       'total.day.charge', 'total.eve.minutes', 'total.eve.calls',\n",
      "       'total.eve.charge', 'total.night.minutes', 'total.night.calls',\n",
      "       'total.night.charge', 'total.intl.minutes', 'total.intl.calls',\n",
      "       'total.intl.charge', 'number.customer.service.calls', 'churn'],\n",
      "      dtype='object')\n"
     ]
    }
   ],
   "source": [
    "F, p = oneway_anova(df_smote['voice.mail.plan'])\n",
    "print(p)\n",
    "print(df.columns)"
   ]
  },
  {
   "cell_type": "code",
   "execution_count": 487,
   "metadata": {},
   "outputs": [
    {
     "name": "stdout",
     "output_type": "stream",
     "text": [
      "[9.82085144e-01 9.99574757e-01 4.59793334e-30 1.00979789e-04\n",
      " 5.86221431e-04 4.05315604e-13 4.78175316e-01 4.05635048e-13\n",
      " 6.65579342e-04 3.49890750e-01 6.67283891e-04 1.23655674e-01\n",
      " 7.87596875e-01 1.23378662e-01 7.85410637e-03 4.30091656e-01\n",
      " 7.73607716e-03 8.37182258e-19 0.00000000e+00]\n",
      "Index(['Unnamed: 0', 'account.length', 'international.plan', 'voice.mail.plan',\n",
      "       'number.vmail.messages', 'total.day.minutes', 'total.day.calls',\n",
      "       'total.day.charge', 'total.eve.minutes', 'total.eve.calls',\n",
      "       'total.eve.charge', 'total.night.minutes', 'total.night.calls',\n",
      "       'total.night.charge', 'total.intl.minutes', 'total.intl.calls',\n",
      "       'total.intl.charge', 'number.customer.service.calls', 'churn'],\n",
      "      dtype='object')\n"
     ]
    }
   ],
   "source": [
    "F, p = oneway_anova(df['churn'])\n",
    "print(p)\n",
    "print(df.columns)"
   ]
  },
  {
   "cell_type": "markdown",
   "metadata": {},
   "source": [
    "    Conclusion\n",
    "        High correlation\n",
    "        1.voice.mail.plan~number.vmail.messages"
   ]
  },
  {
   "cell_type": "markdown",
   "metadata": {},
   "source": [
    "# Model Fit after SMOTE"
   ]
  },
  {
   "cell_type": "code",
   "execution_count": 488,
   "metadata": {},
   "outputs": [
    {
     "data": {
      "text/plain": [
       "LogisticRegression()"
      ]
     },
     "execution_count": 488,
     "metadata": {},
     "output_type": "execute_result"
    }
   ],
   "source": [
    "X_train, X_test, Y_train, Y_test = train_test_split(X_resample, y_resample, test_size=0.2, random_state=3)\n",
    "log = LogisticRegression()\n",
    "log.fit(X_train,Y_train)"
   ]
  },
  {
   "cell_type": "code",
   "execution_count": 489,
   "metadata": {},
   "outputs": [
    {
     "name": "stdout",
     "output_type": "stream",
     "text": [
      "Slope:\n",
      "[[-3.73349576e-03  2.65568457e-02 -6.74876383e-01  5.17326137e-03\n",
      "  -1.24015613e-02 -8.70231817e-03 -1.10314117e-02 -1.15745025e-01\n",
      "   1.36919576e-01  9.64675215e+00]]\n",
      "Intercept:\n",
      "[-0.89328723]\n"
     ]
    }
   ],
   "source": [
    "# slope\n",
    "print(\"Slope:\")\n",
    "print(log.coef_)\n",
    "# slope\n",
    "print(\"Intercept:\")\n",
    "print(log.intercept_)"
   ]
  },
  {
   "cell_type": "code",
   "execution_count": 490,
   "metadata": {},
   "outputs": [],
   "source": [
    "def probability_prediction_SMOTE(test,threshold):\n",
    "       return np.where(log.predict_proba(test)[:,1] > threshold, 1, 0)"
   ]
  },
  {
   "cell_type": "code",
   "execution_count": 491,
   "metadata": {},
   "outputs": [
    {
     "name": "stdout",
     "output_type": "stream",
     "text": [
      "Predicted class:\n"
     ]
    },
    {
     "data": {
      "text/plain": [
       "array([0, 1, 1, 1, 1, 0, 1, 1, 1, 0, 1, 1, 0, 0, 0, 1, 1, 1, 1, 0, 0, 0,\n",
       "       1, 0, 1, 1, 0, 0, 1, 0, 1, 1, 1, 0, 1, 1, 1, 1, 0, 1, 0, 1, 0, 0,\n",
       "       1, 0, 1, 1, 0, 1, 0, 1, 0, 0, 0, 1, 0, 1, 0, 0, 1, 0, 0, 1, 0, 1,\n",
       "       0, 1, 1, 0, 1, 1, 1, 0, 0, 0, 0, 0, 1, 0, 1, 1, 0, 0, 1, 1, 1, 0,\n",
       "       1, 1, 0, 1, 1, 1, 1, 1, 1, 0, 1, 1, 0, 1, 0, 0, 0, 1, 1, 0, 0, 1,\n",
       "       0, 0, 0, 1, 0, 0, 1, 1, 0, 1, 0, 0, 0, 1, 1, 1, 0, 0, 1, 1, 1, 1,\n",
       "       0, 1, 1, 0, 0, 0, 1, 1, 1, 1, 1, 1, 0, 1, 0, 1, 0, 0, 0, 1, 1, 1,\n",
       "       1, 1, 0, 0, 1, 0, 1, 0, 1, 1, 1, 0, 0, 1, 1, 1, 1, 1, 0, 1, 1, 0,\n",
       "       1, 1, 1, 1, 1, 0, 0, 1, 0, 0, 0, 1, 1, 0, 1, 0, 1, 0, 0, 1, 0, 0,\n",
       "       1, 0, 1, 1, 0, 0, 0, 0, 0, 1, 0, 1, 0, 1, 1, 0, 1, 0, 0, 1, 0, 1,\n",
       "       1, 0, 0, 0, 0, 0, 0, 0, 1, 0, 0, 1, 1, 0, 1, 0, 1, 0, 0, 0, 1, 1,\n",
       "       0, 1, 1, 1, 1, 1, 0, 0, 1, 0, 1, 0, 1, 1, 1, 0, 1, 1, 0, 0, 0, 0,\n",
       "       1, 0, 0, 0, 0, 0, 1, 1, 1, 0, 0, 1, 1, 1, 0, 0, 1, 1, 1, 0, 1, 0,\n",
       "       0, 0, 0, 0, 1, 1, 1, 1, 1, 1, 0, 0, 0, 1, 1, 0, 1, 0, 1, 0, 1, 1,\n",
       "       0, 0, 0, 0, 1, 1, 1, 1, 0, 0, 1, 0, 0, 0, 0, 0, 1, 0, 1, 0, 1, 1,\n",
       "       1, 1, 1, 0, 0, 1, 1, 1, 1, 0, 1, 1, 1, 1, 0, 1, 1, 1, 1, 1, 1, 1,\n",
       "       0, 0, 1, 0, 1, 0, 0, 1, 1, 1, 0, 1, 0, 1, 1, 1, 0, 0, 1, 0, 1, 0,\n",
       "       1, 0, 0, 0, 0, 0, 0, 1, 0, 1, 0, 0, 0, 1, 1, 1, 0, 0, 1, 0, 1, 1,\n",
       "       0, 0, 1, 1, 1, 0, 1, 1, 1, 0, 1, 1, 1, 1, 0, 1, 0, 1, 0, 0, 0, 0,\n",
       "       1, 1, 1, 0, 1, 1, 1, 1, 1, 0, 0, 1, 0, 1, 0, 1, 0, 1, 0, 1, 0, 1,\n",
       "       0, 1, 0, 0, 1, 0, 0, 1, 0, 1, 1, 1, 0, 0, 0, 1, 1, 0, 1, 0, 0, 0,\n",
       "       0, 0, 0, 0, 1, 1, 1, 0, 0, 0, 0, 0, 1, 0, 0, 1, 0, 0, 0, 0, 1, 1,\n",
       "       0, 0, 0, 1, 1, 1, 1, 0, 0, 0, 0, 1, 1, 0, 1, 0, 0, 0, 1, 0, 0, 0,\n",
       "       1, 1, 1, 0, 0, 1, 0, 0, 0, 0, 0, 0, 0, 1, 0, 1, 0, 1, 1, 0, 0, 1,\n",
       "       1, 1, 1, 1, 0, 1, 1, 0, 0, 0, 0, 1, 1, 0, 1, 0, 0, 0, 0, 0, 1, 0,\n",
       "       0, 0, 0, 1, 1, 1, 1, 0, 0, 1, 1, 0, 1, 0, 1, 0, 1, 0, 0, 1, 0, 0,\n",
       "       0, 1, 0, 0, 0, 0, 0, 0, 0, 1, 1, 1, 0, 1, 0, 0, 0, 0, 0, 1, 0, 0,\n",
       "       1, 1, 1, 0, 0, 0, 1, 1, 0, 0, 1, 0, 0, 0, 0, 0, 1, 1, 1, 1, 0, 1,\n",
       "       0, 0, 1, 0, 0, 1, 1, 0, 1, 1, 1, 0, 0, 0, 1, 0, 0, 1, 1, 0, 1, 1,\n",
       "       1, 1, 0, 1])"
      ]
     },
     "execution_count": 491,
     "metadata": {},
     "output_type": "execute_result"
    }
   ],
   "source": [
    "ysmot_pred=probability_prediction_SMOTE(X_test,0.5)\n",
    "print(\"Predicted class:\")\n",
    "ysmot_pred"
   ]
  },
  {
   "cell_type": "markdown",
   "metadata": {},
   "source": [
    "# Check for Overfit/UnderFit"
   ]
  },
  {
   "cell_type": "code",
   "execution_count": 492,
   "metadata": {},
   "outputs": [
    {
     "name": "stdout",
     "output_type": "stream",
     "text": [
      "Model Score on Training data set 1.0\n",
      "Model Score on Testing data set 1.0\n",
      "Auc on  Training data set 1.0\n",
      "Auc on  Test data set 1.0\n"
     ]
    }
   ],
   "source": [
    "logit_score_train = log.score(X_train,Y_train)\n",
    "print ('Model Score on Training data set', logit_score_train)\n",
    "logit_score_test = log.score(X_test,Y_test)\n",
    "print ('Model Score on Testing data set', logit_score_test)\n",
    "\n",
    "logit_auc_train = roc_auc_score(Y_train,log.predict(X_train))\n",
    "logit_auc_test = roc_auc_score(Y_test,log.predict(X_test))\n",
    "print ('Auc on  Training data set',logit_auc_train)\n",
    "print ('Auc on  Test data set', logit_auc_test)"
   ]
  },
  {
   "cell_type": "markdown",
   "metadata": {},
   "source": [
    "# Log Loss after smote"
   ]
  },
  {
   "cell_type": "code",
   "execution_count": 493,
   "metadata": {},
   "outputs": [
    {
     "name": "stdout",
     "output_type": "stream",
     "text": [
      "Log loss: 17.215589480329314\n",
      "Accuracy score: 0.0\n",
      "Confusion matrix:\n",
      "[[322   0]\n",
      " [  0 320]]\n"
     ]
    }
   ],
   "source": [
    "loss_smote=log_loss(Y_test,log.predict_log_proba(X_test)[:,1])\n",
    "print(\"Log loss:\",loss_smote)\n",
    "print(\"Accuracy score:\",accuracy_score(Y_test,log.predict_log_proba(X_test)[:,1].astype(int)))\n",
    "confusion_smote = confusion_matrix(Y_test,ysmot_pred)\n",
    "print(\"Confusion matrix:\")\n",
    "print(confusion_smote)"
   ]
  },
  {
   "cell_type": "code",
   "execution_count": 494,
   "metadata": {},
   "outputs": [
    {
     "name": "stdout",
     "output_type": "stream",
     "text": [
      "Accuracy: 1.0\n",
      "Recall: 1.0\n",
      "Specificity: 1.0\n",
      "Precision: 1.0\n"
     ]
    }
   ],
   "source": [
    "Accuracy,Recall,Specificity,Precision=confusion__matrix(confusion_smote)\n",
    "print(\"Accuracy:\",Accuracy)\n",
    "print(\"Recall:\",Recall)\n",
    "print(\"Specificity:\",Specificity)\n",
    "print(\"Precision:\",Precision)"
   ]
  },
  {
   "cell_type": "code",
   "execution_count": 495,
   "metadata": {},
   "outputs": [
    {
     "name": "stdout",
     "output_type": "stream",
     "text": [
      "              precision    recall  f1-score   support\n",
      "\n",
      "         0.0       1.00      1.00      1.00       322\n",
      "         1.0       1.00      1.00      1.00       320\n",
      "\n",
      "    accuracy                           1.00       642\n",
      "   macro avg       1.00      1.00      1.00       642\n",
      "weighted avg       1.00      1.00      1.00       642\n",
      "\n"
     ]
    }
   ],
   "source": [
    "print(classification_report(Y_test,log.predict(X_test)) )"
   ]
  },
  {
   "cell_type": "code",
   "execution_count": 496,
   "metadata": {},
   "outputs": [
    {
     "name": "stdout",
     "output_type": "stream",
     "text": [
      "AccuracyScore: [1. 1. 1. 1. 1.]\n",
      "Std of AccuracyScore: 0.0\n",
      "Mean of AccuracyScore: 1.0\n",
      "RocCurveScore: [1. 1. 1. 1. 1.]\n",
      "Std of RocAucCurve 0.0\n",
      "Mean of RocAucCurve 1.0\n"
     ]
    }
   ],
   "source": [
    "AccuracyScore,RocAucCurve=kfoldcrossvalidation(log,X_resample,y_resample)\n",
    "print(\"AccuracyScore:\",AccuracyScore)\n",
    "print(\"Std of AccuracyScore:\",np.std(AccuracyScore))\n",
    "print(\"Mean of AccuracyScore:\",np.mean(AccuracyScore))\n",
    "print(\"RocCurveScore:\",RocAucCurve)\n",
    "print(\"Std of RocAucCurve\",np.std(RocAucCurve))\n",
    "print(\"Mean of RocAucCurve\",np.mean(RocAucCurve))"
   ]
  },
  {
   "cell_type": "code",
   "execution_count": 497,
   "metadata": {},
   "outputs": [
    {
     "data": {
      "image/png": "[encoded data removed]",
      "text/plain": [
       "<Figure size 432x288 with 1 Axes>"
      ]
     },
     "metadata": {},
     "output_type": "display_data"
    }
   ],
   "source": [
    "fpr, tpr, thresholds = roc_curve(Y_test, log.predict(X_test))\n",
    "\n",
    "roc_auc = auc(fpr,tpr)\n",
    "\n",
    "# Plot ROC\n",
    "plt.title('Receiver Operating Characteristic')\n",
    "plt.plot(fpr, tpr, 'b',label='AUC = %0.3f'% roc_auc)\n",
    "plt.legend(loc='lower right')\n",
    "plt.plot([0,1],[0,1],'r--')\n",
    "plt.xlim([-0.1,1.0])\n",
    "plt.ylim([-0.1,1.01])\n",
    "plt.ylabel('True Positive Rate')\n",
    "plt.xlabel('False Positive Rate')\n",
    "plt.show()"
   ]
  },
  {
   "cell_type": "code",
   "execution_count": 498,
   "metadata": {},
   "outputs": [
    {
     "name": "stdout",
     "output_type": "stream",
     "text": [
      "Index(['account.length', 'international.plan', 'voice.mail.plan',\n",
      "       'number.vmail.messages', 'total.day.calls', 'total.eve.calls',\n",
      "       'total.night.calls', 'total.intl.calls',\n",
      "       'number.customer.service.calls', 'churn'],\n",
      "      dtype='object')\n",
      "account.length\n",
      "international.plan\n",
      "voice.mail.plan\n",
      "number.vmail.messages\n",
      "total.day.calls\n",
      "total.eve.calls\n",
      "total.night.calls\n",
      "total.intl.calls\n",
      "number.customer.service.calls\n",
      "churn\n"
     ]
    }
   ],
   "source": [
    "dfs=pd.DataFrame()\n",
    "print(df_smote.columns)\n",
    "for col in df_smote.columns:\n",
    "    print(col)\n",
    "    col2=col\n",
    "    col2=col2.replace('.','')\n",
    "    dfs[col2]=df_smote[col]\n",
    "    #print(col2,col)\n"
   ]
  },
  {
   "cell_type": "code",
   "execution_count": 500,
   "metadata": {},
   "outputs": [
    {
     "name": "stdout",
     "output_type": "stream",
     "text": [
      "Optimization terminated successfully.\n",
      "         Current function value: 0.599926\n",
      "         Iterations 7\n"
     ]
    }
   ],
   "source": [
    "glm = smf.logit(formula = \"churn~accountlength+internationalplan+voicemailplan+numbervmailmessages+totaldaycalls+totalevecalls+totalnightcalls+totalnightcalls+numbercustomerservicecalls\", data = dfs).fit()\n",
    "y, X = dmatrices( \"churn~accountlength+internationalplan+voicemailplan+numbervmailmessages+totaldaycalls+totalevecalls+totalnightcalls+totalnightcalls+numbercustomerservicecalls\", data = dfs, return_type = \"dataframe\")"
   ]
  },
  {
   "cell_type": "code",
   "execution_count": 501,
   "metadata": {},
   "outputs": [
    {
     "data": {
      "text/html": [
       "<table class=\"simpletable\">\n",
       "<caption>Logit Regression Results</caption>\n",
       "<tr>\n",
       "  <th>Dep. Variable:</th>       <td>churn</td>      <th>  No. Observations:  </th>   <td>  3206</td>  \n",
       "</tr>\n",
       "<tr>\n",
       "  <th>Model:</th>               <td>Logit</td>      <th>  Df Residuals:      </th>   <td>  3197</td>  \n",
       "</tr>\n",
       "<tr>\n",
       "  <th>Method:</th>               <td>MLE</td>       <th>  Df Model:          </th>   <td>     8</td>  \n",
       "</tr>\n",
       "<tr>\n",
       "  <th>Date:</th>          <td>Mon, 29 Jun 2020</td> <th>  Pseudo R-squ.:     </th>   <td>0.1345</td>  \n",
       "</tr>\n",
       "<tr>\n",
       "  <th>Time:</th>              <td>18:00:04</td>     <th>  Log-Likelihood:    </th>  <td> -1923.4</td> \n",
       "</tr>\n",
       "<tr>\n",
       "  <th>converged:</th>           <td>True</td>       <th>  LL-Null:           </th>  <td> -2222.2</td> \n",
       "</tr>\n",
       "<tr>\n",
       "  <th> </th>                      <td> </td>        <th>  LLR p-value:       </th> <td>7.185e-124</td>\n",
       "</tr>\n",
       "</table>\n",
       "<table class=\"simpletable\">\n",
       "<tr>\n",
       "               <td></td>                 <th>coef</th>     <th>std err</th>      <th>z</th>      <th>P>|z|</th>  <th>[0.025</th>    <th>0.975]</th>  \n",
       "</tr>\n",
       "<tr>\n",
       "  <th>Intercept</th>                  <td>   -0.1096</td> <td>    0.377</td> <td>   -0.291</td> <td> 0.771</td> <td>   -0.849</td> <td>    0.629</td>\n",
       "</tr>\n",
       "<tr>\n",
       "  <th>accountlength</th>              <td>   -0.0015</td> <td>    0.001</td> <td>   -1.432</td> <td> 0.152</td> <td>   -0.004</td> <td>    0.001</td>\n",
       "</tr>\n",
       "<tr>\n",
       "  <th>internationalplan</th>          <td>    0.9432</td> <td>    0.138</td> <td>    6.833</td> <td> 0.000</td> <td>    0.673</td> <td>    1.214</td>\n",
       "</tr>\n",
       "<tr>\n",
       "  <th>voicemailplan</th>              <td>   -5.1154</td> <td>    0.375</td> <td>  -13.654</td> <td> 0.000</td> <td>   -5.850</td> <td>   -4.381</td>\n",
       "</tr>\n",
       "<tr>\n",
       "  <th>numbervmailmessages</th>        <td>    0.1122</td> <td>    0.011</td> <td>   10.159</td> <td> 0.000</td> <td>    0.091</td> <td>    0.134</td>\n",
       "</tr>\n",
       "<tr>\n",
       "  <th>totaldaycalls</th>              <td>   -0.0007</td> <td>    0.002</td> <td>   -0.381</td> <td> 0.703</td> <td>   -0.005</td> <td>    0.003</td>\n",
       "</tr>\n",
       "<tr>\n",
       "  <th>totalevecalls</th>              <td>    0.0038</td> <td>    0.002</td> <td>    1.737</td> <td> 0.082</td> <td>   -0.000</td> <td>    0.008</td>\n",
       "</tr>\n",
       "<tr>\n",
       "  <th>totalnightcalls</th>            <td>   -0.0039</td> <td>    0.002</td> <td>   -1.877</td> <td> 0.061</td> <td>   -0.008</td> <td>    0.000</td>\n",
       "</tr>\n",
       "<tr>\n",
       "  <th>numbercustomerservicecalls</th> <td>    0.2567</td> <td>    0.028</td> <td>    9.043</td> <td> 0.000</td> <td>    0.201</td> <td>    0.312</td>\n",
       "</tr>\n",
       "</table>"
      ],
      "text/plain": [
       "<class 'statsmodels.iolib.summary.Summary'>\n",
       "\"\"\"\n",
       "                           Logit Regression Results                           \n",
       "==============================================================================\n",
       "Dep. Variable:                  churn   No. Observations:                 3206\n",
       "Model:                          Logit   Df Residuals:                     3197\n",
       "Method:                           MLE   Df Model:                            8\n",
       "Date:                Mon, 29 Jun 2020   Pseudo R-squ.:                  0.1345\n",
       "Time:                        18:00:04   Log-Likelihood:                -1923.4\n",
       "converged:                       True   LL-Null:                       -2222.2\n",
       "                                        LLR p-value:                7.185e-124\n",
       "==============================================================================================\n",
       "                                 coef    std err          z      P>|z|      [0.025      0.975]\n",
       "----------------------------------------------------------------------------------------------\n",
       "Intercept                     -0.1096      0.377     -0.291      0.771      -0.849       0.629\n",
       "accountlength                 -0.0015      0.001     -1.432      0.152      -0.004       0.001\n",
       "internationalplan              0.9432      0.138      6.833      0.000       0.673       1.214\n",
       "voicemailplan                 -5.1154      0.375    -13.654      0.000      -5.850      -4.381\n",
       "numbervmailmessages            0.1122      0.011     10.159      0.000       0.091       0.134\n",
       "totaldaycalls                 -0.0007      0.002     -0.381      0.703      -0.005       0.003\n",
       "totalevecalls                  0.0038      0.002      1.737      0.082      -0.000       0.008\n",
       "totalnightcalls               -0.0039      0.002     -1.877      0.061      -0.008       0.000\n",
       "numbercustomerservicecalls     0.2567      0.028      9.043      0.000       0.201       0.312\n",
       "==============================================================================================\n",
       "\"\"\""
      ]
     },
     "execution_count": 501,
     "metadata": {},
     "output_type": "execute_result"
    }
   ],
   "source": [
    "glm.summary()"
   ]
  },
  {
   "cell_type": "code",
   "execution_count": 502,
   "metadata": {},
   "outputs": [
    {
     "name": "stdout",
     "output_type": "stream",
     "text": [
      "[[95.2494842450201, 'Intercept'], [1.0099719996078147, 'accountlength'], [1.011984371603908, 'internationalplan'], [4.775490258106253, 'voicemailplan'], [4.7811022719297185, 'numbervmailmessages'], [1.0038406296532394, 'totaldaycalls'], [1.0050557270433709, 'totalevecalls'], [1.0105261128826732, 'totalnightcalls'], [1.0342287767778262, 'numbercustomerservicecalls']]\n"
     ]
    }
   ],
   "source": [
    "vif = [variance_inflation_factor(X.values, i) for i in range(X.shape[1])]\n",
    "\n",
    "v=[]\n",
    "for i in range(len(vif)):\n",
    "    v.append([vif[i],X.columns[i]])\n",
    "print(v)"
   ]
  },
  {
   "cell_type": "markdown",
   "metadata": {},
   "source": [
    "Conclusion:totaldayminutes,totaldaycharge,totaleveminutes,totalevecharge,\n",
    "    totalnightminutes,totalnightcharge,totalintlminutes,totalintlcharge"
   ]
  },
  {
   "cell_type": "markdown",
   "metadata": {},
   "source": [
    "# Solutions to improve"
   ]
  },
  {
   "cell_type": "markdown",
   "metadata": {},
   "source": [
    " \n",
    "        1.number.vmail.messages (bad) Not normally distributed\n",
    "        2.totl.intl.calls(ok) Not normally distributed\n",
    "        3.number.customer.service.calls(ok) Not normally distributed     \n",
    "        4.total.night.charge~total.night.minutes highly correlated\n",
    "        5.total.intl.charge~total.intl.minutes higlhy correlated\n",
    "        6.voice.mail.plan~number.vmail.messages highly correlated\n",
    "        7.totaldayminutes,totaldaycharge,totaleveminutes,totalevecharge,\n",
    "    totalnightminutes,totalnightcharge,totalintlminutes,totalintlcharge have vif>10\n",
    "        8.Do GridsearchCV \n",
    "        9.GD algo\n",
    " "
   ]
  },
  {
   "cell_type": "code",
   "execution_count": 503,
   "metadata": {},
   "outputs": [],
   "source": [
    "param_grid = [    \n",
    "    {'penalty' : ['l1', 'l2', 'elasticnet', 'none'],\n",
    "    'C' :  [0.001, 0.01, 0.1, 1, 10, 100, 1000] ,\n",
    "    'solver' : ['lbfgs','newton-cg','liblinear','sag','saga'],\n",
    "    'max_iter' : [100, 1000,2500, 5000]\n",
    "    }\n",
    "]"
   ]
  },
  {
   "cell_type": "code",
   "execution_count": 504,
   "metadata": {},
   "outputs": [
    {
     "name": "stdout",
     "output_type": "stream",
     "text": [
      "Fitting 5 folds for each of 560 candidates, totalling 2800 fits\n"
     ]
    },
    {
     "name": "stderr",
     "output_type": "stream",
     "text": [
      "[Parallel(n_jobs=-1)]: Using backend LokyBackend with 12 concurrent workers.\n",
      "[Parallel(n_jobs=-1)]: Done  35 tasks      | elapsed:    0.6s\n",
      "[Parallel(n_jobs=-1)]: Done 328 tasks      | elapsed:    4.8s\n",
      "[Parallel(n_jobs=-1)]: Done 710 tasks      | elapsed:   17.0s\n",
      "[Parallel(n_jobs=-1)]: Done 1184 tasks      | elapsed:   35.4s\n",
      "[Parallel(n_jobs=-1)]: Done 1940 tasks      | elapsed:  1.2min\n",
      "[Parallel(n_jobs=-1)]: Done 2772 tasks      | elapsed:  1.9min\n",
      "[Parallel(n_jobs=-1)]: Done 2800 out of 2800 | elapsed:  2.0min finished\n"
     ]
    }
   ],
   "source": [
    "clf = GridSearchCV(log, param_grid = param_grid, cv = 5, verbose=True, n_jobs=-1)\n",
    "best_clf = clf.fit(X_train,Y_train)"
   ]
  },
  {
   "cell_type": "code",
   "execution_count": 505,
   "metadata": {},
   "outputs": [
    {
     "data": {
      "text/plain": [
       "{'C': 0.001, 'max_iter': 100, 'penalty': 'none', 'solver': 'lbfgs'}"
      ]
     },
     "execution_count": 505,
     "metadata": {},
     "output_type": "execute_result"
    }
   ],
   "source": [
    "best_clf.best_params_"
   ]
  },
  {
   "cell_type": "code",
   "execution_count": 644,
   "metadata": {},
   "outputs": [
    {
     "name": "stdout",
     "output_type": "stream",
     "text": [
      "Accuracy - : 0.710\n"
     ]
    }
   ],
   "source": [
    "print (f'Accuracy - : {best_clf.score(x_train,y_train):.3f}')"
   ]
  },
  {
   "cell_type": "code",
   "execution_count": 508,
   "metadata": {},
   "outputs": [
    {
     "data": {
      "text/plain": [
       "LogisticRegression(C=0.001, penalty='none')"
      ]
     },
     "execution_count": 508,
     "metadata": {},
     "output_type": "execute_result"
    }
   ],
   "source": [
    "X_train, X_test, Y_train, Y_test = train_test_split(X_resample, y_resample, test_size=0.2, random_state=3)\n",
    "log = LogisticRegression(C=0.001,max_iter=100,penalty='none')\n",
    "log.fit(X_train,Y_train)"
   ]
  },
  {
   "cell_type": "code",
   "execution_count": 509,
   "metadata": {},
   "outputs": [
    {
     "name": "stdout",
     "output_type": "stream",
     "text": [
      "Slope:\n",
      "[[ 2.55573747e-03  3.93523784e+00 -5.45165268e+00  1.15670830e-01\n",
      "  -9.27989298e-03 -1.04696213e-01 -6.10698772e-02 -1.32194145e+00\n",
      "  -1.14062069e+00  5.08298682e+01]]\n",
      "Intercept:\n",
      "[-0.25450708]\n"
     ]
    }
   ],
   "source": [
    "# slope\n",
    "print(\"Slope:\")\n",
    "print(log.coef_)\n",
    "# slope\n",
    "print(\"Intercept:\")\n",
    "print(log.intercept_)"
   ]
  },
  {
   "cell_type": "code",
   "execution_count": 510,
   "metadata": {},
   "outputs": [
    {
     "name": "stdout",
     "output_type": "stream",
     "text": [
      "Predicted class:\n"
     ]
    },
    {
     "data": {
      "text/plain": [
       "array([0., 1., 1., 1., 1., 0., 1., 1., 1., 0., 1., 1., 0., 0., 0., 1., 1.,\n",
       "       1., 1., 0., 0., 0., 1., 0., 1., 1., 0., 0., 1., 0., 1., 1., 1., 0.,\n",
       "       1., 1., 1., 1., 0., 1., 0., 1., 0., 0., 1., 0., 1., 1., 0., 1., 0.,\n",
       "       1., 0., 0., 0., 1., 0., 1., 0., 0., 1., 0., 0., 1., 0., 1., 0., 1.,\n",
       "       1., 0., 1., 1., 1., 0., 0., 0., 0., 0., 1., 0., 1., 1., 0., 0., 1.,\n",
       "       1., 1., 0., 1., 1., 0., 1., 1., 1., 1., 1., 1., 0., 1., 1., 0., 1.,\n",
       "       0., 0., 0., 1., 1., 0., 0., 1., 0., 0., 0., 1., 0., 0., 1., 1., 0.,\n",
       "       1., 0., 0., 0., 1., 1., 1., 0., 0., 1., 1., 1., 1., 0., 1., 1., 0.,\n",
       "       0., 0., 1., 1., 1., 1., 1., 1., 0., 1., 0., 1., 0., 0., 0., 1., 1.,\n",
       "       1., 1., 1., 0., 0., 1., 0., 1., 0., 1., 1., 1., 0., 0., 1., 1., 1.,\n",
       "       1., 1., 0., 1., 1., 0., 1., 1., 1., 1., 1., 0., 0., 1., 0., 0., 0.,\n",
       "       1., 1., 0., 1., 0., 1., 0., 0., 1., 0., 0., 1., 0., 1., 1., 0., 0.,\n",
       "       0., 0., 0., 1., 0., 1., 0., 1., 1., 0., 1., 0., 0., 1., 0., 1., 1.,\n",
       "       0., 0., 0., 0., 0., 0., 0., 1., 0., 0., 1., 1., 0., 1., 0., 1., 0.,\n",
       "       0., 0., 1., 1., 0., 1., 1., 1., 1., 1., 0., 0., 1., 0., 1., 0., 1.,\n",
       "       1., 1., 0., 1., 1., 0., 0., 0., 0., 1., 0., 0., 0., 0., 0., 1., 1.,\n",
       "       1., 0., 0., 1., 1., 1., 0., 0., 1., 1., 1., 0., 1., 0., 0., 0., 0.,\n",
       "       0., 1., 1., 1., 1., 1., 1., 0., 0., 0., 1., 1., 0., 1., 0., 1., 0.,\n",
       "       1., 1., 0., 0., 0., 0., 1., 1., 1., 1., 0., 0., 1., 0., 0., 0., 0.,\n",
       "       0., 1., 0., 1., 0., 1., 1., 1., 1., 1., 0., 0., 1., 1., 1., 1., 0.,\n",
       "       1., 1., 1., 1., 0., 1., 1., 1., 1., 1., 1., 1., 0., 0., 1., 0., 1.,\n",
       "       0., 0., 1., 1., 1., 0., 1., 0., 1., 1., 1., 0., 0., 1., 0., 1., 0.,\n",
       "       1., 0., 0., 0., 0., 0., 0., 1., 0., 1., 0., 0., 0., 1., 1., 1., 0.,\n",
       "       0., 1., 0., 1., 1., 0., 0., 1., 1., 1., 0., 1., 1., 1., 0., 1., 1.,\n",
       "       1., 1., 0., 1., 0., 1., 0., 0., 0., 0., 1., 1., 1., 0., 1., 1., 1.,\n",
       "       1., 1., 0., 0., 1., 0., 1., 0., 1., 0., 1., 0., 1., 0., 1., 0., 1.,\n",
       "       0., 0., 1., 0., 0., 1., 0., 1., 1., 1., 0., 0., 0., 1., 1., 0., 1.,\n",
       "       0., 0., 0., 0., 0., 0., 0., 1., 1., 1., 0., 0., 0., 0., 0., 1., 0.,\n",
       "       0., 1., 0., 0., 0., 0., 1., 1., 0., 0., 0., 1., 1., 1., 1., 0., 0.,\n",
       "       0., 0., 1., 1., 0., 1., 0., 0., 0., 1., 0., 0., 0., 1., 1., 1., 0.,\n",
       "       0., 1., 0., 0., 0., 0., 0., 0., 0., 1., 0., 1., 0., 1., 1., 0., 0.,\n",
       "       1., 1., 1., 1., 1., 0., 1., 1., 0., 0., 0., 0., 1., 1., 0., 1., 0.,\n",
       "       0., 0., 0., 0., 1., 0., 0., 0., 0., 1., 1., 1., 1., 0., 0., 1., 1.,\n",
       "       0., 1., 0., 1., 0., 1., 0., 0., 1., 0., 0., 0., 1., 0., 0., 0., 0.,\n",
       "       0., 0., 0., 1., 1., 1., 0., 1., 0., 0., 0., 0., 0., 1., 0., 0., 1.,\n",
       "       1., 1., 0., 0., 0., 1., 1., 0., 0., 1., 0., 0., 0., 0., 0., 1., 1.,\n",
       "       1., 1., 0., 1., 0., 0., 1., 0., 0., 1., 1., 0., 1., 1., 1., 0., 0.,\n",
       "       0., 1., 0., 0., 1., 1., 0., 1., 1., 1., 1., 0., 1.])"
      ]
     },
     "execution_count": 510,
     "metadata": {},
     "output_type": "execute_result"
    }
   ],
   "source": [
    "ysmot_pred=log.predict(X_test)\n",
    "print(\"Predicted class:\")\n",
    "ysmot_pred"
   ]
  },
  {
   "cell_type": "code",
   "execution_count": 511,
   "metadata": {},
   "outputs": [
    {
     "name": "stdout",
     "output_type": "stream",
     "text": [
      "Model Score on Training data set 1.0\n",
      "Model Score on Testing data set 1.0\n",
      "Auc on  Training data set 1.0\n",
      "Auc on  Test data set 1.0\n"
     ]
    }
   ],
   "source": [
    "logit_score_train = log.score(X_train,Y_train)\n",
    "print ('Model Score on Training data set', logit_score_train)\n",
    "logit_score_test = log.score(X_test,Y_test)\n",
    "print ('Model Score on Testing data set', logit_score_test)\n",
    "\n",
    "logit_auc_train = roc_auc_score(Y_train,log.predict(X_train))\n",
    "logit_auc_test = roc_auc_score(Y_test,log.predict(X_test))\n",
    "print ('Auc on  Training data set',logit_auc_train)\n",
    "print ('Auc on  Test data set', logit_auc_test)"
   ]
  },
  {
   "cell_type": "code",
   "execution_count": 512,
   "metadata": {},
   "outputs": [
    {
     "name": "stdout",
     "output_type": "stream",
     "text": [
      "Log loss: 17.215589480329314\n",
      "Accuracy score: 0.0\n",
      "Confusion matrix:\n",
      "[[322   0]\n",
      " [  0 320]]\n"
     ]
    }
   ],
   "source": [
    "loss=log_loss(Y_test,log.predict_log_proba(X_test)[:,1])\n",
    "print(\"Log loss:\",loss)\n",
    "print(\"Accuracy score:\",accuracy_score(Y_test,log.predict_log_proba(X_test)[:,1].astype(int)))\n",
    "confusion = confusion_matrix(Y_test,ysmot_pred)\n",
    "print(\"Confusion matrix:\")\n",
    "print(confusion)"
   ]
  },
  {
   "cell_type": "code",
   "execution_count": 513,
   "metadata": {},
   "outputs": [
    {
     "name": "stdout",
     "output_type": "stream",
     "text": [
      "Accuracy: 1.0\n",
      "Recall: 1.0\n",
      "Specificity: 1.0\n",
      "Precision: 1.0\n"
     ]
    }
   ],
   "source": [
    "Accuracy,Recall,Specificity,Precision=confusion__matrix(confusion_smote)\n",
    "print(\"Accuracy:\",Accuracy)\n",
    "print(\"Recall:\",Recall)\n",
    "print(\"Specificity:\",Specificity)\n",
    "print(\"Precision:\",Precision)"
   ]
  },
  {
   "cell_type": "code",
   "execution_count": 514,
   "metadata": {},
   "outputs": [
    {
     "name": "stdout",
     "output_type": "stream",
     "text": [
      "              precision    recall  f1-score   support\n",
      "\n",
      "         0.0       1.00      1.00      1.00       322\n",
      "         1.0       1.00      1.00      1.00       320\n",
      "\n",
      "    accuracy                           1.00       642\n",
      "   macro avg       1.00      1.00      1.00       642\n",
      "weighted avg       1.00      1.00      1.00       642\n",
      "\n"
     ]
    }
   ],
   "source": [
    "print(classification_report(Y_test,log.predict(X_test)) )"
   ]
  },
  {
   "cell_type": "code",
   "execution_count": 515,
   "metadata": {},
   "outputs": [
    {
     "name": "stdout",
     "output_type": "stream",
     "text": [
      "AccuracyScore: [1. 1. 1. 1. 1.]\n",
      "Std of AccuracyScore: 0.0\n",
      "Mean of AccuracyScore: 1.0\n",
      "RocCurveScore: [1. 1. 1. 1. 1.]\n",
      "Std of RocAucCurve 0.0\n",
      "Mean of RocAucCurve 1.0\n"
     ]
    }
   ],
   "source": [
    "AccuracyScore,RocAucCurve=kfoldcrossvalidation(log,X_resample,y_resample)\n",
    "print(\"AccuracyScore:\",AccuracyScore)\n",
    "print(\"Std of AccuracyScore:\",np.std(AccuracyScore))\n",
    "print(\"Mean of AccuracyScore:\",np.mean(AccuracyScore))\n",
    "print(\"RocCurveScore:\",RocAucCurve)\n",
    "print(\"Std of RocAucCurve\",np.std(RocAucCurve))\n",
    "print(\"Mean of RocAucCurve\",np.mean(RocAucCurve))"
   ]
  },
  {
   "cell_type": "code",
   "execution_count": 516,
   "metadata": {},
   "outputs": [
    {
     "data": {
      "image/png": "[encoded data removed]",
      "text/plain": [
       "<Figure size 432x288 with 1 Axes>"
      ]
     },
     "metadata": {},
     "output_type": "display_data"
    }
   ],
   "source": [
    "fpr, tpr, thresholds = roc_curve(Y_test, log.predict(X_test))\n",
    "\n",
    "roc_auc = auc(fpr,tpr)\n",
    "\n",
    "# Plot ROC\n",
    "plt.title('Receiver Operating Characteristic')\n",
    "plt.plot(fpr, tpr, 'b',label='AUC = %0.3f'% roc_auc)\n",
    "plt.legend(loc='lower right')\n",
    "plt.plot([0,1],[0,1],'r--')\n",
    "plt.xlim([-0.1,1.0])\n",
    "plt.ylim([-0.1,1.01])\n",
    "plt.ylabel('True Positive Rate')\n",
    "plt.xlabel('False Positive Rate')\n",
    "plt.show()"
   ]
  },
  {
   "cell_type": "code",
   "execution_count": null,
   "metadata": {},
   "outputs": [],
   "source": []
  }
 ],
 "metadata": {
  "kernelspec": {
   "display_name": "Python 3",
   "language": "python",
   "name": "python3"
  },
  "language_info": {
   "codemirror_mode": {
    "name": "ipython",
    "version": 3
   },
   "file_extension": ".py",
   "mimetype": "text/x-python",
   "name": "python",
   "nbconvert_exporter": "python",
   "pygments_lexer": "ipython3",
   "version": "3.6.5"
  }
 },
 "nbformat": 4,
 "nbformat_minor": 2
}
